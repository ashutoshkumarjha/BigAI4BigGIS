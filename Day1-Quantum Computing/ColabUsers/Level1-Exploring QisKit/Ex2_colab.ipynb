{
  "cells": [
    {
      "cell_type": "markdown",
      "metadata": {
        "id": "J7fxOoibLbxQ"
      },
      "source": [
        "# Ex - 2\n",
        "## BigGIS for BigDATA (Quantum Computing)\n",
        "### Ashutosh Kumar Jha (Scientist/Engineer SF), IIRS, ISRO\n",
        "### Sudikin Pramanik (Quantum computing coordinator), Student, IIRS, ISRO\n",
        "`Concept of Quantum Gates`"
      ]
    },
    {
      "cell_type": "markdown",
      "metadata": {
        "id": "_ICSgT0NLbxV"
      },
      "source": [
        "# Operators and state_vectors\n",
        "\n",
        "Unitary operations can be defined and performed on state vectors in Qiskit using the Operator class\n",
        "\n",
        "\n",
        "### Definition of Quantum Gates\n",
        "- `X`, `Y`, `Z`, `H`, `S`, and `T` are quantum gates represented as operators.\n",
        "- These gates are commonly used in quantum computing:\n",
        "  - `X` is the Pauli-X (or NOT) gate.\n",
        "  - `Y` is the Pauli-Y gate.\n",
        "  - `Z` is the Pauli-Z gate.\n",
        "  - `H` is the Hadamard gate.\n",
        "  - `S` is the Phase gate.\n",
        "  - `T` is the T (π/8) gate.\n",
        "\n",
        "Here’s a brief overview of the matrices used to define these gates:\n",
        "- **X Gate**:\n",
        "  $$\n",
        "  \\begin{bmatrix}\n",
        "  0 & 1 \\\\\n",
        "  1 & 0\n",
        "  \\end{bmatrix}\n",
        "  $$\n",
        "- **Y Gate**:\n",
        "  $$\n",
        "  \\begin{bmatrix}\n",
        "  0 & -i \\\\\n",
        "  i & 0\n",
        "  \\end{bmatrix}\n",
        "  $$\n",
        "- **Z Gate**:\n",
        "  $$\n",
        "  \\begin{bmatrix}\n",
        "  1 & 0 \\\\\n",
        "  0 & -1\n",
        "  \\end{bmatrix}\n",
        "  $$\n",
        "- **Hadamard Gate**:\n",
        "  $$\n",
        "  \\frac{1}{\\sqrt{2}} \\begin{bmatrix}\n",
        "  1 & 1 \\\\\n",
        "  1 & -1\n",
        "  \\end{bmatrix}\n",
        "  $$\n",
        "- **S Gate**:\n",
        "  $$\n",
        "  \\begin{bmatrix}\n",
        "  1 & 0 \\\\\n",
        "  0 & i\n",
        "  \\end{bmatrix}\n",
        "  $$\n",
        "- **T Gate**:\n",
        "  $$\n",
        "  \\begin{bmatrix}\n",
        "  1 & 0 \\\\\n",
        "  0 & \\frac{1 + i}{\\sqrt{2}}\n",
        "  \\end{bmatrix}\n",
        "  $$\n",
        "\n",
        "### Quantum State\n",
        "- `v = Statevector([1, 0])` initializes the quantum state as $ |0\\rangle $, represented as a column vector:\n",
        "  $$\n",
        "  \\begin{bmatrix}1 \\\\ 0\\end{bmatrix}\n",
        "  $$\n",
        "\n",
        "### Sequential Application of Gates\n",
        "- `v = v.evolve(H)` applies the Hadamard gate $ H $ to the state vector $ v $.\n",
        "- The result of this operation becomes the new state vector.\n",
        "- This process is repeated with the `T`, `H`, `T`, and `Z` gates, applying each gate in sequence to the updated state vector.\n",
        "\n",
        "### Final State Vector\n",
        "- After all the gates are applied in sequence, $ v $ represents the final state of the quantum system.\n",
        "- `v.draw(\"text\")` provides a textual representation of the final state vector.\n",
        "\n",
        "### Sequential Application Explained\n",
        "\n",
        "In quantum computing, gates are applied sequentially to a quantum state. Each gate transforms the state vector according to its matrix representation. When you apply multiple gates, you effectively compute a combined operation, where the final state is influenced by all the gates applied in the given order.\n",
        "\n",
        "For this specific code:\n",
        "1. **Initial State**: $$\n",
        "   \\begin{bmatrix}1 \\\\ 0\\end{bmatrix}\n",
        "   $$\n",
        "2. **Apply H**: Transforms the state vector.\n",
        "3. **Apply T**: Further transforms the state.\n",
        "4. **Apply H**: Applies another Hadamard transformation.\n",
        "5. **Apply T**: Applies the T gate again.\n",
        "6. **Apply Z**: Applies the Pauli-Z gate as the final operation.\n",
        "\n",
        "Each step modifies the quantum state, and the final output is the result of these sequential operations."
      ]
    },
    {
      "cell_type": "code",
      "source": [
        "from google.colab import drive\n",
        "drive.mount('/content/drive')"
      ],
      "metadata": {
        "colab": {
          "base_uri": "https://localhost:8080/"
        },
        "id": "VUuqlkyMFE_c",
        "outputId": "d0d5d075-8318-45db-988e-7ccc40e2f363"
      },
      "execution_count": 1,
      "outputs": [
        {
          "output_type": "stream",
          "name": "stdout",
          "text": [
            "Mounted at /content/drive\n"
          ]
        }
      ]
    },
    {
      "cell_type": "code",
      "source": [
        "!pip install qiskit"
      ],
      "metadata": {
        "colab": {
          "base_uri": "https://localhost:8080/"
        },
        "id": "rFDpZd6ULh1Q",
        "outputId": "7f770a6c-31f1-4c95-90a0-104a9c56b083"
      },
      "execution_count": 5,
      "outputs": [
        {
          "output_type": "stream",
          "name": "stdout",
          "text": [
            "Requirement already satisfied: qiskit in /usr/local/lib/python3.10/dist-packages (1.3.1)\n",
            "Requirement already satisfied: rustworkx>=0.15.0 in /usr/local/lib/python3.10/dist-packages (from qiskit) (0.15.1)\n",
            "Requirement already satisfied: numpy<3,>=1.17 in /usr/local/lib/python3.10/dist-packages (from qiskit) (1.26.4)\n",
            "Requirement already satisfied: scipy>=1.5 in /usr/local/lib/python3.10/dist-packages (from qiskit) (1.13.1)\n",
            "Requirement already satisfied: sympy>=1.3 in /usr/local/lib/python3.10/dist-packages (from qiskit) (1.13.1)\n",
            "Requirement already satisfied: dill>=0.3 in /usr/local/lib/python3.10/dist-packages (from qiskit) (0.3.9)\n",
            "Requirement already satisfied: python-dateutil>=2.8.0 in /usr/local/lib/python3.10/dist-packages (from qiskit) (2.8.2)\n",
            "Requirement already satisfied: stevedore>=3.0.0 in /usr/local/lib/python3.10/dist-packages (from qiskit) (5.4.0)\n",
            "Requirement already satisfied: typing-extensions in /usr/local/lib/python3.10/dist-packages (from qiskit) (4.12.2)\n",
            "Requirement already satisfied: symengine<0.14,>=0.11 in /usr/local/lib/python3.10/dist-packages (from qiskit) (0.13.0)\n",
            "Requirement already satisfied: six>=1.5 in /usr/local/lib/python3.10/dist-packages (from python-dateutil>=2.8.0->qiskit) (1.17.0)\n",
            "Requirement already satisfied: pbr>=2.0.0 in /usr/local/lib/python3.10/dist-packages (from stevedore>=3.0.0->qiskit) (6.1.0)\n",
            "Requirement already satisfied: mpmath<1.4,>=1.1.0 in /usr/local/lib/python3.10/dist-packages (from sympy>=1.3->qiskit) (1.3.0)\n"
          ]
        }
      ]
    },
    {
      "cell_type": "code",
      "execution_count": 6,
      "metadata": {
        "id": "ffpygqbWLbxY"
      },
      "outputs": [],
      "source": [
        "from numpy import array, matmul, sqrt\n",
        "from IPython.display import display, Math\n",
        "from qiskit.quantum_info import Statevector\n",
        "from qiskit.visualization import plot_histogram\n",
        "from qiskit import QuantumCircuit"
      ]
    },
    {
      "cell_type": "code",
      "execution_count": 15,
      "metadata": {
        "colab": {
          "base_uri": "https://localhost:8080/",
          "height": 35
        },
        "id": "C_3Iyk-2Lbxb",
        "outputId": "b29fc4c2-1955-4877-c674-b7536cbe984b"
      },
      "outputs": [
        {
          "output_type": "execute_result",
          "data": {
            "text/plain": [
              "'Statevector([ 0.85355339+0.35355339j, -0.35355339+0.14644661j],\\n            dims=(2,))'"
            ],
            "application/vnd.google.colaboratory.intrinsic+json": {
              "type": "string"
            }
          },
          "metadata": {},
          "execution_count": 15
        }
      ],
      "source": [
        "from qiskit.quantum_info import Operator, Statevector\n",
        "from math import sqrt\n",
        "\n",
        "# Define operators\n",
        "X = Operator([[0, 1], [1, 0]])\n",
        "Y = Operator([[0, -1.0j], [1.0j, 0]])\n",
        "Z = Operator([[1, 0], [0, -1]])\n",
        "H = Operator([[1 / sqrt(2), 1 / sqrt(2)], [1 / sqrt(2), -1 / sqrt(2)]])\n",
        "S = Operator([[1, 0], [0, 1.0j]])\n",
        "T = Operator([[1, 0], [0, (1 + 1.0j) / sqrt(2)]])\n",
        "\n",
        "# Define initial state\n",
        "v = Statevector([1, 0])\n",
        "\n",
        "# Apply operators\n",
        "v = v.evolve(H)\n",
        "v = v.evolve(T)\n",
        "v = v.evolve(H)\n",
        "v = v.evolve(T)\n",
        "v = v.evolve(Z)\n",
        "\n",
        "v.draw()\n",
        "# Draw the statevector\n",
        "v.draw(\"latex\")\n"
      ]
    },
    {
      "cell_type": "markdown",
      "metadata": {
        "id": "j0qWPyRyLbxd"
      },
      "source": [
        "Forming a basic quantum circuit"
      ]
    },
    {
      "cell_type": "code",
      "execution_count": 10,
      "metadata": {
        "colab": {
          "base_uri": "https://localhost:8080/",
          "height": 63
        },
        "id": "VWpu3q4ZLbxe",
        "outputId": "648ca050-5f4c-4403-a919-d613cec70d31"
      },
      "outputs": [
        {
          "output_type": "execute_result",
          "data": {
            "text/plain": [
              "   ┌───┐┌───┐┌───┐┌───┐┌───┐\n",
              "q: ┤ H ├┤ T ├┤ H ├┤ T ├┤ Z ├\n",
              "   └───┘└───┘└───┘└───┘└───┘"
            ],
            "text/html": [
              "<pre style=\"word-wrap: normal;white-space: pre;background: #fff0;line-height: 1.1;font-family: &quot;Courier New&quot;,Courier,monospace\">   ┌───┐┌───┐┌───┐┌───┐┌───┐\n",
              "q: ┤ H ├┤ T ├┤ H ├┤ T ├┤ Z ├\n",
              "   └───┘└───┘└───┘└───┘└───┘</pre>"
            ]
          },
          "metadata": {},
          "execution_count": 10
        }
      ],
      "source": [
        "from qiskit import QuantumCircuit\n",
        "\n",
        "circuit = QuantumCircuit(1)\n",
        "\n",
        "circuit.h(0)\n",
        "circuit.t(0)\n",
        "circuit.h(0)\n",
        "circuit.t(0)\n",
        "circuit.z(0)\n",
        "\n",
        "circuit.draw()"
      ]
    },
    {
      "cell_type": "markdown",
      "metadata": {
        "id": "eeOdlCnsLbxg"
      },
      "source": [
        "Performing a simple sequential quantum operation"
      ]
    },
    {
      "cell_type": "code",
      "execution_count": 11,
      "metadata": {
        "colab": {
          "base_uri": "https://localhost:8080/"
        },
        "id": "8FlilTN_Lbxh",
        "outputId": "4977c3fd-3eb4-4f1a-93d8-632e5d815adf"
      },
      "outputs": [
        {
          "output_type": "execute_result",
          "data": {
            "text/plain": [
              "[ 0.85355339+0.35355339j,-0.35355339+0.14644661j]"
            ]
          },
          "metadata": {},
          "execution_count": 11
        }
      ],
      "source": [
        "ket0=Statevector([1,0])\n",
        "v=ket0.evolve(circuit)\n",
        "v.draw(\"text\")"
      ]
    },
    {
      "cell_type": "markdown",
      "metadata": {
        "id": "Yv3ExPb_Lbxi"
      },
      "source": [
        "Getting the statistics of the result"
      ]
    },
    {
      "cell_type": "code",
      "execution_count": 12,
      "metadata": {
        "colab": {
          "base_uri": "https://localhost:8080/",
          "height": 429
        },
        "id": "Y_p4QYNhLbxk",
        "outputId": "c1c288ee-7bac-4608-fea6-01ea185e8eae"
      },
      "outputs": [
        {
          "output_type": "execute_result",
          "data": {
            "text/plain": [
              "<Figure size 640x480 with 1 Axes>"
            ],
            "image/png": "[encoded data removed]"
          },
          "metadata": {},
          "execution_count": 12
        }
      ],
      "source": [
        "statistics = v.sample_counts(1000)\n",
        "plot_histogram(statistics)"
      ]
    }
  ],
  "metadata": {
    "kernelspec": {
      "display_name": "qenv31109",
      "language": "python",
      "name": "python3"
    },
    "language_info": {
      "codemirror_mode": {
        "name": "ipython",
        "version": 3
      },
      "file_extension": ".py",
      "mimetype": "text/x-python",
      "name": "python",
      "nbconvert_exporter": "python",
      "pygments_lexer": "ipython3",
      "version": "3.11.9"
    },
    "colab": {
      "provenance": []
    }
  },
  "nbformat": 4,
  "nbformat_minor": 0
}