{
 "cells": [
  {
   "cell_type": "markdown",
   "metadata": {},
   "source": [
    "# Ex - 2\n",
    "## BigGIS for BigDATA (Quantum Computing)\n",
    "### Ashutosh Kumar Jha (Scientist/Engineer SF), IIRS, ISRO\n",
    "### Sudikin Pramanik (Quantum computing coordinator), Student, IIRS, ISRO\n",
    "`Concept of Quantum Gates`"
   ]
  },
  {
   "cell_type": "markdown",
   "metadata": {},
   "source": [
    "# Operators and state_vectors\n",
    "\n",
    "Unitary operations can be defined and performed on state vectors in Qiskit using the Operator class\n",
    "\n",
    "\n",
    "### Definition of Quantum Gates\n",
    "- `X`, `Y`, `Z`, `H`, `S`, and `T` are quantum gates represented as operators.\n",
    "- These gates are commonly used in quantum computing:\n",
    "  - `X` is the Pauli-X (or NOT) gate.\n",
    "  - `Y` is the Pauli-Y gate.\n",
    "  - `Z` is the Pauli-Z gate.\n",
    "  - `H` is the Hadamard gate.\n",
    "  - `S` is the Phase gate.\n",
    "  - `T` is the T (π/8) gate.\n",
    "\n",
    "Here’s a brief overview of the matrices used to define these gates:\n",
    "- **X Gate**:\n",
    "  $$\n",
    "  \\begin{bmatrix}\n",
    "  0 & 1 \\\\\n",
    "  1 & 0\n",
    "  \\end{bmatrix}\n",
    "  $$\n",
    "- **Y Gate**:\n",
    "  $$\n",
    "  \\begin{bmatrix}\n",
    "  0 & -i \\\\\n",
    "  i & 0\n",
    "  \\end{bmatrix}\n",
    "  $$\n",
    "- **Z Gate**:\n",
    "  $$\n",
    "  \\begin{bmatrix}\n",
    "  1 & 0 \\\\\n",
    "  0 & -1\n",
    "  \\end{bmatrix}\n",
    "  $$\n",
    "- **Hadamard Gate**:\n",
    "  $$\n",
    "  \\frac{1}{\\sqrt{2}} \\begin{bmatrix}\n",
    "  1 & 1 \\\\\n",
    "  1 & -1\n",
    "  \\end{bmatrix}\n",
    "  $$\n",
    "- **S Gate**:\n",
    "  $$\n",
    "  \\begin{bmatrix}\n",
    "  1 & 0 \\\\\n",
    "  0 & i\n",
    "  \\end{bmatrix}\n",
    "  $$\n",
    "- **T Gate**:\n",
    "  $$\n",
    "  \\begin{bmatrix}\n",
    "  1 & 0 \\\\\n",
    "  0 & \\frac{1 + i}{\\sqrt{2}}\n",
    "  \\end{bmatrix}\n",
    "  $$\n",
    "\n",
    "### Quantum State\n",
    "- `v = Statevector([1, 0])` initializes the quantum state as $ |0\\rangle $, represented as a column vector:\n",
    "  $$\n",
    "  \\begin{bmatrix}1 \\\\ 0\\end{bmatrix}\n",
    "  $$\n",
    "\n",
    "### Sequential Application of Gates\n",
    "- `v = v.evolve(H)` applies the Hadamard gate $ H $ to the state vector $ v $.\n",
    "- The result of this operation becomes the new state vector.\n",
    "- This process is repeated with the `T`, `H`, `T`, and `Z` gates, applying each gate in sequence to the updated state vector.\n",
    "\n",
    "### Final State Vector\n",
    "- After all the gates are applied in sequence, $ v $ represents the final state of the quantum system.\n",
    "- `v.draw(\"text\")` provides a textual representation of the final state vector.\n",
    "\n",
    "### Sequential Application Explained\n",
    "\n",
    "In quantum computing, gates are applied sequentially to a quantum state. Each gate transforms the state vector according to its matrix representation. When you apply multiple gates, you effectively compute a combined operation, where the final state is influenced by all the gates applied in the given order.\n",
    "\n",
    "For this specific code:\n",
    "1. **Initial State**: $$\n",
    "   \\begin{bmatrix}1 \\\\ 0\\end{bmatrix}\n",
    "   $$\n",
    "2. **Apply H**: Transforms the state vector.\n",
    "3. **Apply T**: Further transforms the state.\n",
    "4. **Apply H**: Applies another Hadamard transformation.\n",
    "5. **Apply T**: Applies the T gate again.\n",
    "6. **Apply Z**: Applies the Pauli-Z gate as the final operation.\n",
    "\n",
    "Each step modifies the quantum state, and the final output is the result of these sequential operations."
   ]
  },
  {
   "cell_type": "code",
   "execution_count": 1,
   "metadata": {},
   "outputs": [],
   "source": [
    "from numpy import array, matmul, sqrt\n",
    "from IPython.display import display, Math\n",
    "from qiskit.quantum_info import Operator, Statevector\n",
    "from qiskit.visualization import plot_histogram\n",
    "from qiskit import QuantumCircuit"
   ]
  },
  {
   "cell_type": "code",
   "execution_count": 2,
   "metadata": {},
   "outputs": [
    {
     "data": {
      "text/latex": [
       "$$(0.8535533906 + 0.3535533906 i) |0\\rangle+(-0.3535533906 + 0.1464466094 i) |1\\rangle$$"
      ],
      "text/plain": [
       "<IPython.core.display.Latex object>"
      ]
     },
     "execution_count": 2,
     "metadata": {},
     "output_type": "execute_result"
    }
   ],
   "source": [
    "\n",
    "X = Operator([[0, 1], [1, 0]])\n",
    "Y = Operator([[0, -1.0j], [1.0j, 0]])\n",
    "Z = Operator([[1, 0], [0, -1]])\n",
    "H = Operator([[1 / sqrt(2), 1 / sqrt(2)], [1 / sqrt(2), -1 / sqrt(2)]])\n",
    "S = Operator([[1, 0], [0, 1.0j]])\n",
    "T = Operator([[1, 0], [0, (1 + 1.0j) / sqrt(2)]])\n",
    "\n",
    "v = Statevector([1, 0])\n",
    "\n",
    "v = v.evolve(H)\n",
    "v = v.evolve(T)\n",
    "v = v.evolve(H)\n",
    "v = v.evolve(T)\n",
    "v = v.evolve(Z)\n",
    "\n",
    "v.draw(\"latex\")"
   ]
  },
  {
   "cell_type": "markdown",
   "metadata": {},
   "source": [
    "Forming a basic quantum circuit"
   ]
  },
  {
   "cell_type": "code",
   "execution_count": 3,
   "metadata": {},
   "outputs": [
    {
     "data": {
      "image/png": "[encoded data removed]",
      "text/plain": [
       "<Figure size 519.897x117.056 with 1 Axes>"
      ]
     },
     "execution_count": 3,
     "metadata": {},
     "output_type": "execute_result"
    }
   ],
   "source": [
    "from qiskit import QuantumCircuit\n",
    "\n",
    "circuit = QuantumCircuit(1)\n",
    "\n",
    "circuit.h(0)\n",
    "circuit.t(0)\n",
    "circuit.h(0)\n",
    "circuit.t(0)\n",
    "circuit.z(0)\n",
    "\n",
    "circuit.draw('mpl')"
   ]
  },
  {
   "cell_type": "markdown",
   "metadata": {},
   "source": [
    "Performing a simple sequential quantum operation"
   ]
  },
  {
   "cell_type": "code",
   "execution_count": 4,
   "metadata": {},
   "outputs": [
    {
     "data": {
      "text/plain": [
       "[ 0.85355339+0.35355339j,-0.35355339+0.14644661j]"
      ]
     },
     "execution_count": 4,
     "metadata": {},
     "output_type": "execute_result"
    }
   ],
   "source": [
    "ket0=Statevector([1,0])\n",
    "v=ket0.evolve(circuit)\n",
    "v.draw(\"text\")"
   ]
  },
  {
   "cell_type": "markdown",
   "metadata": {},
   "source": [
    "Getting the statistics of the result"
   ]
  },
  {
   "cell_type": "code",
   "execution_count": 5,
   "metadata": {},
   "outputs": [
    {
     "data": {
      "image/png": "[encoded data removed]",
      "text/plain": [
       "<Figure size 640x480 with 1 Axes>"
      ]
     },
     "execution_count": 5,
     "metadata": {},
     "output_type": "execute_result"
    }
   ],
   "source": [
    "statistics = v.sample_counts(1000)\n",
    "plot_histogram(statistics)"
   ]
  }
 ],
 "metadata": {
  "kernelspec": {
   "display_name": "qenv311",
   "language": "python",
   "name": "python3"
  },
  "language_info": {
   "codemirror_mode": {
    "name": "ipython",
    "version": 3
   },
   "file_extension": ".py",
   "mimetype": "text/x-python",
   "name": "python",
   "nbconvert_exporter": "python",
   "pygments_lexer": "ipython3",
   "version": "3.11.9"
  }
 },
 "nbformat": 4,
 "nbformat_minor": 2
}
