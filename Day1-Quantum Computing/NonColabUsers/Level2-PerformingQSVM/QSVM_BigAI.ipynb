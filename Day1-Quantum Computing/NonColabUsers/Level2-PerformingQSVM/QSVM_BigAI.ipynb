{
 "cells": [
  {
   "cell_type": "markdown",
   "metadata": {},
   "source": [
    "# Ex - 5\n",
    "## BigGIS for BigDATA (Quantum Computing)\n",
    "### Ashutosh Kumar Jha (Scientist/Engineer SF), IIRS, ISRO\n",
    "### Sudikin Pramanik (Quantum computing coordinator), Student, IIRS, ISRO\n",
    "`Quantum Machine learning`"
   ]
  },
  {
   "cell_type": "markdown",
   "metadata": {},
   "source": [
    "Loading important libraries"
   ]
  },
  {
   "cell_type": "code",
   "execution_count": 1,
   "metadata": {},
   "outputs": [],
   "source": [
    "import numpy as np\n",
    "import pandas as pd\n",
    "import matplotlib.pyplot as plt\n",
    "from sklearn.preprocessing import StandardScaler\n",
    "from sklearn.decomposition import PCA\n",
    "from sklearn.model_selection import train_test_split\n",
    "from sklearn.metrics import accuracy_score, classification_report\n",
    "from qiskit_aer import Aer\n",
    "from qiskit.circuit.library import ZZFeatureMap\n",
    "from qiskit_machine_learning.algorithms import QSVC\n",
    "from qiskit_machine_learning.kernels import FidelityQuantumKernel"
   ]
  },
  {
   "cell_type": "code",
   "execution_count": 2,
   "metadata": {},
   "outputs": [
    {
     "name": "stdout",
     "output_type": "stream",
     "text": [
      "# packages in environment at C:\\Users\\opoda\\.conda\\envs\\qenv311:\n",
      "#\n",
      "# Name                    Version                   Build  Channel\n",
      "annotated-types           0.7.0                    pypi_0    pypi\n",
      "antlr4-python3-runtime    4.13.2                   pypi_0    pypi\n",
      "asttokens                 2.4.1              pyhd8ed1ab_0    conda-forge\n",
      "backoff                   2.2.1                    pypi_0    pypi\n",
      "brotli                    1.1.0                h2466b09_2    conda-forge\n",
      "brotli-bin                1.1.0                h2466b09_2    conda-forge\n",
      "bzip2                     1.0.8                h2466b09_7    conda-forge\n",
      "ca-certificates           2024.8.30            h56e8100_0    conda-forge\n",
      "cairo                     1.18.0               h32b962e_3    conda-forge\n",
      "certifi                   2024.8.30          pyhd8ed1ab_0    conda-forge\n",
      "cffi                      1.17.0                   pypi_0    pypi\n",
      "charset-normalizer        3.3.2                    pypi_0    pypi\n",
      "colorama                  0.4.6              pyhd8ed1ab_0    conda-forge\n",
      "comm                      0.2.2              pyhd8ed1ab_0    conda-forge\n",
      "contourpy                 1.2.1                    pypi_0    pypi\n",
      "cryptography              43.0.0                   pypi_0    pypi\n",
      "cycler                    0.12.1             pyhd8ed1ab_0    conda-forge\n",
      "debugpy                   1.8.5           py311hda3d55a_0    conda-forge\n",
      "decorator                 5.1.1              pyhd8ed1ab_0    conda-forge\n",
      "dill                      0.3.8                    pypi_0    pypi\n",
      "double-conversion         3.3.0                h63175ca_0    conda-forge\n",
      "earthpy                   0.9.4                    pypi_0    pypi\n",
      "exceptiongroup            1.2.2              pyhd8ed1ab_0    conda-forge\n",
      "executing                 2.0.1              pyhd8ed1ab_0    conda-forge\n",
      "fastdtw                   0.3.4                    pypi_0    pypi\n",
      "fastjsonschema            2.20.0                   pypi_0    pypi\n",
      "font-ttf-dejavu-sans-mono 2.37                 hab24e00_0    conda-forge\n",
      "font-ttf-inconsolata      3.000                h77eed37_0    conda-forge\n",
      "font-ttf-source-code-pro  2.038                h77eed37_0    conda-forge\n",
      "font-ttf-ubuntu           0.83                 h77eed37_3    conda-forge\n",
      "fontconfig                2.15.0               h765892d_1    conda-forge\n",
      "fonts-conda-ecosystem     1                             0    conda-forge\n",
      "fonts-conda-forge         1                             0    conda-forge\n",
      "fonttools                 4.53.1                   pypi_0    pypi\n",
      "freetype                  2.12.1               hdaf720e_2    conda-forge\n",
      "graphite2                 1.3.13            h63175ca_1003    conda-forge\n",
      "harfbuzz                  9.0.0                h2bedf89_1    conda-forge\n",
      "ibm-cloud-sdk-core        3.20.6                   pypi_0    pypi\n",
      "ibm-platform-services     0.56.0                   pypi_0    pypi\n",
      "icu                       75.1                 he0c23c2_0    conda-forge\n",
      "idna                      3.7                      pypi_0    pypi\n",
      "imageio                   2.36.0                   pypi_0    pypi\n",
      "importlib-metadata        8.2.0              pyha770c72_0    conda-forge\n",
      "importlib_metadata        8.2.0                hd8ed1ab_0    conda-forge\n",
      "intel-openmp              2024.2.1          h57928b3_1083    conda-forge\n",
      "ipycytoscape              1.3.3                    pypi_0    pypi\n",
      "ipykernel                 6.29.5             pyh4bbf305_0    conda-forge\n",
      "ipython                   8.26.0             pyh7428d3b_0    conda-forge\n",
      "ipywidgets                8.1.5                    pypi_0    pypi\n",
      "jedi                      0.19.1             pyhd8ed1ab_0    conda-forge\n",
      "joblib                    1.4.2                    pypi_0    pypi\n",
      "jsonpickle                3.0.3                    pypi_0    pypi\n",
      "jsonschema                4.23.0                   pypi_0    pypi\n",
      "jsonschema-specifications 2023.12.1                pypi_0    pypi\n",
      "jupyter_client            8.6.2              pyhd8ed1ab_0    conda-forge\n",
      "jupyter_core              5.7.2           py311h1ea47a8_0    conda-forge\n",
      "jupyterlab-widgets        3.0.13                   pypi_0    pypi\n",
      "kiwisolver                1.4.5                    pypi_0    pypi\n",
      "krb5                      1.21.3               hdf4eb48_0    conda-forge\n",
      "lazy-loader               0.4                      pypi_0    pypi\n",
      "lcms2                     2.16                 h67d730c_0    conda-forge\n",
      "lerc                      4.0.0                h63175ca_0    conda-forge\n",
      "libblas                   3.9.0              25_win64_mkl    conda-forge\n",
      "libbrotlicommon           1.1.0                h2466b09_2    conda-forge\n",
      "libbrotlidec              1.1.0                h2466b09_2    conda-forge\n",
      "libbrotlienc              1.1.0                h2466b09_2    conda-forge\n",
      "libcblas                  3.9.0              25_win64_mkl    conda-forge\n",
      "libclang13                19.1.4          default_ha5278ca_0    conda-forge\n",
      "libdeflate                1.22                 h2466b09_0    conda-forge\n",
      "libexpat                  2.6.3                he0c23c2_0    conda-forge\n",
      "libffi                    3.4.2                h8ffe710_5    conda-forge\n",
      "libglib                   2.82.2               h7025463_0    conda-forge\n",
      "libhwloc                  2.11.1          default_h8125262_1000    conda-forge\n",
      "libiconv                  1.17                 hcfcfb64_2    conda-forge\n",
      "libintl                   0.22.5               h5728263_3    conda-forge\n",
      "libjpeg-turbo             3.0.0                hcfcfb64_1    conda-forge\n",
      "liblapack                 3.9.0              25_win64_mkl    conda-forge\n",
      "libpng                    1.6.44               h3ca93ac_0    conda-forge\n",
      "libsodium                 1.0.18               h8d14728_1    conda-forge\n",
      "libsqlite                 3.46.1               h2466b09_0    conda-forge\n",
      "libtiff                   4.7.0                hfc51747_1    conda-forge\n",
      "libwebp-base              1.4.0                hcfcfb64_0    conda-forge\n",
      "libxcb                    1.16                 h013a479_1    conda-forge\n",
      "libxml2                   2.13.5               h442d1da_0    conda-forge\n",
      "libxslt                   1.1.39               h3df6e99_0    conda-forge\n",
      "libzlib                   1.3.1                h2466b09_1    conda-forge\n",
      "m2w64-gcc-libgfortran     5.3.0                         6    conda-forge\n",
      "m2w64-gcc-libs            5.3.0                         7    conda-forge\n",
      "m2w64-gcc-libs-core       5.3.0                         7    conda-forge\n",
      "m2w64-gmp                 6.1.0                         2    conda-forge\n",
      "m2w64-libwinpthread-git   5.0.0.4634.697f757               2    conda-forge\n",
      "matplotlib                3.9.2           py311h1ea47a8_2    conda-forge\n",
      "matplotlib-base           3.9.2           py311h8f1b1e4_2    conda-forge\n",
      "matplotlib-inline         0.1.7              pyhd8ed1ab_0    conda-forge\n",
      "mkl                       2024.2.2            h66d3029_14    conda-forge\n",
      "mlxtend                   0.23.3                   pypi_0    pypi\n",
      "mpmath                    1.3.0                    pypi_0    pypi\n",
      "msys2-conda-epoch         20160418                      1    conda-forge\n",
      "munkres                   1.1.4              pyh9f0ad1d_0    conda-forge\n",
      "nbformat                  5.10.4                   pypi_0    pypi\n",
      "nest-asyncio              1.6.0              pyhd8ed1ab_0    conda-forge\n",
      "networkx                  3.2.1                    pypi_0    pypi\n",
      "numpy                     1.26.4          py311h0b4df5a_0    conda-forge\n",
      "openjpeg                  2.5.2                h3d672ee_0    conda-forge\n",
      "openqasm3                 0.5.0                    pypi_0    pypi\n",
      "openssl                   3.4.0                h2466b09_0    conda-forge\n",
      "packaging                 24.1               pyhd8ed1ab_0    conda-forge\n",
      "pandas                    2.2.3           py311hcf9f919_1    conda-forge\n",
      "parso                     0.8.4              pyhd8ed1ab_0    conda-forge\n",
      "pcre2                     10.44                h3d7b363_2    conda-forge\n",
      "pickleshare               0.7.5                   py_1003    conda-forge\n",
      "pillow                    10.4.0          py311h5592be9_1    conda-forge\n",
      "pip                       24.2               pyhd8ed1ab_0    conda-forge\n",
      "pip-review                1.3.0                    pypi_0    pypi\n",
      "pixman                    0.43.4               h63175ca_0    conda-forge\n",
      "platformdirs              4.2.2              pyhd8ed1ab_0    conda-forge\n",
      "plotly                    5.23.0                   pypi_0    pypi\n",
      "prompt-toolkit            3.0.47             pyha770c72_0    conda-forge\n",
      "psutil                    6.0.0           py311he736701_0    conda-forge\n",
      "pthread-stubs             0.4               hcd874cb_1001    conda-forge\n",
      "pthreads-win32            2.9.1                h2466b09_4    conda-forge\n",
      "pure_eval                 0.2.3              pyhd8ed1ab_0    conda-forge\n",
      "pycparser                 2.22                     pypi_0    pypi\n",
      "pydantic                  2.8.2                    pypi_0    pypi\n",
      "pydantic-core             2.20.1                   pypi_0    pypi\n",
      "pydot                     3.0.1                    pypi_0    pypi\n",
      "pygments                  2.18.0             pyhd8ed1ab_0    conda-forge\n",
      "pyjwt                     2.9.0                    pypi_0    pypi\n",
      "pylatexenc                2.10                     pypi_0    pypi\n",
      "pyparsing                 3.1.2                    pypi_0    pypi\n",
      "pyside6                   6.8.0.2         py311h4238720_0    conda-forge\n",
      "pyspnego                  0.11.1                   pypi_0    pypi\n",
      "python                    3.11.9          h631f459_0_cpython    conda-forge\n",
      "python-dateutil           2.9.0.post0              pypi_0    pypi\n",
      "python-graphviz           0.20.3                   pypi_0    pypi\n",
      "python-tzdata             2024.2             pyhd8ed1ab_0    conda-forge\n",
      "python_abi                3.11                    4_cp311    conda-forge\n",
      "pytz                      2024.1             pyhd8ed1ab_0    conda-forge\n",
      "pywin32                   306             py311h12c1d0e_2    conda-forge\n",
      "pyzmq                     26.1.0          py311h484c95c_0    conda-forge\n",
      "qc-grader                 0.20.1                   pypi_0    pypi\n",
      "qhull                     2020.2               hc790b64_5    conda-forge\n",
      "qiskit                    1.2.1                    pypi_0    pypi\n",
      "qiskit-aer                0.14.2                   pypi_0    pypi\n",
      "qiskit-algorithms         0.3.1                    pypi_0    pypi\n",
      "qiskit-ibm-runtime        0.27.1                   pypi_0    pypi\n",
      "qiskit-machine-learning   0.8.0                    pypi_0    pypi\n",
      "qiskit-qasm3-import       0.5.0                    pypi_0    pypi\n",
      "qiskit-transpiler-service 0.4.5                    pypi_0    pypi\n",
      "qt6-main                  6.8.0                hfb098fa_0    conda-forge\n",
      "referencing               0.35.1                   pypi_0    pypi\n",
      "requests                  2.32.3                   pypi_0    pypi\n",
      "requests-ntlm             1.3.0                    pypi_0    pypi\n",
      "rpds-py                   0.20.0                   pypi_0    pypi\n",
      "scikit-image              0.24.0                   pypi_0    pypi\n",
      "scikit-learn              1.5.2                    pypi_0    pypi\n",
      "scipy                     1.14.0                   pypi_0    pypi\n",
      "seaborn                   0.13.2                   pypi_0    pypi\n",
      "setuptools                72.1.0             pyhd8ed1ab_0    conda-forge\n",
      "six                       1.16.0             pyh6c4a22f_0    conda-forge\n",
      "spectate                  1.0.1                    pypi_0    pypi\n",
      "sspilib                   0.1.0                    pypi_0    pypi\n",
      "stack_data                0.6.2              pyhd8ed1ab_0    conda-forge\n",
      "stevedore                 5.2.0                    pypi_0    pypi\n",
      "sympy                     1.13.2                   pypi_0    pypi\n",
      "tbb                       2021.13.0            hc790b64_0    conda-forge\n",
      "tenacity                  9.0.0                    pypi_0    pypi\n",
      "threadpoolctl             3.5.0                    pypi_0    pypi\n",
      "tifffile                  2024.9.20                pypi_0    pypi\n",
      "tk                        8.6.13               h5226925_1    conda-forge\n",
      "tornado                   6.4.1           py311he736701_0    conda-forge\n",
      "tqdm                      4.67.1                   pypi_0    pypi\n",
      "traitlets                 5.14.3             pyhd8ed1ab_0    conda-forge\n",
      "typeguard                 4.3.0                    pypi_0    pypi\n",
      "typing_extensions         4.12.2             pyha770c72_0    conda-forge\n",
      "tzdata                    2024a                h0c530f3_0    conda-forge\n",
      "ucrt                      10.0.22621.0         h57928b3_0    conda-forge\n",
      "unicodedata2              15.1.0          py311he736701_1    conda-forge\n",
      "urllib3                   2.2.2                    pypi_0    pypi\n",
      "vc                        14.3                h8a93ad2_20    conda-forge\n",
      "vc14_runtime              14.40.33810         ha82c5b3_20    conda-forge\n",
      "vs2015_runtime            14.40.33810         h3bf8584_20    conda-forge\n",
      "wcwidth                   0.2.13             pyhd8ed1ab_0    conda-forge\n",
      "websocket-client          1.8.0                    pypi_0    pypi\n",
      "wheel                     0.44.0             pyhd8ed1ab_0    conda-forge\n",
      "widgetsnbextension        4.0.13                   pypi_0    pypi\n",
      "xorg-libxau               1.0.11               hcd874cb_0    conda-forge\n",
      "xorg-libxdmcp             1.1.3                hcd874cb_0    conda-forge\n",
      "xz                        5.2.6                h8d14728_0    conda-forge\n",
      "zeromq                    4.3.5                he1f189c_4    conda-forge\n",
      "zipp                      3.19.2             pyhd8ed1ab_0    conda-forge\n",
      "zlib                      1.3.1                h2466b09_1    conda-forge\n",
      "zstd                      1.5.6                h0ea2cb4_0    conda-forge\n"
     ]
    }
   ],
   "source": [
    "!conda list"
   ]
  },
  {
   "cell_type": "code",
   "execution_count": 3,
   "metadata": {},
   "outputs": [
    {
     "name": "stdout",
     "output_type": "stream",
     "text": [
      "   band1   band2   band3    band4  label\n",
      "0  78.25  294.75  313.75  1804.00      1\n",
      "1  86.00  312.00  310.75  1895.75      1\n",
      "2  65.00  327.00  278.50  2167.00      1\n",
      "3  64.00  281.75  262.75  1979.50      1\n",
      "4  34.25  216.75  194.50  1671.00      1\n"
     ]
    }
   ],
   "source": [
    "import numpy as np\n",
    "import pandas as pd\n",
    "from osgeo import gdal\n",
    "import matplotlib.pyplot as plt\n",
    "\n",
    "# Function to read a TIFF image and return its bands\n",
    "def read_tiff_image(image_path):\n",
    "    # Open the TIFF file\n",
    "    dataset = gdal.Open(image_path)\n",
    "    \n",
    "    # Get the number of bands\n",
    "    num_bands = dataset.RasterCount\n",
    "    \n",
    "    # Read each band into a numpy array\n",
    "    bands = []\n",
    "    for i in range(1, num_bands + 1):\n",
    "        band = dataset.GetRasterBand(i).ReadAsArray()\n",
    "        bands.append(band)\n",
    "    \n",
    "    return np.array(bands)\n",
    "\n",
    "# Function to read label TIFF (0 and 1 labels)\n",
    "def read_label_tiff(label_path):\n",
    "    dataset = gdal.Open(label_path)\n",
    "    label = dataset.GetRasterBand(1).ReadAsArray()\n",
    "    return label\n",
    "\n",
    "# Path to your TIFF image and label\n",
    "image_path = 'dehra_multi.tiff'\n",
    "label_path = 'dehra_label.tiff'\n",
    "\n",
    "\n",
    "# Step 1: Read the multi-band image\n",
    "bands = read_tiff_image(image_path)\n",
    "\n",
    "# Step 2: Read the label image (binary labels 0 and 1)\n",
    "labels = read_label_tiff(label_path)\n",
    "\n",
    "# Step 3: Check if image and label dimensions match\n",
    "if bands.shape[1:] != labels.shape:\n",
    "    raise ValueError(f\"Dimensions do not match! Image size: {bands.shape[1:]}, Label size: {labels.shape}\")\n",
    "\n",
    "# Step 4: Flatten each band and the label image\n",
    "flattened_bands = [band.flatten() for band in bands]\n",
    "flattened_labels = labels.flatten()\n",
    "\n",
    "# Step 5: Combine bands and labels into a DataFrame\n",
    "data = np.column_stack(flattened_bands + [flattened_labels])\n",
    "band_names = [f'band{i+1}' for i in range(len(bands))]\n",
    "column_names = band_names + ['label']\n",
    "df = pd.DataFrame(data, columns=column_names)\n",
    "\n",
    "# Step 6: Convert label column to integers (ensures labels are integers)\n",
    "df['label'] = df['label'].astype(int)\n",
    "\n",
    "# Step 7: Show the DataFrame (first few rows)\n",
    "print(df.head())\n",
    "\n",
    "# Optional: Save DataFrame to CSV with label column as integer\n",
    "df.to_csv('output_with_int_labels.csv', index=False)\n"
   ]
  },
  {
   "cell_type": "markdown",
   "metadata": {},
   "source": [
    "Loading the datasets and viewing the elements of the data"
   ]
  },
  {
   "cell_type": "code",
   "execution_count": 4,
   "metadata": {},
   "outputs": [
    {
     "data": {
      "text/html": [
       "<div>\n",
       "<style scoped>\n",
       "    .dataframe tbody tr th:only-of-type {\n",
       "        vertical-align: middle;\n",
       "    }\n",
       "\n",
       "    .dataframe tbody tr th {\n",
       "        vertical-align: top;\n",
       "    }\n",
       "\n",
       "    .dataframe thead th {\n",
       "        text-align: right;\n",
       "    }\n",
       "</style>\n",
       "<table border=\"1\" class=\"dataframe\">\n",
       "  <thead>\n",
       "    <tr style=\"text-align: right;\">\n",
       "      <th></th>\n",
       "      <th>band1</th>\n",
       "      <th>band2</th>\n",
       "      <th>band3</th>\n",
       "      <th>band4</th>\n",
       "      <th>label</th>\n",
       "    </tr>\n",
       "  </thead>\n",
       "  <tbody>\n",
       "    <tr>\n",
       "      <th>0</th>\n",
       "      <td>78.25</td>\n",
       "      <td>294.75</td>\n",
       "      <td>313.75</td>\n",
       "      <td>1804.00</td>\n",
       "      <td>1</td>\n",
       "    </tr>\n",
       "    <tr>\n",
       "      <th>1</th>\n",
       "      <td>86.00</td>\n",
       "      <td>312.00</td>\n",
       "      <td>310.75</td>\n",
       "      <td>1895.75</td>\n",
       "      <td>1</td>\n",
       "    </tr>\n",
       "    <tr>\n",
       "      <th>2</th>\n",
       "      <td>65.00</td>\n",
       "      <td>327.00</td>\n",
       "      <td>278.50</td>\n",
       "      <td>2167.00</td>\n",
       "      <td>1</td>\n",
       "    </tr>\n",
       "    <tr>\n",
       "      <th>3</th>\n",
       "      <td>64.00</td>\n",
       "      <td>281.75</td>\n",
       "      <td>262.75</td>\n",
       "      <td>1979.50</td>\n",
       "      <td>1</td>\n",
       "    </tr>\n",
       "    <tr>\n",
       "      <th>4</th>\n",
       "      <td>34.25</td>\n",
       "      <td>216.75</td>\n",
       "      <td>194.50</td>\n",
       "      <td>1671.00</td>\n",
       "      <td>1</td>\n",
       "    </tr>\n",
       "  </tbody>\n",
       "</table>\n",
       "</div>"
      ],
      "text/plain": [
       "   band1   band2   band3    band4  label\n",
       "0  78.25  294.75  313.75  1804.00      1\n",
       "1  86.00  312.00  310.75  1895.75      1\n",
       "2  65.00  327.00  278.50  2167.00      1\n",
       "3  64.00  281.75  262.75  1979.50      1\n",
       "4  34.25  216.75  194.50  1671.00      1"
      ]
     },
     "execution_count": 4,
     "metadata": {},
     "output_type": "execute_result"
    }
   ],
   "source": [
    "data = pd.read_csv('output_with_int_labels.csv')\n",
    "data.head()"
   ]
  },
  {
   "cell_type": "markdown",
   "metadata": {},
   "source": [
    "Using describe() function to view the statistical data"
   ]
  },
  {
   "cell_type": "code",
   "execution_count": 5,
   "metadata": {},
   "outputs": [
    {
     "data": {
      "text/html": [
       "<div>\n",
       "<style scoped>\n",
       "    .dataframe tbody tr th:only-of-type {\n",
       "        vertical-align: middle;\n",
       "    }\n",
       "\n",
       "    .dataframe tbody tr th {\n",
       "        vertical-align: top;\n",
       "    }\n",
       "\n",
       "    .dataframe thead th {\n",
       "        text-align: right;\n",
       "    }\n",
       "</style>\n",
       "<table border=\"1\" class=\"dataframe\">\n",
       "  <thead>\n",
       "    <tr style=\"text-align: right;\">\n",
       "      <th></th>\n",
       "      <th>count</th>\n",
       "      <th>mean</th>\n",
       "      <th>std</th>\n",
       "      <th>min</th>\n",
       "      <th>25%</th>\n",
       "      <th>50%</th>\n",
       "      <th>75%</th>\n",
       "      <th>max</th>\n",
       "    </tr>\n",
       "  </thead>\n",
       "  <tbody>\n",
       "    <tr>\n",
       "      <th>band1</th>\n",
       "      <td>693.0</td>\n",
       "      <td>457.586219</td>\n",
       "      <td>373.523589</td>\n",
       "      <td>3.25</td>\n",
       "      <td>174.25</td>\n",
       "      <td>291.50</td>\n",
       "      <td>717.00</td>\n",
       "      <td>1803.50</td>\n",
       "    </tr>\n",
       "    <tr>\n",
       "      <th>band2</th>\n",
       "      <td>693.0</td>\n",
       "      <td>752.625902</td>\n",
       "      <td>326.133184</td>\n",
       "      <td>163.50</td>\n",
       "      <td>528.25</td>\n",
       "      <td>675.25</td>\n",
       "      <td>959.50</td>\n",
       "      <td>1806.00</td>\n",
       "    </tr>\n",
       "    <tr>\n",
       "      <th>band3</th>\n",
       "      <td>693.0</td>\n",
       "      <td>738.800866</td>\n",
       "      <td>450.272515</td>\n",
       "      <td>144.25</td>\n",
       "      <td>405.50</td>\n",
       "      <td>557.50</td>\n",
       "      <td>1032.00</td>\n",
       "      <td>2438.00</td>\n",
       "    </tr>\n",
       "    <tr>\n",
       "      <th>band4</th>\n",
       "      <td>693.0</td>\n",
       "      <td>2313.484127</td>\n",
       "      <td>421.334370</td>\n",
       "      <td>1090.75</td>\n",
       "      <td>1979.50</td>\n",
       "      <td>2350.75</td>\n",
       "      <td>2613.75</td>\n",
       "      <td>3477.25</td>\n",
       "    </tr>\n",
       "    <tr>\n",
       "      <th>label</th>\n",
       "      <td>693.0</td>\n",
       "      <td>0.460317</td>\n",
       "      <td>0.498783</td>\n",
       "      <td>0.00</td>\n",
       "      <td>0.00</td>\n",
       "      <td>0.00</td>\n",
       "      <td>1.00</td>\n",
       "      <td>1.00</td>\n",
       "    </tr>\n",
       "  </tbody>\n",
       "</table>\n",
       "</div>"
      ],
      "text/plain": [
       "       count         mean         std      min      25%      50%      75%  \\\n",
       "band1  693.0   457.586219  373.523589     3.25   174.25   291.50   717.00   \n",
       "band2  693.0   752.625902  326.133184   163.50   528.25   675.25   959.50   \n",
       "band3  693.0   738.800866  450.272515   144.25   405.50   557.50  1032.00   \n",
       "band4  693.0  2313.484127  421.334370  1090.75  1979.50  2350.75  2613.75   \n",
       "label  693.0     0.460317    0.498783     0.00     0.00     0.00     1.00   \n",
       "\n",
       "           max  \n",
       "band1  1803.50  \n",
       "band2  1806.00  \n",
       "band3  2438.00  \n",
       "band4  3477.25  \n",
       "label     1.00  "
      ]
     },
     "execution_count": 5,
     "metadata": {},
     "output_type": "execute_result"
    }
   ],
   "source": [
    "data.describe().transpose()"
   ]
  },
  {
   "cell_type": "markdown",
   "metadata": {},
   "source": [
    "Separating the features and labels"
   ]
  },
  {
   "cell_type": "code",
   "execution_count": 6,
   "metadata": {},
   "outputs": [],
   "source": [
    "X = data.iloc[:,:-1].values\n",
    "y = data['label'].values"
   ]
  },
  {
   "cell_type": "code",
   "execution_count": 7,
   "metadata": {},
   "outputs": [
    {
     "name": "stdout",
     "output_type": "stream",
     "text": [
      "DescribeResult(nobs=693, minmax=(0, 1), mean=0.4603174603174603, variance=0.2487842921368933, skewness=0.15923243882462076, kurtosis=-1.9746450304259633)\n"
     ]
    }
   ],
   "source": [
    "from scipy.stats import describe\n",
    "print(describe(y))"
   ]
  },
  {
   "cell_type": "markdown",
   "metadata": {},
   "source": [
    "# Normalize the data\n",
    "\n",
    "The **`StandardScaler`** in scikit-learn is used to standardize features by removing the mean and scaling to unit variance. It is a preprocessing step that ensures features are on the same scale, which is particularly important for many machine learning algorithms that are sensitive to the magnitude of input features (e.g., SVM, logistic regression, k-means, PCA).\n",
    "\n",
    "### What It Does:\n",
    "1. **Removes the Mean**:\n",
    "   It centers the data by subtracting the mean of each feature.\n",
    "   $$\n",
    "   x' = x - \\text{mean}\n",
    "   $$\n",
    "\n",
    "2. **Scales to Unit Variance**:\n",
    "   It divides each feature by its standard deviation.\n",
    "   $$\n",
    "   x'' = \\frac{x'}{\\text{std}}\n",
    "   $$\n",
    "\n",
    "   After scaling:\n",
    "   - The mean of each feature will be **0**.\n",
    "   - The standard deviation of each feature will be **1**.\n",
    "\n",
    "### Why Standardize?\n",
    "- Ensures that all features contribute equally to the model.\n",
    "- Avoids bias toward features with larger scales.\n",
    "- Accelerates convergence in optimization algorithms.\n",
    "\n"
   ]
  },
  {
   "cell_type": "code",
   "execution_count": 8,
   "metadata": {},
   "outputs": [],
   "source": [
    "scaler = StandardScaler()\n",
    "X = scaler.fit_transform(X)"
   ]
  },
  {
   "cell_type": "markdown",
   "metadata": {},
   "source": [
    "Viewing the stastics of x"
   ]
  },
  {
   "cell_type": "code",
   "execution_count": 9,
   "metadata": {},
   "outputs": [
    {
     "name": "stdout",
     "output_type": "stream",
     "text": [
      "            0         1         2         3\n",
      "0   -1.016295 -1.404968 -0.944668 -1.210089\n",
      "1   -0.995532 -1.352037 -0.951335 -0.992171\n",
      "2   -1.051794 -1.306010 -1.023010 -0.347918\n",
      "3   -1.054473 -1.444858 -1.058014 -0.793254\n",
      "4   -1.134177 -1.644307 -1.209699 -1.525981\n",
      "..        ...       ...       ...       ...\n",
      "688  1.332642  1.421839  1.309484 -0.972576\n",
      "689  1.417034  1.305238  1.331709 -1.225527\n",
      "690  1.340009  1.515426  1.681750 -0.277852\n",
      "691  1.822924  1.918927  1.677305  0.718513\n",
      "692  0.374849  0.506674  0.339371  0.781454\n",
      "\n",
      "[693 rows x 4 columns]\n"
     ]
    }
   ],
   "source": [
    "X_df = pd.DataFrame(X)\n",
    "print(X_df)"
   ]
  },
  {
   "cell_type": "code",
   "execution_count": 10,
   "metadata": {},
   "outputs": [
    {
     "data": {
      "text/html": [
       "<div>\n",
       "<style scoped>\n",
       "    .dataframe tbody tr th:only-of-type {\n",
       "        vertical-align: middle;\n",
       "    }\n",
       "\n",
       "    .dataframe tbody tr th {\n",
       "        vertical-align: top;\n",
       "    }\n",
       "\n",
       "    .dataframe thead th {\n",
       "        text-align: right;\n",
       "    }\n",
       "</style>\n",
       "<table border=\"1\" class=\"dataframe\">\n",
       "  <thead>\n",
       "    <tr style=\"text-align: right;\">\n",
       "      <th></th>\n",
       "      <th>count</th>\n",
       "      <th>mean</th>\n",
       "      <th>std</th>\n",
       "      <th>min</th>\n",
       "      <th>25%</th>\n",
       "      <th>50%</th>\n",
       "      <th>75%</th>\n",
       "      <th>max</th>\n",
       "    </tr>\n",
       "  </thead>\n",
       "  <tbody>\n",
       "    <tr>\n",
       "      <th>0</th>\n",
       "      <td>693.0</td>\n",
       "      <td>0.000000e+00</td>\n",
       "      <td>1.000722</td>\n",
       "      <td>-1.217231</td>\n",
       "      <td>-0.759098</td>\n",
       "      <td>-0.444968</td>\n",
       "      <td>0.695006</td>\n",
       "      <td>3.605893</td>\n",
       "    </tr>\n",
       "    <tr>\n",
       "      <th>1</th>\n",
       "      <td>693.0</td>\n",
       "      <td>1.640503e-16</td>\n",
       "      <td>1.000722</td>\n",
       "      <td>-1.807701</td>\n",
       "      <td>-0.688485</td>\n",
       "      <td>-0.237424</td>\n",
       "      <td>0.634782</td>\n",
       "      <td>3.232222</td>\n",
       "    </tr>\n",
       "    <tr>\n",
       "      <th>2</th>\n",
       "      <td>693.0</td>\n",
       "      <td>-1.230377e-16</td>\n",
       "      <td>1.000722</td>\n",
       "      <td>-1.321378</td>\n",
       "      <td>-0.740755</td>\n",
       "      <td>-0.402938</td>\n",
       "      <td>0.651630</td>\n",
       "      <td>3.776438</td>\n",
       "    </tr>\n",
       "    <tr>\n",
       "      <th>3</th>\n",
       "      <td>693.0</td>\n",
       "      <td>4.921508e-16</td>\n",
       "      <td>1.000722</td>\n",
       "      <td>-2.904148</td>\n",
       "      <td>-0.793254</td>\n",
       "      <td>0.088511</td>\n",
       "      <td>0.713169</td>\n",
       "      <td>2.764091</td>\n",
       "    </tr>\n",
       "  </tbody>\n",
       "</table>\n",
       "</div>"
      ],
      "text/plain": [
       "   count          mean       std       min       25%       50%       75%  \\\n",
       "0  693.0  0.000000e+00  1.000722 -1.217231 -0.759098 -0.444968  0.695006   \n",
       "1  693.0  1.640503e-16  1.000722 -1.807701 -0.688485 -0.237424  0.634782   \n",
       "2  693.0 -1.230377e-16  1.000722 -1.321378 -0.740755 -0.402938  0.651630   \n",
       "3  693.0  4.921508e-16  1.000722 -2.904148 -0.793254  0.088511  0.713169   \n",
       "\n",
       "        max  \n",
       "0  3.605893  \n",
       "1  3.232222  \n",
       "2  3.776438  \n",
       "3  2.764091  "
      ]
     },
     "execution_count": 10,
     "metadata": {},
     "output_type": "execute_result"
    }
   ],
   "source": [
    "X_df.describe().transpose()"
   ]
  },
  {
   "cell_type": "markdown",
   "metadata": {},
   "source": [
    "Using PCA to reduce the dimensionality of the data. Now we use PCA as it is essential to reduce the data set size for proper processing in Quantum machine learning."
   ]
  },
  {
   "cell_type": "markdown",
   "metadata": {},
   "source": [
    "We can see that when it has been converted to PCA the original values of the columns are also changed. It has created its own values in the process. This means that the PCA is more important as a tool of dimensionality reduction of the number of features."
   ]
  },
  {
   "cell_type": "code",
   "execution_count": 11,
   "metadata": {},
   "outputs": [],
   "source": [
    "n_component =4"
   ]
  },
  {
   "cell_type": "code",
   "execution_count": 12,
   "metadata": {},
   "outputs": [
    {
     "name": "stdout",
     "output_type": "stream",
     "text": [
      "DescribeResult(nobs=693, minmax=(array([-2.36875033, -2.98716762, -1.23696497, -0.30932191]), array([5.44468268, 2.77411144, 3.31274318, 0.75867607])), mean=array([ 1.97212777e-16,  2.69305181e-16,  7.51763570e-17, -8.41078049e-18]), variance=array([2.91221464, 1.01447973, 0.06391821, 0.01516777]), skewness=array([ 0.93796836, -0.1921729 ,  4.67260925,  1.28408644]), kurtosis=array([-4.50422782e-02, -5.31019091e-01,  5.57446898e+01,  4.28845033e+00]))\n",
      "            0         1         2         3\n",
      "0   -1.863768 -1.358924  0.191303  0.081238\n",
      "1   -1.838686 -1.137397  0.160373  0.091497\n",
      "2   -1.926100 -0.492715  0.118545  0.113346\n",
      "3   -1.999798 -0.953122  0.140856  0.143868\n",
      "4   -2.202080 -1.704172  0.115598  0.123965\n",
      "..        ...       ...       ...       ...\n",
      "688  2.402166 -0.804989 -0.072427 -0.185896\n",
      "689  2.412656 -1.075927 -0.040361 -0.082695\n",
      "690  2.630528 -0.097899  0.205629 -0.161501\n",
      "691  3.078161  0.916579 -0.128821  0.056181\n",
      "692  0.654759  0.830408 -0.064383  0.025326\n",
      "\n",
      "[693 rows x 4 columns]\n"
     ]
    }
   ],
   "source": [
    "pca = PCA(n_component)\n",
    "X_pca = pca.fit_transform(X)\n",
    "print(describe(X_pca))\n",
    "XPca_df = pd.DataFrame(X_pca)\n",
    "print(XPca_df)\n",
    "XPca_df.describe().transpose()\n",
    "X_train, X_test, y_train, y_test = train_test_split(X_pca,y, test_size=0.1, random_state = 2)"
   ]
  },
  {
   "cell_type": "markdown",
   "metadata": {},
   "source": [
    "Train Test split"
   ]
  },
  {
   "cell_type": "code",
   "execution_count": 11,
   "metadata": {},
   "outputs": [],
   "source": [
    "#X_train, X_test, y_train, y_test = train_test_split(X, y, test_size=0.1, random_state = 2)"
   ]
  },
  {
   "cell_type": "code",
   "execution_count": 13,
   "metadata": {},
   "outputs": [
    {
     "name": "stdout",
     "output_type": "stream",
     "text": [
      "DescribeResult(nobs=623, minmax=(array([-2.36875033, -2.98716762, -1.23696497, -0.30932191]), array([5.44468268, 2.77411144, 3.31274318, 0.75867607])), mean=array([0.03387337, 0.00612019, 0.00012613, 0.00187271]), variance=array([2.94129864, 1.02916807, 0.0635941 , 0.01514321]), skewness=array([ 0.89629689, -0.19324597,  5.06040974,  1.243633  ]), kurtosis=array([-0.12607475, -0.53488738, 60.54861789,  4.22551857]))\n",
      "DescribeResult(nobs=70, minmax=(array([-2.1020702 , -2.43985982, -1.08262493, -0.19558401]), array([4.67616704, 1.83917836, 1.47198626, 0.56040864])), mean=array([-0.30147296, -0.05446971, -0.00112259, -0.01666713]), variance=array([2.58968008, 0.89342631, 0.06776475, 0.01529545]), skewness=array([ 1.36966634, -0.20842466,  1.47099175,  1.68650524]), kurtosis=array([ 1.07203477, -0.53930982, 16.93259583,  5.26572154]))\n"
     ]
    }
   ],
   "source": [
    "print(describe(X_train))\n",
    "print(describe(X_test))"
   ]
  },
  {
   "cell_type": "markdown",
   "metadata": {},
   "source": [
    "Creating the Quantum Feature map and the Quantum kernel"
   ]
  },
  {
   "cell_type": "code",
   "execution_count": 16,
   "metadata": {},
   "outputs": [],
   "source": [
    "feature_map = ZZFeatureMap(feature_dimension = 4, entanglement = 'full', reps=2)\n",
    "# Please use the other feature maps as desired like Pauli, Zfeaturemap, 1local and 2local.\n",
    "quantum_kernel = FidelityQuantumKernel(feature_map = feature_map)"
   ]
  },
  {
   "cell_type": "markdown",
   "metadata": {},
   "source": [
    "Training the QSVM classifier"
   ]
  },
  {
   "cell_type": "code",
   "execution_count": 15,
   "metadata": {},
   "outputs": [
    {
     "data": {
      "text/html": [
       "<style>#sk-container-id-1 {\n",
       "  /* Definition of color scheme common for light and dark mode */\n",
       "  --sklearn-color-text: black;\n",
       "  --sklearn-color-line: gray;\n",
       "  /* Definition of color scheme for unfitted estimators */\n",
       "  --sklearn-color-unfitted-level-0: #fff5e6;\n",
       "  --sklearn-color-unfitted-level-1: #f6e4d2;\n",
       "  --sklearn-color-unfitted-level-2: #ffe0b3;\n",
       "  --sklearn-color-unfitted-level-3: chocolate;\n",
       "  /* Definition of color scheme for fitted estimators */\n",
       "  --sklearn-color-fitted-level-0: #f0f8ff;\n",
       "  --sklearn-color-fitted-level-1: #d4ebff;\n",
       "  --sklearn-color-fitted-level-2: #b3dbfd;\n",
       "  --sklearn-color-fitted-level-3: cornflowerblue;\n",
       "\n",
       "  /* Specific color for light theme */\n",
       "  --sklearn-color-text-on-default-background: var(--sg-text-color, var(--theme-code-foreground, var(--jp-content-font-color1, black)));\n",
       "  --sklearn-color-background: var(--sg-background-color, var(--theme-background, var(--jp-layout-color0, white)));\n",
       "  --sklearn-color-border-box: var(--sg-text-color, var(--theme-code-foreground, var(--jp-content-font-color1, black)));\n",
       "  --sklearn-color-icon: #696969;\n",
       "\n",
       "  @media (prefers-color-scheme: dark) {\n",
       "    /* Redefinition of color scheme for dark theme */\n",
       "    --sklearn-color-text-on-default-background: var(--sg-text-color, var(--theme-code-foreground, var(--jp-content-font-color1, white)));\n",
       "    --sklearn-color-background: var(--sg-background-color, var(--theme-background, var(--jp-layout-color0, #111)));\n",
       "    --sklearn-color-border-box: var(--sg-text-color, var(--theme-code-foreground, var(--jp-content-font-color1, white)));\n",
       "    --sklearn-color-icon: #878787;\n",
       "  }\n",
       "}\n",
       "\n",
       "#sk-container-id-1 {\n",
       "  color: var(--sklearn-color-text);\n",
       "}\n",
       "\n",
       "#sk-container-id-1 pre {\n",
       "  padding: 0;\n",
       "}\n",
       "\n",
       "#sk-container-id-1 input.sk-hidden--visually {\n",
       "  border: 0;\n",
       "  clip: rect(1px 1px 1px 1px);\n",
       "  clip: rect(1px, 1px, 1px, 1px);\n",
       "  height: 1px;\n",
       "  margin: -1px;\n",
       "  overflow: hidden;\n",
       "  padding: 0;\n",
       "  position: absolute;\n",
       "  width: 1px;\n",
       "}\n",
       "\n",
       "#sk-container-id-1 div.sk-dashed-wrapped {\n",
       "  border: 1px dashed var(--sklearn-color-line);\n",
       "  margin: 0 0.4em 0.5em 0.4em;\n",
       "  box-sizing: border-box;\n",
       "  padding-bottom: 0.4em;\n",
       "  background-color: var(--sklearn-color-background);\n",
       "}\n",
       "\n",
       "#sk-container-id-1 div.sk-container {\n",
       "  /* jupyter's `normalize.less` sets `[hidden] { display: none; }`\n",
       "     but bootstrap.min.css set `[hidden] { display: none !important; }`\n",
       "     so we also need the `!important` here to be able to override the\n",
       "     default hidden behavior on the sphinx rendered scikit-learn.org.\n",
       "     See: https://github.com/scikit-learn/scikit-learn/issues/21755 */\n",
       "  display: inline-block !important;\n",
       "  position: relative;\n",
       "}\n",
       "\n",
       "#sk-container-id-1 div.sk-text-repr-fallback {\n",
       "  display: none;\n",
       "}\n",
       "\n",
       "div.sk-parallel-item,\n",
       "div.sk-serial,\n",
       "div.sk-item {\n",
       "  /* draw centered vertical line to link estimators */\n",
       "  background-image: linear-gradient(var(--sklearn-color-text-on-default-background), var(--sklearn-color-text-on-default-background));\n",
       "  background-size: 2px 100%;\n",
       "  background-repeat: no-repeat;\n",
       "  background-position: center center;\n",
       "}\n",
       "\n",
       "/* Parallel-specific style estimator block */\n",
       "\n",
       "#sk-container-id-1 div.sk-parallel-item::after {\n",
       "  content: \"\";\n",
       "  width: 100%;\n",
       "  border-bottom: 2px solid var(--sklearn-color-text-on-default-background);\n",
       "  flex-grow: 1;\n",
       "}\n",
       "\n",
       "#sk-container-id-1 div.sk-parallel {\n",
       "  display: flex;\n",
       "  align-items: stretch;\n",
       "  justify-content: center;\n",
       "  background-color: var(--sklearn-color-background);\n",
       "  position: relative;\n",
       "}\n",
       "\n",
       "#sk-container-id-1 div.sk-parallel-item {\n",
       "  display: flex;\n",
       "  flex-direction: column;\n",
       "}\n",
       "\n",
       "#sk-container-id-1 div.sk-parallel-item:first-child::after {\n",
       "  align-self: flex-end;\n",
       "  width: 50%;\n",
       "}\n",
       "\n",
       "#sk-container-id-1 div.sk-parallel-item:last-child::after {\n",
       "  align-self: flex-start;\n",
       "  width: 50%;\n",
       "}\n",
       "\n",
       "#sk-container-id-1 div.sk-parallel-item:only-child::after {\n",
       "  width: 0;\n",
       "}\n",
       "\n",
       "/* Serial-specific style estimator block */\n",
       "\n",
       "#sk-container-id-1 div.sk-serial {\n",
       "  display: flex;\n",
       "  flex-direction: column;\n",
       "  align-items: center;\n",
       "  background-color: var(--sklearn-color-background);\n",
       "  padding-right: 1em;\n",
       "  padding-left: 1em;\n",
       "}\n",
       "\n",
       "\n",
       "/* Toggleable style: style used for estimator/Pipeline/ColumnTransformer box that is\n",
       "clickable and can be expanded/collapsed.\n",
       "- Pipeline and ColumnTransformer use this feature and define the default style\n",
       "- Estimators will overwrite some part of the style using the `sk-estimator` class\n",
       "*/\n",
       "\n",
       "/* Pipeline and ColumnTransformer style (default) */\n",
       "\n",
       "#sk-container-id-1 div.sk-toggleable {\n",
       "  /* Default theme specific background. It is overwritten whether we have a\n",
       "  specific estimator or a Pipeline/ColumnTransformer */\n",
       "  background-color: var(--sklearn-color-background);\n",
       "}\n",
       "\n",
       "/* Toggleable label */\n",
       "#sk-container-id-1 label.sk-toggleable__label {\n",
       "  cursor: pointer;\n",
       "  display: block;\n",
       "  width: 100%;\n",
       "  margin-bottom: 0;\n",
       "  padding: 0.5em;\n",
       "  box-sizing: border-box;\n",
       "  text-align: center;\n",
       "}\n",
       "\n",
       "#sk-container-id-1 label.sk-toggleable__label-arrow:before {\n",
       "  /* Arrow on the left of the label */\n",
       "  content: \"▸\";\n",
       "  float: left;\n",
       "  margin-right: 0.25em;\n",
       "  color: var(--sklearn-color-icon);\n",
       "}\n",
       "\n",
       "#sk-container-id-1 label.sk-toggleable__label-arrow:hover:before {\n",
       "  color: var(--sklearn-color-text);\n",
       "}\n",
       "\n",
       "/* Toggleable content - dropdown */\n",
       "\n",
       "#sk-container-id-1 div.sk-toggleable__content {\n",
       "  max-height: 0;\n",
       "  max-width: 0;\n",
       "  overflow: hidden;\n",
       "  text-align: left;\n",
       "  /* unfitted */\n",
       "  background-color: var(--sklearn-color-unfitted-level-0);\n",
       "}\n",
       "\n",
       "#sk-container-id-1 div.sk-toggleable__content.fitted {\n",
       "  /* fitted */\n",
       "  background-color: var(--sklearn-color-fitted-level-0);\n",
       "}\n",
       "\n",
       "#sk-container-id-1 div.sk-toggleable__content pre {\n",
       "  margin: 0.2em;\n",
       "  border-radius: 0.25em;\n",
       "  color: var(--sklearn-color-text);\n",
       "  /* unfitted */\n",
       "  background-color: var(--sklearn-color-unfitted-level-0);\n",
       "}\n",
       "\n",
       "#sk-container-id-1 div.sk-toggleable__content.fitted pre {\n",
       "  /* unfitted */\n",
       "  background-color: var(--sklearn-color-fitted-level-0);\n",
       "}\n",
       "\n",
       "#sk-container-id-1 input.sk-toggleable__control:checked~div.sk-toggleable__content {\n",
       "  /* Expand drop-down */\n",
       "  max-height: 200px;\n",
       "  max-width: 100%;\n",
       "  overflow: auto;\n",
       "}\n",
       "\n",
       "#sk-container-id-1 input.sk-toggleable__control:checked~label.sk-toggleable__label-arrow:before {\n",
       "  content: \"▾\";\n",
       "}\n",
       "\n",
       "/* Pipeline/ColumnTransformer-specific style */\n",
       "\n",
       "#sk-container-id-1 div.sk-label input.sk-toggleable__control:checked~label.sk-toggleable__label {\n",
       "  color: var(--sklearn-color-text);\n",
       "  background-color: var(--sklearn-color-unfitted-level-2);\n",
       "}\n",
       "\n",
       "#sk-container-id-1 div.sk-label.fitted input.sk-toggleable__control:checked~label.sk-toggleable__label {\n",
       "  background-color: var(--sklearn-color-fitted-level-2);\n",
       "}\n",
       "\n",
       "/* Estimator-specific style */\n",
       "\n",
       "/* Colorize estimator box */\n",
       "#sk-container-id-1 div.sk-estimator input.sk-toggleable__control:checked~label.sk-toggleable__label {\n",
       "  /* unfitted */\n",
       "  background-color: var(--sklearn-color-unfitted-level-2);\n",
       "}\n",
       "\n",
       "#sk-container-id-1 div.sk-estimator.fitted input.sk-toggleable__control:checked~label.sk-toggleable__label {\n",
       "  /* fitted */\n",
       "  background-color: var(--sklearn-color-fitted-level-2);\n",
       "}\n",
       "\n",
       "#sk-container-id-1 div.sk-label label.sk-toggleable__label,\n",
       "#sk-container-id-1 div.sk-label label {\n",
       "  /* The background is the default theme color */\n",
       "  color: var(--sklearn-color-text-on-default-background);\n",
       "}\n",
       "\n",
       "/* On hover, darken the color of the background */\n",
       "#sk-container-id-1 div.sk-label:hover label.sk-toggleable__label {\n",
       "  color: var(--sklearn-color-text);\n",
       "  background-color: var(--sklearn-color-unfitted-level-2);\n",
       "}\n",
       "\n",
       "/* Label box, darken color on hover, fitted */\n",
       "#sk-container-id-1 div.sk-label.fitted:hover label.sk-toggleable__label.fitted {\n",
       "  color: var(--sklearn-color-text);\n",
       "  background-color: var(--sklearn-color-fitted-level-2);\n",
       "}\n",
       "\n",
       "/* Estimator label */\n",
       "\n",
       "#sk-container-id-1 div.sk-label label {\n",
       "  font-family: monospace;\n",
       "  font-weight: bold;\n",
       "  display: inline-block;\n",
       "  line-height: 1.2em;\n",
       "}\n",
       "\n",
       "#sk-container-id-1 div.sk-label-container {\n",
       "  text-align: center;\n",
       "}\n",
       "\n",
       "/* Estimator-specific */\n",
       "#sk-container-id-1 div.sk-estimator {\n",
       "  font-family: monospace;\n",
       "  border: 1px dotted var(--sklearn-color-border-box);\n",
       "  border-radius: 0.25em;\n",
       "  box-sizing: border-box;\n",
       "  margin-bottom: 0.5em;\n",
       "  /* unfitted */\n",
       "  background-color: var(--sklearn-color-unfitted-level-0);\n",
       "}\n",
       "\n",
       "#sk-container-id-1 div.sk-estimator.fitted {\n",
       "  /* fitted */\n",
       "  background-color: var(--sklearn-color-fitted-level-0);\n",
       "}\n",
       "\n",
       "/* on hover */\n",
       "#sk-container-id-1 div.sk-estimator:hover {\n",
       "  /* unfitted */\n",
       "  background-color: var(--sklearn-color-unfitted-level-2);\n",
       "}\n",
       "\n",
       "#sk-container-id-1 div.sk-estimator.fitted:hover {\n",
       "  /* fitted */\n",
       "  background-color: var(--sklearn-color-fitted-level-2);\n",
       "}\n",
       "\n",
       "/* Specification for estimator info (e.g. \"i\" and \"?\") */\n",
       "\n",
       "/* Common style for \"i\" and \"?\" */\n",
       "\n",
       ".sk-estimator-doc-link,\n",
       "a:link.sk-estimator-doc-link,\n",
       "a:visited.sk-estimator-doc-link {\n",
       "  float: right;\n",
       "  font-size: smaller;\n",
       "  line-height: 1em;\n",
       "  font-family: monospace;\n",
       "  background-color: var(--sklearn-color-background);\n",
       "  border-radius: 1em;\n",
       "  height: 1em;\n",
       "  width: 1em;\n",
       "  text-decoration: none !important;\n",
       "  margin-left: 1ex;\n",
       "  /* unfitted */\n",
       "  border: var(--sklearn-color-unfitted-level-1) 1pt solid;\n",
       "  color: var(--sklearn-color-unfitted-level-1);\n",
       "}\n",
       "\n",
       ".sk-estimator-doc-link.fitted,\n",
       "a:link.sk-estimator-doc-link.fitted,\n",
       "a:visited.sk-estimator-doc-link.fitted {\n",
       "  /* fitted */\n",
       "  border: var(--sklearn-color-fitted-level-1) 1pt solid;\n",
       "  color: var(--sklearn-color-fitted-level-1);\n",
       "}\n",
       "\n",
       "/* On hover */\n",
       "div.sk-estimator:hover .sk-estimator-doc-link:hover,\n",
       ".sk-estimator-doc-link:hover,\n",
       "div.sk-label-container:hover .sk-estimator-doc-link:hover,\n",
       ".sk-estimator-doc-link:hover {\n",
       "  /* unfitted */\n",
       "  background-color: var(--sklearn-color-unfitted-level-3);\n",
       "  color: var(--sklearn-color-background);\n",
       "  text-decoration: none;\n",
       "}\n",
       "\n",
       "div.sk-estimator.fitted:hover .sk-estimator-doc-link.fitted:hover,\n",
       ".sk-estimator-doc-link.fitted:hover,\n",
       "div.sk-label-container:hover .sk-estimator-doc-link.fitted:hover,\n",
       ".sk-estimator-doc-link.fitted:hover {\n",
       "  /* fitted */\n",
       "  background-color: var(--sklearn-color-fitted-level-3);\n",
       "  color: var(--sklearn-color-background);\n",
       "  text-decoration: none;\n",
       "}\n",
       "\n",
       "/* Span, style for the box shown on hovering the info icon */\n",
       ".sk-estimator-doc-link span {\n",
       "  display: none;\n",
       "  z-index: 9999;\n",
       "  position: relative;\n",
       "  font-weight: normal;\n",
       "  right: .2ex;\n",
       "  padding: .5ex;\n",
       "  margin: .5ex;\n",
       "  width: min-content;\n",
       "  min-width: 20ex;\n",
       "  max-width: 50ex;\n",
       "  color: var(--sklearn-color-text);\n",
       "  box-shadow: 2pt 2pt 4pt #999;\n",
       "  /* unfitted */\n",
       "  background: var(--sklearn-color-unfitted-level-0);\n",
       "  border: .5pt solid var(--sklearn-color-unfitted-level-3);\n",
       "}\n",
       "\n",
       ".sk-estimator-doc-link.fitted span {\n",
       "  /* fitted */\n",
       "  background: var(--sklearn-color-fitted-level-0);\n",
       "  border: var(--sklearn-color-fitted-level-3);\n",
       "}\n",
       "\n",
       ".sk-estimator-doc-link:hover span {\n",
       "  display: block;\n",
       "}\n",
       "\n",
       "/* \"?\"-specific style due to the `<a>` HTML tag */\n",
       "\n",
       "#sk-container-id-1 a.estimator_doc_link {\n",
       "  float: right;\n",
       "  font-size: 1rem;\n",
       "  line-height: 1em;\n",
       "  font-family: monospace;\n",
       "  background-color: var(--sklearn-color-background);\n",
       "  border-radius: 1rem;\n",
       "  height: 1rem;\n",
       "  width: 1rem;\n",
       "  text-decoration: none;\n",
       "  /* unfitted */\n",
       "  color: var(--sklearn-color-unfitted-level-1);\n",
       "  border: var(--sklearn-color-unfitted-level-1) 1pt solid;\n",
       "}\n",
       "\n",
       "#sk-container-id-1 a.estimator_doc_link.fitted {\n",
       "  /* fitted */\n",
       "  border: var(--sklearn-color-fitted-level-1) 1pt solid;\n",
       "  color: var(--sklearn-color-fitted-level-1);\n",
       "}\n",
       "\n",
       "/* On hover */\n",
       "#sk-container-id-1 a.estimator_doc_link:hover {\n",
       "  /* unfitted */\n",
       "  background-color: var(--sklearn-color-unfitted-level-3);\n",
       "  color: var(--sklearn-color-background);\n",
       "  text-decoration: none;\n",
       "}\n",
       "\n",
       "#sk-container-id-1 a.estimator_doc_link.fitted:hover {\n",
       "  /* fitted */\n",
       "  background-color: var(--sklearn-color-fitted-level-3);\n",
       "}\n",
       "</style><div id=\"sk-container-id-1\" class=\"sk-top-container\"><div class=\"sk-text-repr-fallback\"><pre>QSVC(C=1.0, break_ties=False, cache_size=200, class_weight=None, coef0=0.0,\n",
       "     decision_function_shape=&#x27;ovr&#x27;, degree=3, gamma=&#x27;scale&#x27;, max_iter=-1,\n",
       "     probability=False,\n",
       "     quantum_kernel=&lt;qiskit_machine_learning.kernels.fidelity_quantum_kernel.FidelityQuantumKernel object at 0x0000019B4E08D110&gt;,\n",
       "     random_state=None, shrinking=True, tol=0.001, verbose=False)</pre><b>In a Jupyter environment, please rerun this cell to show the HTML representation or trust the notebook. <br />On GitHub, the HTML representation is unable to render, please try loading this page with nbviewer.org.</b></div><div class=\"sk-container\" hidden><div class=\"sk-item\"><div class=\"sk-estimator fitted sk-toggleable\"><input class=\"sk-toggleable__control sk-hidden--visually\" id=\"sk-estimator-id-1\" type=\"checkbox\" checked><label for=\"sk-estimator-id-1\" class=\"sk-toggleable__label fitted sk-toggleable__label-arrow fitted\">&nbsp;QSVC<span class=\"sk-estimator-doc-link fitted\">i<span>Fitted</span></span></label><div class=\"sk-toggleable__content fitted\"><pre>QSVC(C=1.0, break_ties=False, cache_size=200, class_weight=None, coef0=0.0,\n",
       "     decision_function_shape=&#x27;ovr&#x27;, degree=3, gamma=&#x27;scale&#x27;, max_iter=-1,\n",
       "     probability=False,\n",
       "     quantum_kernel=&lt;qiskit_machine_learning.kernels.fidelity_quantum_kernel.FidelityQuantumKernel object at 0x0000019B4E08D110&gt;,\n",
       "     random_state=None, shrinking=True, tol=0.001, verbose=False)</pre></div> </div></div></div></div>"
      ],
      "text/plain": [
       "QSVC(C=1.0, break_ties=False, cache_size=200, class_weight=None, coef0=0.0,\n",
       "     decision_function_shape='ovr', degree=3, gamma='scale', max_iter=-1,\n",
       "     probability=False,\n",
       "     quantum_kernel=<qiskit_machine_learning.kernels.fidelity_quantum_kernel.FidelityQuantumKernel object at 0x0000019B4E08D110>,\n",
       "     random_state=None, shrinking=True, tol=0.001, verbose=False)"
      ]
     },
     "execution_count": 15,
     "metadata": {},
     "output_type": "execute_result"
    }
   ],
   "source": [
    "classifier = QSVC(quantum_kernel = quantum_kernel)\n",
    "classifier.fit(X_train, y_train)"
   ]
  },
  {
   "cell_type": "code",
   "execution_count": 17,
   "metadata": {},
   "outputs": [
    {
     "data": {
      "text/plain": [
       "['trained_qsvc_model.pkl']"
      ]
     },
     "execution_count": 17,
     "metadata": {},
     "output_type": "execute_result"
    }
   ],
   "source": [
    "import joblib\n",
    "\n",
    "# Save the trained classifier\n",
    "joblib.dump(classifier, 'trained_qsvc_model.pkl')\n"
   ]
  },
  {
   "cell_type": "markdown",
   "metadata": {},
   "source": [
    "Evaluating the model"
   ]
  },
  {
   "cell_type": "code",
   "execution_count": 18,
   "metadata": {},
   "outputs": [
    {
     "name": "stdout",
     "output_type": "stream",
     "text": [
      "Accuracy: 0.6428571428571429\n",
      "              precision    recall  f1-score   support\n",
      "\n",
      "           0       0.49      0.79      0.60        24\n",
      "           1       0.84      0.57      0.68        46\n",
      "\n",
      "    accuracy                           0.64        70\n",
      "   macro avg       0.66      0.68      0.64        70\n",
      "weighted avg       0.72      0.64      0.65        70\n",
      "\n"
     ]
    }
   ],
   "source": [
    "y_pred = classifier.predict(X_test)\n",
    "print(f\"Accuracy: {accuracy_score(y_test, y_pred)}\")\n",
    "print(classification_report(y_test, y_pred))"
   ]
  },
  {
   "cell_type": "markdown",
   "metadata": {},
   "source": [
    "Creating a new function to predict whether a person has Forest or not"
   ]
  },
  {
   "cell_type": "code",
   "execution_count": 17,
   "metadata": {},
   "outputs": [],
   "source": [
    "def predict_label(new_data):\n",
    "    # Normalizing the new data\n",
    "    new_data_normalized = scaler.transform(new_data)\n",
    "\n",
    "    # Make prediction\n",
    "    prediction = classifier.predict(new_data_normalized)\n",
    "\n",
    "    #Map prediction to label\n",
    "    return 'Positive' if prediction[0]==1 else 'Negative'"
   ]
  },
  {
   "cell_type": "markdown",
   "metadata": {},
   "source": [
    "When ever we are entering the new data we are entering the entire data. But if you remember about PCA in which we took only 4 features, it implies that what ever the number of features we take we are about to get the right amount of result out of it when we input data with all the features."
   ]
  },
  {
   "cell_type": "code",
   "execution_count": 20,
   "metadata": {},
   "outputs": [
    {
     "name": "stdout",
     "output_type": "stream",
     "text": [
      "Negative\n"
     ]
    }
   ],
   "source": [
    "#Example new data (replace with actual data)\n",
    "new_data = np.array([[86,300,300,1200]])\n",
    "\n",
    "#Predict and print the result\n",
    "print(predict_label(new_data))"
   ]
  },
  {
   "cell_type": "code",
   "execution_count": 21,
   "metadata": {},
   "outputs": [
    {
     "data": {
      "application/vnd.jupyter.widget-view+json": {
       "model_id": "1de6661990734d61b249b5af3d59ae3d",
       "version_major": 2,
       "version_minor": 0
      },
      "text/plain": [
       "Processing rows:   0%|          | 0/42 [00:00<?, ?it/s]"
      ]
     },
     "metadata": {},
     "output_type": "display_data"
    },
    {
     "data": {
      "application/vnd.jupyter.widget-view+json": {
       "model_id": "31c4fb543748424f935487fc1b97846e",
       "version_major": 2,
       "version_minor": 0
      },
      "text/plain": [
       "Processing pixels:   0%|          | 0/66 [00:00<?, ?it/s]"
      ]
     },
     "metadata": {},
     "output_type": "display_data"
    },
    {
     "data": {
      "application/vnd.jupyter.widget-view+json": {
       "model_id": "cd745efc763b4905a49418a3965dd783",
       "version_major": 2,
       "version_minor": 0
      },
      "text/plain": [
       "Processing pixels:   0%|          | 0/66 [00:00<?, ?it/s]"
      ]
     },
     "metadata": {},
     "output_type": "display_data"
    },
    {
     "data": {
      "application/vnd.jupyter.widget-view+json": {
       "model_id": "ab122c3ecaee48e9974772d6cf512a5b",
       "version_major": 2,
       "version_minor": 0
      },
      "text/plain": [
       "Processing pixels:   0%|          | 0/66 [00:00<?, ?it/s]"
      ]
     },
     "metadata": {},
     "output_type": "display_data"
    },
    {
     "data": {
      "application/vnd.jupyter.widget-view+json": {
       "model_id": "08a0fd4668314a348c03699e95c7eebb",
       "version_major": 2,
       "version_minor": 0
      },
      "text/plain": [
       "Processing pixels:   0%|          | 0/66 [00:00<?, ?it/s]"
      ]
     },
     "metadata": {},
     "output_type": "display_data"
    },
    {
     "data": {
      "application/vnd.jupyter.widget-view+json": {
       "model_id": "ae295cf1d7c0495b99fd08d748bea172",
       "version_major": 2,
       "version_minor": 0
      },
      "text/plain": [
       "Processing pixels:   0%|          | 0/66 [00:00<?, ?it/s]"
      ]
     },
     "metadata": {},
     "output_type": "display_data"
    },
    {
     "data": {
      "application/vnd.jupyter.widget-view+json": {
       "model_id": "ea86a17ddf5247a9b2df1e83384189ef",
       "version_major": 2,
       "version_minor": 0
      },
      "text/plain": [
       "Processing pixels:   0%|          | 0/66 [00:00<?, ?it/s]"
      ]
     },
     "metadata": {},
     "output_type": "display_data"
    },
    {
     "data": {
      "application/vnd.jupyter.widget-view+json": {
       "model_id": "ad698cf6b3d34b2d998de9c98abeefdb",
       "version_major": 2,
       "version_minor": 0
      },
      "text/plain": [
       "Processing pixels:   0%|          | 0/66 [00:00<?, ?it/s]"
      ]
     },
     "metadata": {},
     "output_type": "display_data"
    },
    {
     "data": {
      "application/vnd.jupyter.widget-view+json": {
       "model_id": "af2ed4cde2bb4df49d9f56da6686d75d",
       "version_major": 2,
       "version_minor": 0
      },
      "text/plain": [
       "Processing pixels:   0%|          | 0/66 [00:00<?, ?it/s]"
      ]
     },
     "metadata": {},
     "output_type": "display_data"
    },
    {
     "data": {
      "application/vnd.jupyter.widget-view+json": {
       "model_id": "f4359b710fd6464691b07bc5cc8b9a6d",
       "version_major": 2,
       "version_minor": 0
      },
      "text/plain": [
       "Processing pixels:   0%|          | 0/66 [00:00<?, ?it/s]"
      ]
     },
     "metadata": {},
     "output_type": "display_data"
    },
    {
     "data": {
      "application/vnd.jupyter.widget-view+json": {
       "model_id": "c84204a5f3f94fdab92a9bcf8ee59e06",
       "version_major": 2,
       "version_minor": 0
      },
      "text/plain": [
       "Processing pixels:   0%|          | 0/66 [00:00<?, ?it/s]"
      ]
     },
     "metadata": {},
     "output_type": "display_data"
    },
    {
     "data": {
      "application/vnd.jupyter.widget-view+json": {
       "model_id": "09b6632fe6c549ce8d22159ee3164cf8",
       "version_major": 2,
       "version_minor": 0
      },
      "text/plain": [
       "Processing pixels:   0%|          | 0/66 [00:00<?, ?it/s]"
      ]
     },
     "metadata": {},
     "output_type": "display_data"
    },
    {
     "data": {
      "application/vnd.jupyter.widget-view+json": {
       "model_id": "abb75900b524490a80d6b4dcb8dde380",
       "version_major": 2,
       "version_minor": 0
      },
      "text/plain": [
       "Processing pixels:   0%|          | 0/66 [00:00<?, ?it/s]"
      ]
     },
     "metadata": {},
     "output_type": "display_data"
    },
    {
     "data": {
      "application/vnd.jupyter.widget-view+json": {
       "model_id": "731906a74a7d46e5b66439035f65ffa2",
       "version_major": 2,
       "version_minor": 0
      },
      "text/plain": [
       "Processing pixels:   0%|          | 0/66 [00:00<?, ?it/s]"
      ]
     },
     "metadata": {},
     "output_type": "display_data"
    },
    {
     "data": {
      "application/vnd.jupyter.widget-view+json": {
       "model_id": "97a279f6c0c84af9bcd2f4f94b0222df",
       "version_major": 2,
       "version_minor": 0
      },
      "text/plain": [
       "Processing pixels:   0%|          | 0/66 [00:00<?, ?it/s]"
      ]
     },
     "metadata": {},
     "output_type": "display_data"
    },
    {
     "data": {
      "application/vnd.jupyter.widget-view+json": {
       "model_id": "a572d9d4db454f1b9b6356fafe55cc2c",
       "version_major": 2,
       "version_minor": 0
      },
      "text/plain": [
       "Processing pixels:   0%|          | 0/66 [00:00<?, ?it/s]"
      ]
     },
     "metadata": {},
     "output_type": "display_data"
    },
    {
     "data": {
      "application/vnd.jupyter.widget-view+json": {
       "model_id": "15b21a4e89374b1d8e0851a00bb002d6",
       "version_major": 2,
       "version_minor": 0
      },
      "text/plain": [
       "Processing pixels:   0%|          | 0/66 [00:00<?, ?it/s]"
      ]
     },
     "metadata": {},
     "output_type": "display_data"
    },
    {
     "data": {
      "application/vnd.jupyter.widget-view+json": {
       "model_id": "2ed0aa86deb147d4b2a56080fcc3f392",
       "version_major": 2,
       "version_minor": 0
      },
      "text/plain": [
       "Processing pixels:   0%|          | 0/66 [00:00<?, ?it/s]"
      ]
     },
     "metadata": {},
     "output_type": "display_data"
    },
    {
     "data": {
      "application/vnd.jupyter.widget-view+json": {
       "model_id": "53f8541538a24c6a9465a98cd060ab42",
       "version_major": 2,
       "version_minor": 0
      },
      "text/plain": [
       "Processing pixels:   0%|          | 0/66 [00:00<?, ?it/s]"
      ]
     },
     "metadata": {},
     "output_type": "display_data"
    },
    {
     "data": {
      "application/vnd.jupyter.widget-view+json": {
       "model_id": "a228ed8e52dd447d9bcb95f28292ea9a",
       "version_major": 2,
       "version_minor": 0
      },
      "text/plain": [
       "Processing pixels:   0%|          | 0/66 [00:00<?, ?it/s]"
      ]
     },
     "metadata": {},
     "output_type": "display_data"
    },
    {
     "data": {
      "application/vnd.jupyter.widget-view+json": {
       "model_id": "d5595a4918dd47fdb58c54c05adda67e",
       "version_major": 2,
       "version_minor": 0
      },
      "text/plain": [
       "Processing pixels:   0%|          | 0/66 [00:00<?, ?it/s]"
      ]
     },
     "metadata": {},
     "output_type": "display_data"
    },
    {
     "data": {
      "application/vnd.jupyter.widget-view+json": {
       "model_id": "c4edf4cbd90b4e7ab488f9fefa6dc2cd",
       "version_major": 2,
       "version_minor": 0
      },
      "text/plain": [
       "Processing pixels:   0%|          | 0/66 [00:00<?, ?it/s]"
      ]
     },
     "metadata": {},
     "output_type": "display_data"
    },
    {
     "data": {
      "application/vnd.jupyter.widget-view+json": {
       "model_id": "b190898daace4e0d883068450bef3406",
       "version_major": 2,
       "version_minor": 0
      },
      "text/plain": [
       "Processing pixels:   0%|          | 0/66 [00:00<?, ?it/s]"
      ]
     },
     "metadata": {},
     "output_type": "display_data"
    },
    {
     "data": {
      "application/vnd.jupyter.widget-view+json": {
       "model_id": "920887de75b944039f569bb758ec83c9",
       "version_major": 2,
       "version_minor": 0
      },
      "text/plain": [
       "Processing pixels:   0%|          | 0/66 [00:00<?, ?it/s]"
      ]
     },
     "metadata": {},
     "output_type": "display_data"
    },
    {
     "data": {
      "application/vnd.jupyter.widget-view+json": {
       "model_id": "80315020d4644141bd6edb54c872c81d",
       "version_major": 2,
       "version_minor": 0
      },
      "text/plain": [
       "Processing pixels:   0%|          | 0/66 [00:00<?, ?it/s]"
      ]
     },
     "metadata": {},
     "output_type": "display_data"
    },
    {
     "data": {
      "application/vnd.jupyter.widget-view+json": {
       "model_id": "309773aaeac042e895e3ad2b9a74a2f7",
       "version_major": 2,
       "version_minor": 0
      },
      "text/plain": [
       "Processing pixels:   0%|          | 0/66 [00:00<?, ?it/s]"
      ]
     },
     "metadata": {},
     "output_type": "display_data"
    },
    {
     "data": {
      "application/vnd.jupyter.widget-view+json": {
       "model_id": "1cfb8017483b4572b1e5e0888c21f1a1",
       "version_major": 2,
       "version_minor": 0
      },
      "text/plain": [
       "Processing pixels:   0%|          | 0/66 [00:00<?, ?it/s]"
      ]
     },
     "metadata": {},
     "output_type": "display_data"
    },
    {
     "data": {
      "application/vnd.jupyter.widget-view+json": {
       "model_id": "134e44ac7dbc4eda89474c94af03e497",
       "version_major": 2,
       "version_minor": 0
      },
      "text/plain": [
       "Processing pixels:   0%|          | 0/66 [00:00<?, ?it/s]"
      ]
     },
     "metadata": {},
     "output_type": "display_data"
    },
    {
     "data": {
      "application/vnd.jupyter.widget-view+json": {
       "model_id": "701559ba62af4275b51137c29297aa17",
       "version_major": 2,
       "version_minor": 0
      },
      "text/plain": [
       "Processing pixels:   0%|          | 0/66 [00:00<?, ?it/s]"
      ]
     },
     "metadata": {},
     "output_type": "display_data"
    },
    {
     "data": {
      "application/vnd.jupyter.widget-view+json": {
       "model_id": "f73efc8e90724a1d817972d781f9cfc5",
       "version_major": 2,
       "version_minor": 0
      },
      "text/plain": [
       "Processing pixels:   0%|          | 0/66 [00:00<?, ?it/s]"
      ]
     },
     "metadata": {},
     "output_type": "display_data"
    },
    {
     "data": {
      "application/vnd.jupyter.widget-view+json": {
       "model_id": "e3c8aab90922477a84fe9d29ad2b5fd3",
       "version_major": 2,
       "version_minor": 0
      },
      "text/plain": [
       "Processing pixels:   0%|          | 0/66 [00:00<?, ?it/s]"
      ]
     },
     "metadata": {},
     "output_type": "display_data"
    },
    {
     "data": {
      "application/vnd.jupyter.widget-view+json": {
       "model_id": "6a89769a8e62461182cc3423bf36cbb3",
       "version_major": 2,
       "version_minor": 0
      },
      "text/plain": [
       "Processing pixels:   0%|          | 0/66 [00:00<?, ?it/s]"
      ]
     },
     "metadata": {},
     "output_type": "display_data"
    },
    {
     "data": {
      "application/vnd.jupyter.widget-view+json": {
       "model_id": "d22c4656360347a9b611ac871eb0229b",
       "version_major": 2,
       "version_minor": 0
      },
      "text/plain": [
       "Processing pixels:   0%|          | 0/66 [00:00<?, ?it/s]"
      ]
     },
     "metadata": {},
     "output_type": "display_data"
    },
    {
     "data": {
      "application/vnd.jupyter.widget-view+json": {
       "model_id": "bd097db907544d42bdf9805db783cd59",
       "version_major": 2,
       "version_minor": 0
      },
      "text/plain": [
       "Processing pixels:   0%|          | 0/66 [00:00<?, ?it/s]"
      ]
     },
     "metadata": {},
     "output_type": "display_data"
    },
    {
     "data": {
      "application/vnd.jupyter.widget-view+json": {
       "model_id": "0cd366872d7b420dbb9d9c071db8e17a",
       "version_major": 2,
       "version_minor": 0
      },
      "text/plain": [
       "Processing pixels:   0%|          | 0/66 [00:00<?, ?it/s]"
      ]
     },
     "metadata": {},
     "output_type": "display_data"
    },
    {
     "data": {
      "application/vnd.jupyter.widget-view+json": {
       "model_id": "850f1117be754ea797bafe4a4bab7cd4",
       "version_major": 2,
       "version_minor": 0
      },
      "text/plain": [
       "Processing pixels:   0%|          | 0/66 [00:00<?, ?it/s]"
      ]
     },
     "metadata": {},
     "output_type": "display_data"
    },
    {
     "data": {
      "application/vnd.jupyter.widget-view+json": {
       "model_id": "a0cd4100bbb84bc6b125fb1abdc1d9f2",
       "version_major": 2,
       "version_minor": 0
      },
      "text/plain": [
       "Processing pixels:   0%|          | 0/66 [00:00<?, ?it/s]"
      ]
     },
     "metadata": {},
     "output_type": "display_data"
    },
    {
     "data": {
      "application/vnd.jupyter.widget-view+json": {
       "model_id": "f6b41b8d2f514305a7ff149b896a60ed",
       "version_major": 2,
       "version_minor": 0
      },
      "text/plain": [
       "Processing pixels:   0%|          | 0/66 [00:00<?, ?it/s]"
      ]
     },
     "metadata": {},
     "output_type": "display_data"
    },
    {
     "data": {
      "application/vnd.jupyter.widget-view+json": {
       "model_id": "8d6480306a8e4716a8fe9a9f92abac6e",
       "version_major": 2,
       "version_minor": 0
      },
      "text/plain": [
       "Processing pixels:   0%|          | 0/66 [00:00<?, ?it/s]"
      ]
     },
     "metadata": {},
     "output_type": "display_data"
    },
    {
     "data": {
      "application/vnd.jupyter.widget-view+json": {
       "model_id": "a2088f344ee644a29dcd44f0eb229434",
       "version_major": 2,
       "version_minor": 0
      },
      "text/plain": [
       "Processing pixels:   0%|          | 0/66 [00:00<?, ?it/s]"
      ]
     },
     "metadata": {},
     "output_type": "display_data"
    },
    {
     "data": {
      "application/vnd.jupyter.widget-view+json": {
       "model_id": "8add9028ea3649a1ad46454cd539e159",
       "version_major": 2,
       "version_minor": 0
      },
      "text/plain": [
       "Processing pixels:   0%|          | 0/66 [00:00<?, ?it/s]"
      ]
     },
     "metadata": {},
     "output_type": "display_data"
    },
    {
     "data": {
      "application/vnd.jupyter.widget-view+json": {
       "model_id": "869539c0585748409997793dd7421176",
       "version_major": 2,
       "version_minor": 0
      },
      "text/plain": [
       "Processing pixels:   0%|          | 0/66 [00:00<?, ?it/s]"
      ]
     },
     "metadata": {},
     "output_type": "display_data"
    },
    {
     "data": {
      "application/vnd.jupyter.widget-view+json": {
       "model_id": "c441ca0acfd04aadb0e0f6abd5a4b8af",
       "version_major": 2,
       "version_minor": 0
      },
      "text/plain": [
       "Processing pixels:   0%|          | 0/66 [00:00<?, ?it/s]"
      ]
     },
     "metadata": {},
     "output_type": "display_data"
    },
    {
     "name": "stdout",
     "output_type": "stream",
     "text": [
      "Predicted label image saved to D:\\Sudikin Pramanik\\EDU\\IIRS\\ML\\Quantum process\\output\\olabel1.tiff\n"
     ]
    }
   ],
   "source": [
    "import numpy as np\n",
    "from osgeo import gdal\n",
    "from sklearn.preprocessing import StandardScaler\n",
    "from sklearn.svm import SVC\n",
    "from tqdm.notebook import tqdm  # For progress bar in notebooks\n",
    "\n",
    "# Function to read a multi-band TIFF image\n",
    "def read_tiff_image(image_path):\n",
    "    dataset = gdal.Open(image_path)\n",
    "    if dataset is None:\n",
    "        raise FileNotFoundError(f\"Failed to open the file: {image_path}\")\n",
    "    \n",
    "    num_bands = dataset.RasterCount\n",
    "    bands = []\n",
    "    for i in range(1, num_bands + 1):\n",
    "        band = dataset.GetRasterBand(i).ReadAsArray()\n",
    "        bands.append(band)\n",
    "    \n",
    "    return np.array(bands), dataset\n",
    "\n",
    "# Function to predict the label for a given pixel (feature vector)\n",
    "def predict_pixel(features):\n",
    "    # Normalize and reduce using the trained scaler and PCA\n",
    "    normalized_features = scaler.transform([features])\n",
    "    \n",
    "    # Make prediction\n",
    "    prediction = classifier.predict(normalized_features)\n",
    "    \n",
    "    return prediction[0]  # Return 1 for Positive, 0 for Negative\n",
    "\n",
    "# Function to generate a georeferenced TIFF image with predicted labels\n",
    "def save_predictions_as_geotiff(predictions, output_path, reference_dataset):\n",
    "    # Get image dimensions\n",
    "    height, width = predictions.shape\n",
    "    \n",
    "    # Create a new georeferenced TIFF file with the same spatial reference as the input\n",
    "    driver = gdal.GetDriverByName('GTiff')\n",
    "    output_dataset = driver.Create(output_path, width, height, 1, gdal.GDT_Byte)\n",
    "    output_dataset.SetGeoTransform(reference_dataset.GetGeoTransform())\n",
    "    output_dataset.SetProjection(reference_dataset.GetProjection())\n",
    "    \n",
    "    # Write the predictions to the new file\n",
    "    output_band = output_dataset.GetRasterBand(1)\n",
    "    output_band.WriteArray(predictions)\n",
    "    \n",
    "    # Flush cache and close the dataset\n",
    "    output_band.FlushCache()\n",
    "    output_dataset = None\n",
    "\n",
    "# Path to the input multi-band TIFF image\n",
    "input_image_path = r'test1.tiff'\n",
    "output_image_path = r'olabel1.tiff'\n",
    "\n",
    "# Step 1: Read the input multi-band TIFF image\n",
    "bands, dataset = read_tiff_image(input_image_path)\n",
    "\n",
    "# Step 2: Initialize the prediction array\n",
    "height, width = bands.shape[1], bands.shape[2]\n",
    "predictions = np.zeros((height, width), dtype=np.uint8)\n",
    "\n",
    "# Step 3: For each pixel, generate the feature vector and predict\n",
    "# Using tqdm.notebook to track progress in the notebook\n",
    "for i in tqdm(range(height), desc=\"Processing rows\", leave=False):\n",
    "    for j in tqdm(range(width), desc=\"Processing pixels\", leave=False):\n",
    "        # Extract the feature vector for the pixel (using all bands)\n",
    "        pixel_features = [bands[band_idx, i, j] for band_idx in range(bands.shape[0])]\n",
    "        \n",
    "        # Predict the label (0 or 1)\n",
    "        predictions[i, j] = predict_pixel(pixel_features)\n",
    "\n",
    "# Step 4: Save the predictions as a new georeferenced TIFF image\n",
    "save_predictions_as_geotiff(predictions, output_image_path, dataset)\n",
    "\n",
    "print(f\"Predicted label image saved to {output_image_path}\")\n"
   ]
  }
 ],
 "metadata": {
  "kernelspec": {
   "display_name": "qenv311",
   "language": "python",
   "name": "python3"
  },
  "language_info": {
   "codemirror_mode": {
    "name": "ipython",
    "version": 3
   },
   "file_extension": ".py",
   "mimetype": "text/x-python",
   "name": "python",
   "nbconvert_exporter": "python",
   "pygments_lexer": "ipython3",
   "version": "3.11.9"
  }
 },
 "nbformat": 4,
 "nbformat_minor": 2
}
