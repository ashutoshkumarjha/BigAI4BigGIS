{
 "cells": [
  {
   "cell_type": "markdown",
   "metadata": {},
   "source": [
    "# Ex - 1\n",
    "## BigGIS for BigDATA (Quantum Computing)\n",
    "### Ashutosh Kumar Jha (Scientist/Engineer SF), IIRS, ISRO\n",
    "### Sudikin Pramanik (Quantum computing coordinator), Student, IIRS, ISRO\n",
    "`Basics of matrix and quantum computation on a single system`"
   ]
  },
  {
   "cell_type": "markdown",
   "metadata": {},
   "source": [
    "Showing the system specification and requirements"
   ]
  },
  {
   "cell_type": "code",
   "execution_count": null,
   "metadata": {},
   "outputs": [
    {
     "name": "stdout",
     "output_type": "stream",
     "text": [
      "# packages in environment at /home/sudikin/anaconda3/envs/qenv31109:\n",
      "#\n",
      "# Name                    Version                   Build  Channel\n",
      "_libgcc_mutex             0.1                 conda_forge    conda-forge\n",
      "_openmp_mutex             4.5                       2_gnu    conda-forge\n",
      "affine                    2.4.0                    pypi_0    pypi\n",
      "annotated-types           0.7.0                    pypi_0    pypi\n",
      "asttokens                 2.4.1              pyhd8ed1ab_0    conda-forge\n",
      "attrs                     24.2.0                   pypi_0    pypi\n",
      "bzip2                     1.0.8                h5eee18b_6  \n",
      "ca-certificates           2024.8.30            hbcca054_0    conda-forge\n",
      "certifi                   2024.8.30                pypi_0    pypi\n",
      "cffi                      1.17.1                   pypi_0    pypi\n",
      "charset-normalizer        3.3.2                    pypi_0    pypi\n",
      "click                     8.1.7                    pypi_0    pypi\n",
      "click-plugins             1.1.1                    pypi_0    pypi\n",
      "cligj                     0.7.2                    pypi_0    pypi\n",
      "comm                      0.2.2              pyhd8ed1ab_0    conda-forge\n",
      "contourpy                 1.3.0                    pypi_0    pypi\n",
      "cryptography              43.0.1                   pypi_0    pypi\n",
      "cycler                    0.12.1                   pypi_0    pypi\n",
      "debugpy                   1.8.5           py311hfdbb021_1    conda-forge\n",
      "decorator                 5.1.1              pyhd8ed1ab_0    conda-forge\n",
      "dill                      0.3.8                    pypi_0    pypi\n",
      "earthpy                   0.9.4                    pypi_0    pypi\n",
      "exceptiongroup            1.2.2              pyhd8ed1ab_0    conda-forge\n",
      "executing                 2.1.0              pyhd8ed1ab_0    conda-forge\n",
      "fonttools                 4.53.1                   pypi_0    pypi\n",
      "gdal                      3.8.4                    pypi_0    pypi\n",
      "geopandas                 1.0.1                    pypi_0    pypi\n",
      "ibm-cloud-sdk-core        3.20.6                   pypi_0    pypi\n",
      "ibm-platform-services     0.57.0                   pypi_0    pypi\n",
      "idna                      3.8                      pypi_0    pypi\n",
      "imageio                   2.36.0                   pypi_0    pypi\n",
      "importlib-metadata        8.4.0              pyha770c72_0    conda-forge\n",
      "importlib_metadata        8.4.0                hd8ed1ab_0    conda-forge\n",
      "ipycytoscape              1.3.3                    pypi_0    pypi\n",
      "ipykernel                 6.29.5             pyh3099207_0    conda-forge\n",
      "ipython                   8.27.0             pyh707e725_0    conda-forge\n",
      "ipywidgets                8.1.5                    pypi_0    pypi\n",
      "jedi                      0.19.1             pyhd8ed1ab_0    conda-forge\n",
      "joblib                    1.4.2                    pypi_0    pypi\n",
      "jsonpickle                3.0.3                    pypi_0    pypi\n",
      "jupyter_client            8.6.2              pyhd8ed1ab_0    conda-forge\n",
      "jupyter_core              5.7.2           py311h38be061_0    conda-forge\n",
      "jupyterlab-widgets        3.0.13                   pypi_0    pypi\n",
      "kiwisolver                1.4.7                    pypi_0    pypi\n",
      "lazy-loader               0.4                      pypi_0    pypi\n",
      "ld_impl_linux-64          2.38                 h1181459_1  \n",
      "libffi                    3.4.4                h6a678d5_1  \n",
      "libgcc                    14.1.0               h77fa898_1    conda-forge\n",
      "libgcc-ng                 14.1.0               h69a702a_1    conda-forge\n",
      "libgomp                   14.1.0               h77fa898_1    conda-forge\n",
      "libsodium                 1.0.18               h36c2ea0_1    conda-forge\n",
      "libstdcxx                 14.1.0               hc0a3c3a_1    conda-forge\n",
      "libstdcxx-ng              11.2.0               h1234567_1  \n",
      "libuuid                   1.41.5               h5eee18b_0  \n",
      "matplotlib                3.9.2                    pypi_0    pypi\n",
      "matplotlib-inline         0.1.7              pyhd8ed1ab_0    conda-forge\n",
      "mpmath                    1.3.0                    pypi_0    pypi\n",
      "ncurses                   6.4                  h6a678d5_0  \n",
      "nest-asyncio              1.6.0              pyhd8ed1ab_0    conda-forge\n",
      "networkx                  3.2.1                    pypi_0    pypi\n",
      "numpy                     2.1.1                    pypi_0    pypi\n",
      "openssl                   3.3.2                hb9d3cd8_0    conda-forge\n",
      "packaging                 24.1               pyhd8ed1ab_0    conda-forge\n",
      "pandas                    2.2.2                    pypi_0    pypi\n",
      "parso                     0.8.4              pyhd8ed1ab_0    conda-forge\n",
      "pbr                       6.1.0                    pypi_0    pypi\n",
      "pexpect                   4.9.0              pyhd8ed1ab_0    conda-forge\n",
      "pickleshare               0.7.5                   py_1003    conda-forge\n",
      "pillow                    10.4.0                   pypi_0    pypi\n",
      "pip                       24.2            py311h06a4308_0  \n",
      "platformdirs              4.3.2              pyhd8ed1ab_0    conda-forge\n",
      "plotly                    5.24.1                   pypi_0    pypi\n",
      "prompt-toolkit            3.0.47             pyha770c72_0    conda-forge\n",
      "psutil                    6.0.0           py311h9ecbd09_1    conda-forge\n",
      "ptyprocess                0.7.0              pyhd3deb0d_0    conda-forge\n",
      "pure_eval                 0.2.3              pyhd8ed1ab_0    conda-forge\n",
      "pycparser                 2.22                     pypi_0    pypi\n",
      "pydantic                  2.9.1                    pypi_0    pypi\n",
      "pydantic-core             2.23.3                   pypi_0    pypi\n",
      "pydot                     3.0.1                    pypi_0    pypi\n",
      "pygments                  2.18.0             pyhd8ed1ab_0    conda-forge\n",
      "pyjwt                     2.9.0                    pypi_0    pypi\n",
      "pylatexenc                2.10                     pypi_0    pypi\n",
      "pyogrio                   0.10.0                   pypi_0    pypi\n",
      "pyparsing                 3.1.4                    pypi_0    pypi\n",
      "pyproj                    3.7.0                    pypi_0    pypi\n",
      "pyspnego                  0.11.1                   pypi_0    pypi\n",
      "python                    3.11.9               h955ad1f_0  \n",
      "python-dateutil           2.9.0.post0              pypi_0    pypi\n",
      "python-graphviz           0.20.3                   pypi_0    pypi\n",
      "python_abi                3.11                    2_cp311    conda-forge\n",
      "pytz                      2024.2                   pypi_0    pypi\n",
      "pyzmq                     25.1.2          py311h6a678d5_0  \n",
      "qc-grader                 0.20.1                   pypi_0    pypi\n",
      "qiskit                    1.2.0                    pypi_0    pypi\n",
      "qiskit-aer                0.15.1                   pypi_0    pypi\n",
      "qiskit-ibm-runtime        0.29.0                   pypi_0    pypi\n",
      "rasterio                  1.4.1                    pypi_0    pypi\n",
      "readline                  8.2                  h5eee18b_0  \n",
      "requests                  2.32.3                   pypi_0    pypi\n",
      "requests-ntlm             1.3.0                    pypi_0    pypi\n",
      "rustworkx                 0.15.1                   pypi_0    pypi\n",
      "scikit-image              0.24.0                   pypi_0    pypi\n",
      "scikit-learn              1.5.2                    pypi_0    pypi\n",
      "scipy                     1.14.1                   pypi_0    pypi\n",
      "seaborn                   0.13.2                   pypi_0    pypi\n",
      "setuptools                72.1.0          py311h06a4308_0  \n",
      "shapely                   2.0.6                    pypi_0    pypi\n",
      "six                       1.16.0             pyh6c4a22f_0    conda-forge\n",
      "spectate                  1.0.1                    pypi_0    pypi\n",
      "sqlite                    3.45.3               h5eee18b_0  \n",
      "stack_data                0.6.2              pyhd8ed1ab_0    conda-forge\n",
      "stevedore                 5.3.0                    pypi_0    pypi\n",
      "symengine                 0.11.0                   pypi_0    pypi\n",
      "sympy                     1.13.2                   pypi_0    pypi\n",
      "tenacity                  9.0.0                    pypi_0    pypi\n",
      "threadpoolctl             3.5.0                    pypi_0    pypi\n",
      "tifffile                  2024.9.20                pypi_0    pypi\n",
      "tk                        8.6.14               h39e8969_0  \n",
      "tornado                   6.4.1           py311h9ecbd09_1    conda-forge\n",
      "traitlets                 5.14.3             pyhd8ed1ab_0    conda-forge\n",
      "typeguard                 4.3.0                    pypi_0    pypi\n",
      "typing_extensions         4.12.2             pyha770c72_0    conda-forge\n",
      "tzdata                    2024.1                   pypi_0    pypi\n",
      "urllib3                   2.2.2                    pypi_0    pypi\n",
      "wcwidth                   0.2.13             pyhd8ed1ab_0    conda-forge\n",
      "websocket-client          1.8.0                    pypi_0    pypi\n",
      "wheel                     0.43.0          py311h06a4308_0  \n",
      "widgetsnbextension        4.0.13                   pypi_0    pypi\n",
      "xz                        5.4.6                h5eee18b_1  \n",
      "zeromq                    4.3.5                h6a678d5_0  \n",
      "zipp                      3.20.1             pyhd8ed1ab_0    conda-forge\n",
      "zlib                      1.2.13               h5eee18b_1  \n"
     ]
    }
   ],
   "source": [
    "#!conda list"
   ]
  },
  {
   "cell_type": "markdown",
   "metadata": {},
   "source": [
    "# Matrix definition\n",
    "Here we will be learn by creatig a simple array"
   ]
  },
  {
   "cell_type": "code",
   "execution_count": 3,
   "metadata": {},
   "outputs": [],
   "source": [
    "from numpy import array"
   ]
  },
  {
   "cell_type": "markdown",
   "metadata": {},
   "source": [
    "We will create a $ |0\\rangle $ and a $|1\\rangle $ vector and display them"
   ]
  },
  {
   "cell_type": "code",
   "execution_count": 4,
   "metadata": {},
   "outputs": [
    {
     "data": {
      "text/plain": [
       "array([1, 0])"
      ]
     },
     "metadata": {},
     "output_type": "display_data"
    },
    {
     "data": {
      "text/plain": [
       "array([0, 1])"
      ]
     },
     "metadata": {},
     "output_type": "display_data"
    }
   ],
   "source": [
    "ket0 = array([1,0])\n",
    "ket1 = array([0,1])\n",
    "display(ket0)\n",
    "display(ket1)"
   ]
  },
  {
   "cell_type": "markdown",
   "metadata": {},
   "source": [
    "Now we will try to display a row vector and a column vector"
   ]
  },
  {
   "cell_type": "code",
   "execution_count": 5,
   "metadata": {},
   "outputs": [
    {
     "data": {
      "text/latex": [
       "$\\displaystyle \\text{Row vector: } \\begin{bmatrix} 1 & 2 & 3 \\end{bmatrix}$"
      ],
      "text/plain": [
       "<IPython.core.display.Math object>"
      ]
     },
     "metadata": {},
     "output_type": "display_data"
    },
    {
     "data": {
      "text/latex": [
       "$\\displaystyle \\text{Column vector: } \\begin{bmatrix} 1 \\\\ 2 \\\\ 3 \\end{bmatrix}$"
      ],
      "text/plain": [
       "<IPython.core.display.Math object>"
      ]
     },
     "metadata": {},
     "output_type": "display_data"
    }
   ],
   "source": [
    "import numpy as np\n",
    "from IPython.display import display, Math\n",
    "\n",
    "# Define a row vector and a column vector\n",
    "row_vector = np.array([1, 2, 3])\n",
    "column_vector = np.array([[1], [2], [3]])\n",
    "\n",
    "# Convert numpy arrays to LaTeX-friendly string formats\n",
    "row_vector_latex = r\"\\text{Row vector: } \\begin{bmatrix} \" + \\\n",
    "                   \" & \".join(map(str, row_vector)) + r\" \\end{bmatrix}\"\n",
    "\n",
    "# Correctly format the column vector in LaTeX\n",
    "column_vector_latex = r\"\\text{Column vector: } \\begin{bmatrix} \" + \\\n",
    "                      \" \\\\\\\\ \".join(map(str, column_vector.flatten())) + r\" \\end{bmatrix}\"\n",
    "\n",
    "# Display the dynamically generated LaTeX vectors\n",
    "display(Math(row_vector_latex))\n",
    "display(Math(column_vector_latex))"
   ]
  },
  {
   "cell_type": "markdown",
   "metadata": {},
   "source": [
    "Having done the above thing it is not required to change the formulations to view as a ket and a bra.Usually the Qiskit takes ket vectors as a default and no need to go after how it looks."
   ]
  },
  {
   "cell_type": "markdown",
   "metadata": {},
   "source": [
    "# Matrix operation\n",
    "\n",
    "Defining the matrix"
   ]
  },
  {
   "cell_type": "code",
   "execution_count": 6,
   "metadata": {},
   "outputs": [
    {
     "data": {
      "text/plain": [
       "array([[1. , 1. ],\n",
       "       [0.5, 0. ]])"
      ]
     },
     "execution_count": 6,
     "metadata": {},
     "output_type": "execute_result"
    }
   ],
   "source": [
    "M1 = array([[1,1],[0,0]])\n",
    "M2 = array([[1,1],[1,0]])\n",
    "M1/2 + M2/2"
   ]
  },
  {
   "cell_type": "markdown",
   "metadata": {},
   "source": [
    "NumPy is designed to handle various types of array operations efficiently, and one feature it provides is broadcasting. Broadcasting allows NumPy to perform operations on arrays of different shapes by automatically expanding their dimensions when necessary."
   ]
  },
  {
   "cell_type": "code",
   "execution_count": 7,
   "metadata": {},
   "outputs": [
    {
     "data": {
      "text/plain": [
       "array([1, 0])"
      ]
     },
     "metadata": {},
     "output_type": "display_data"
    },
    {
     "data": {
      "text/plain": [
       "array([[2, 1],\n",
       "       [0, 0]])"
      ]
     },
     "metadata": {},
     "output_type": "display_data"
    },
    {
     "data": {
      "text/plain": [
       "array([[1, 1],\n",
       "       [0, 0]])"
      ]
     },
     "metadata": {},
     "output_type": "display_data"
    }
   ],
   "source": [
    "from numpy import matmul\n",
    "\n",
    "display(matmul(M1,ket1))\n",
    "display(matmul(M1,M2))\n",
    "display(matmul(M1,M1))"
   ]
  },
  {
   "cell_type": "markdown",
   "metadata": {},
   "source": [
    "Defining and displaying the state vectors"
   ]
  },
  {
   "cell_type": "code",
   "execution_count": 8,
   "metadata": {},
   "outputs": [
    {
     "name": "stdout",
     "output_type": "stream",
     "text": [
      "Statevectors u, v, w have been defined.\n"
     ]
    }
   ],
   "source": [
    "from qiskit.quantum_info import Statevector\n",
    "from numpy import sqrt\n",
    "\n",
    "u=Statevector([1/sqrt(2), 1/sqrt(2)])\n",
    "v=Statevector([(1+2.0j)/3,-2/3])\n",
    "w=Statevector([1/3, 2/3])\n",
    "\n",
    "print(\"Statevectors u, v, w have been defined.\")"
   ]
  },
  {
   "cell_type": "markdown",
   "metadata": {},
   "source": [
    "Drawing the statevectors in LaTex"
   ]
  },
  {
   "cell_type": "code",
   "execution_count": 9,
   "metadata": {},
   "outputs": [
    {
     "data": {
      "text/latex": [
       "$$\\frac{\\sqrt{2}}{2} |0\\rangle+\\frac{\\sqrt{2}}{2} |1\\rangle$$"
      ],
      "text/plain": [
       "<IPython.core.display.Latex object>"
      ]
     },
     "metadata": {},
     "output_type": "display_data"
    },
    {
     "data": {
      "text/plain": [
       "[0.33333333+0.j,0.66666667+0.j]"
      ]
     },
     "metadata": {},
     "output_type": "display_data"
    },
    {
     "data": {
      "text/latex": [
       "$$(\\frac{1}{3} + \\frac{2 i}{3}) |0\\rangle- \\frac{2}{3} |1\\rangle$$"
      ],
      "text/plain": [
       "<IPython.core.display.Latex object>"
      ]
     },
     "metadata": {},
     "output_type": "display_data"
    }
   ],
   "source": [
    "display(u.draw(\"latex\"))\n",
    "display(w.draw(\"text\"))\n",
    "display(v.draw(\"latex\"))"
   ]
  },
  {
   "cell_type": "markdown",
   "metadata": {},
   "source": [
    "Checking whether the state vectors are valid or invalid."
   ]
  },
  {
   "cell_type": "code",
   "execution_count": 10,
   "metadata": {},
   "outputs": [
    {
     "data": {
      "text/plain": [
       "True"
      ]
     },
     "metadata": {},
     "output_type": "display_data"
    },
    {
     "data": {
      "text/plain": [
       "False"
      ]
     },
     "metadata": {},
     "output_type": "display_data"
    },
    {
     "data": {
      "text/plain": [
       "True"
      ]
     },
     "metadata": {},
     "output_type": "display_data"
    }
   ],
   "source": [
    "display(u.is_valid())\n",
    "display(w.is_valid())\n",
    "display(v.is_valid())"
   ]
  },
  {
   "cell_type": "markdown",
   "metadata": {},
   "source": [
    "# Measurement\n",
    "\n",
    "\n",
    "### Quantum Measurement and Normalization\n",
    "\n",
    "When you perform a measurement on a quantum state in Qiskit using `Statevector.measure()`, the quantum state collapses to one of the basis states, and the new state vector is determined by this collapse. Let’s break this down conceptually.\n",
    "\n",
    "#### Your Quantum State Before Measurement\n",
    "\n",
    "You started with the following state vector:\n",
    "\n",
    "$$\n",
    "v = \\frac{1+2i}{3} |0⟩ + \\frac{-2}{3} |1⟩\n",
    "$$\n",
    "\n",
    "In terms of the vector components:\n",
    "\n",
    "$$\n",
    "v = \\begin{bmatrix}\n",
    "\\frac{1+2i}{3} \\\\\n",
    "\\frac{-2}{3}\n",
    "\\end{bmatrix}\n",
    "$$\n",
    "\n",
    "This represents a superposition of the $ |0⟩ $ and $ |1⟩ $ basis states.\n",
    "\n",
    "#### Step 1: Probability Calculation\n",
    "\n",
    "Before the measurement, the probability of measuring each basis state is determined by the magnitude of the coefficients (amplitudes) in the state vector.\n",
    "\n",
    "For $ |0⟩ $, the coefficient is $\\frac{1+2i}{3}$. The probability of measuring $ |0⟩ $ is the square of the magnitude of this coefficient:\n",
    "\n",
    "$$\n",
    "P(0) = \\left| \\frac{1+2i}{3} \\right|^2 = \\frac{1^2 + 2^2}{9} = \\frac{5}{9}\n",
    "$$\n",
    "\n",
    "For $ |1⟩ $, the coefficient is $\\frac{-2}{3}$. The probability of measuring $ |1⟩ $ is the square of the magnitude of this coefficient:\n",
    "\n",
    "$$\n",
    "P(1) = \\left| \\frac{-2}{3} \\right|^2 = \\frac{4}{9}\n",
    "$$\n",
    "\n",
    "So:\n",
    "\n",
    "- The probability of measuring $ |0⟩ $ is $\\frac{5}{9}$.\n",
    "- The probability of measuring $ |1⟩ $ is $\\frac{4}{9}$.\n",
    "\n",
    "#### Step 2: Measurement Result\n",
    "\n",
    "When you call `v.measure()`, a random outcome is selected based on these probabilities. In your case, $ |0⟩ $ was measured, as indicated by the output '0'.\n",
    "\n",
    "#### Step 3: State Vector Collapse\n",
    "\n",
    "After the measurement, the quantum state collapses to the basis state that was measured. Since $ |0⟩ $ was measured, the state vector collapses to $|0⟩$, but the amplitude of $|0⟩$ needs to be renormalized based on its original amplitude before the measurement.\n",
    "\n",
    "##### Normalization:\n",
    "\n",
    "The state after the collapse needs to be normalized. The original coefficient of $|0⟩$ was:\n",
    "\n",
    "$$\n",
    "\\frac{1+2i}{3}\n",
    "$$\n",
    "\n",
    "After the measurement, we normalize this coefficient. The normalization factor is the inverse of the square root of the original amplitude’s probability:\n",
    "\n",
    "$$\n",
    "\\text{Normalization factor} = \\frac{1}{\\sqrt{P(0)}} = \\frac{1}{\\sqrt{\\frac{5}{9}}} = \\sqrt{\\frac{9}{5}} = \\frac{3}{\\sqrt{5}}\n",
    "$$\n",
    "\n",
    "Now we multiply the original coefficient of $|0⟩$ by this normalization factor:\n",
    "\n",
    "$$\n",
    "\\text{New coefficient of } |0⟩ = \\frac{1+2i}{3} \\times \\frac{3}{\\sqrt{5}} = \\frac{1+2i}{\\sqrt{5}}\n",
    "$$\n",
    "\n",
    "Thus, the post-measurement state vector becomes:\n",
    "\n",
    "$$\n",
    "\\text{New state vector} = \\begin{bmatrix}\n",
    "\\frac{1+2i}{\\sqrt{5}} \\\\\n",
    "0\n",
    "\\end{bmatrix}\n",
    "$$\n",
    "\n",
    "#### Final New State Vector\n",
    "\n",
    "After the measurement, the quantum state collapses to:\n",
    "\n",
    "$$\n",
    "\\begin{bmatrix}\n",
    "\\frac{1+2i}{\\sqrt{5}} \\\\\n",
    "0\n",
    "\\end{bmatrix}\n",
    "$$\n",
    "\n",
    "This vector represents the state where the system is now entirely in $|0⟩$, with the appropriate normalization applied to the coefficient of $|0⟩$.\n",
    "\n",
    "#### Summary\n",
    "\n",
    "- The `measure()` function picks a basis state ($|0⟩$ in this case) based on the probabilities calculated from the initial state.\n",
    "- After the measurement, the state vector collapses to the measured basis state ($|0⟩$).\n",
    "- The amplitude for $|0⟩$ is renormalized based on its original amplitude before the measurement, resulting in the new state vector:\n",
    "\n",
    "$$\n",
    "\\begin{bmatrix}\n",
    "\\frac{1+2i}{\\sqrt{5}} \\\\\n",
    "0\n",
    "\\end{bmatrix}\n",
    "$$\n",
    "\n",
    "\n",
    "Understood. Here’s the corrected text:\n",
    "\n",
    "---\n",
    "\n",
    "Great question! The confusion seems to be about why we bother normalizing the state after measurement if we already know the system collapsed into a particular basis state (like $|0⟩$).\n",
    "\n",
    "Let’s break this down conceptually.\n",
    "\n",
    "### Understanding Quantum Measurement\n",
    "\n",
    "Before measurement, your quantum system is in a **superposition** of the basis states $|0⟩$ and $|1⟩$. In your case, the initial state is:\n",
    "\n",
    "$$\n",
    "v = \\frac{1+2i}{3} |0⟩ + \\frac{-2}{3} |1⟩\n",
    "$$\n",
    "\n",
    "Each term in the superposition has an associated **probability amplitude**, and the square of its magnitude gives the probability of measuring that particular state.\n",
    "\n",
    "- The probability of measuring $|0⟩$ is $P(0) = \\frac{5}{9}$\n",
    "- The probability of measuring $|1⟩$ is $P(1) = \\frac{4}{9}$\n",
    "\n",
    "When you **measure** the quantum system, it collapses to one of the basis states, either $|0⟩$ or $|1⟩$, with the corresponding probability.\n",
    "\n",
    "In your example, suppose you measure and find the state has collapsed to $|0⟩$. Conceptually, this means the system is now definitely in the $|0⟩$ state (i.e., the measurement outcome is $|0⟩$).\n",
    "\n",
    "### Why Normalize After Measurement?\n",
    "\n",
    "Now, the question is: If we know the system is in $|0⟩$ after measurement, why do we still normalize the state?\n",
    "\n",
    "Here’s the key idea:\n",
    "\n",
    "- **Normalization ensures that the state is a valid quantum state** after the measurement.\n",
    "- Even though the system has collapsed to $|0⟩$, **the amplitude of $|0⟩$ was originally part of a superposition**.\n",
    "\n",
    "Before measurement, the system had some probability of being in $|0⟩$ (not a certainty). After measurement, you want to describe the state with certainty that it is $|0⟩$. To ensure that the post-measurement state remains valid, it needs to be normalized, so that the probability of being in this state is 1.\n",
    "\n",
    "Let’s look at the difference between these two stages:\n",
    "\n",
    "1. **Before Measurement**:\n",
    "   - The state $v = \\frac{1+2i}{3} |0⟩ + \\frac{-2}{3} |1⟩$ is a superposition.\n",
    "   - Probabilities: $P(0) = \\frac{5}{9}$, $P(1) = \\frac{4}{9}$.\n",
    "\n",
    "2. **After Measurement**:\n",
    "   - Once you measure and collapse to $|0⟩$, you know for sure it’s $|0⟩$, but to reflect this change properly in the state vector, you need to **remove the old superposition and probabilities**.\n",
    "   - To do this, you **normalize the remaining amplitude** to 1.\n",
    "\n",
    "Without normalization, the old probabilities would still be \"carrying over\" into the new state, making it invalid as a pure state after collapse.\n",
    "\n",
    "### Conceptual Example\n",
    "\n",
    "Let’s say you flip a coin where:\n",
    "- **Heads** corresponds to $|0⟩$,\n",
    "- **Tails** corresponds to $|1⟩$,\n",
    "- But the coin is **weighted** so that heads comes up 5/9 of the time and tails comes up 4/9 of the time.\n",
    "\n",
    "Now, you flip the coin and get **heads** (state $|0⟩$).\n",
    "\n",
    "- Before the flip, you had a **weighted chance** of either heads or tails.\n",
    "- After the flip, you now know **for sure** it’s heads (state $|0⟩$).\n",
    "\n",
    "Even though you **knew the probability of heads** before flipping, after the flip, you don't care about the old probabilities. You just know it’s heads, so the outcome needs to reflect that with **certainty**—which is analogous to normalizing the quantum state after measurement to ensure it represents a definite outcome.\n",
    "\n",
    "### Quantum State Collapse and Normalization\n",
    "\n",
    "In quantum mechanics, the pre-measurement state is a **probabilistic description** of the system. After measurement, you have a **definite outcome** (in this case, $|0⟩$), but to describe the quantum system mathematically, you need to **remove any leftover uncertainty** from the old state. That’s why normalization is crucial.\n",
    "\n",
    "It’s not that we’re normalizing the **basis state** itself (since $|0⟩$ is already normalized), but we’re ensuring the **entire state vector** reflects the post-measurement reality, where the system is now completely in the $|0⟩$ state, with a probability of 1.\n",
    "\n",
    "---\n"
   ]
  },
  {
   "cell_type": "code",
   "execution_count": 11,
   "metadata": {},
   "outputs": [
    {
     "data": {
      "text/plain": [
       "(np.str_('0'),\n",
       " Statevector([0.4472136+0.89442719j, 0.       +0.j        ],\n",
       "             dims=(2,)))"
      ]
     },
     "execution_count": 11,
     "metadata": {},
     "output_type": "execute_result"
    }
   ],
   "source": [
    "v.measure()"
   ]
  },
  {
   "cell_type": "markdown",
   "metadata": {},
   "source": [
    "Sample_counts and histogram\n",
    "\n",
    "So we will be running he simulator a number of times.The simulator will give back the measured values each number of times.In that way we can get a probability count."
   ]
  },
  {
   "cell_type": "code",
   "execution_count": 12,
   "metadata": {},
   "outputs": [
    {
     "data": {
      "text/plain": [
       "{np.str_('0'): np.int64(540), np.str_('1'): np.int64(460)}"
      ]
     },
     "metadata": {},
     "output_type": "display_data"
    },
    {
     "data": {
      "image/png": "[encoded data removed]",
      "text/plain": [
       "<Figure size 640x480 with 1 Axes>"
      ]
     },
     "execution_count": 12,
     "metadata": {},
     "output_type": "execute_result"
    }
   ],
   "source": [
    "from qiskit.visualization import plot_histogram\n",
    "\n",
    "statistics = v.sample_counts(1000)\n",
    "display(statistics)\n",
    "plot_histogram(statistics)"
   ]
  }
 ],
 "metadata": {
  "kernelspec": {
   "display_name": "qenv31109",
   "language": "python",
   "name": "python3"
  },
  "language_info": {
   "codemirror_mode": {
    "name": "ipython",
    "version": 3
   },
   "file_extension": ".py",
   "mimetype": "text/x-python",
   "name": "python",
   "nbconvert_exporter": "python",
   "pygments_lexer": "ipython3",
   "version": "3.11.9"
  }
 },
 "nbformat": 4,
 "nbformat_minor": 2
}
