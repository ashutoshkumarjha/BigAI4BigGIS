{
  "cells": [
    {
      "cell_type": "markdown",
      "metadata": {
        "id": "P72v8uDfhiRY"
      },
      "source": [
        "# Ex - 1\n",
        "## BigGIS for BigDATA (Quantum Computing)\n",
        "### Ashutosh Kumar Jha (Scientist/Engineer SF), IIRS, ISRO\n",
        "### Sudikin Pramanik (Quantum computing coordinator), Student, IIRS, ISRO\n",
        "`Basics of matrix and quantum computation on a single system`"
      ]
    },
    {
      "cell_type": "markdown",
      "metadata": {
        "id": "mOTZz2aZhiRa"
      },
      "source": [
        "Showing the system specification and requirements"
      ]
    },
    {
      "cell_type": "code",
      "source": [
        "from google.colab import drive\n",
        "drive.mount(\"/content/drive\")"
      ],
      "metadata": {
        "colab": {
          "base_uri": "https://localhost:8080/"
        },
        "id": "KSdI5z5SiRez",
        "outputId": "25ccad74-7b02-48a8-8ecd-bd31101a4b34"
      },
      "execution_count": 14,
      "outputs": [
        {
          "output_type": "stream",
          "name": "stdout",
          "text": [
            "Mounted at /content/drive\n"
          ]
        }
      ]
    },
    {
      "cell_type": "markdown",
      "metadata": {
        "id": "cxcbdVQzhiRc"
      },
      "source": [
        "# Matrix definition\n",
        "Here we will be learn by creatig a simple array"
      ]
    },
    {
      "cell_type": "code",
      "execution_count": 1,
      "metadata": {
        "id": "vxnQIEcLhiRc"
      },
      "outputs": [],
      "source": [
        "from numpy import array"
      ]
    },
    {
      "cell_type": "markdown",
      "metadata": {
        "id": "J4k27BC5hiRc"
      },
      "source": [
        "We will create a $ |0\\rangle $ and a $|1\\rangle $ vector and display them"
      ]
    },
    {
      "cell_type": "code",
      "execution_count": 2,
      "metadata": {
        "colab": {
          "base_uri": "https://localhost:8080/",
          "height": 52
        },
        "id": "rFUvS_tHhiRc",
        "outputId": "f6158328-3958-4bc1-c327-22c570130b14"
      },
      "outputs": [
        {
          "output_type": "display_data",
          "data": {
            "text/plain": [
              "array([1, 0])"
            ]
          },
          "metadata": {}
        },
        {
          "output_type": "display_data",
          "data": {
            "text/plain": [
              "array([0, 1])"
            ]
          },
          "metadata": {}
        }
      ],
      "source": [
        "ket0 = array([1,0])\n",
        "ket1 = array([0,1])\n",
        "display(ket0)\n",
        "display(ket1)"
      ]
    },
    {
      "cell_type": "markdown",
      "metadata": {
        "id": "g46TE64khiRd"
      },
      "source": [
        "Now we will try to display a row vector and a column vector"
      ]
    },
    {
      "cell_type": "code",
      "execution_count": 3,
      "metadata": {
        "colab": {
          "base_uri": "https://localhost:8080/",
          "height": 99
        },
        "id": "y1Aw_ouyhiRd",
        "outputId": "d5177411-31b0-43b5-8356-588bf979768b"
      },
      "outputs": [
        {
          "output_type": "display_data",
          "data": {
            "text/plain": [
              "<IPython.core.display.Math object>"
            ],
            "text/latex": "$\\displaystyle \\text{Row vector: } \\begin{bmatrix} 1 & 2 & 3 \\end{bmatrix}$"
          },
          "metadata": {}
        },
        {
          "output_type": "display_data",
          "data": {
            "text/plain": [
              "<IPython.core.display.Math object>"
            ],
            "text/latex": "$\\displaystyle \\text{Column vector: } \\begin{bmatrix} 1 \\\\ 2 \\\\ 3 \\end{bmatrix}$"
          },
          "metadata": {}
        }
      ],
      "source": [
        "import numpy as np\n",
        "from IPython.display import display, Math\n",
        "\n",
        "# Define a row vector and a column vector\n",
        "row_vector = np.array([1, 2, 3])\n",
        "column_vector = np.array([[1], [2], [3]])\n",
        "\n",
        "# Convert numpy arrays to LaTeX-friendly string formats\n",
        "row_vector_latex = r\"\\text{Row vector: } \\begin{bmatrix} \" + \\\n",
        "                   \" & \".join(map(str, row_vector)) + r\" \\end{bmatrix}\"\n",
        "\n",
        "# Correctly format the column vector in LaTeX\n",
        "column_vector_latex = r\"\\text{Column vector: } \\begin{bmatrix} \" + \\\n",
        "                      \" \\\\\\\\ \".join(map(str, column_vector.flatten())) + r\" \\end{bmatrix}\"\n",
        "\n",
        "# Display the dynamically generated LaTeX vectors\n",
        "display(Math(row_vector_latex))\n",
        "display(Math(column_vector_latex))"
      ]
    },
    {
      "cell_type": "markdown",
      "metadata": {
        "id": "jXsiXqLGhiRd"
      },
      "source": [
        "Having done the above thing it is not required to change the formulations to view as a ket and a bra.Usually the Qiskit takes ket vectors as a default and no need to go after how it looks."
      ]
    },
    {
      "cell_type": "markdown",
      "metadata": {
        "id": "ArgxNM_phiRe"
      },
      "source": [
        "# Matrix operation\n",
        "\n",
        "Defining the matrix"
      ]
    },
    {
      "cell_type": "code",
      "execution_count": 4,
      "metadata": {
        "colab": {
          "base_uri": "https://localhost:8080/"
        },
        "id": "7f7Xqyt9hiRe",
        "outputId": "343de448-17cb-42ea-de0a-41229ae712fb"
      },
      "outputs": [
        {
          "output_type": "execute_result",
          "data": {
            "text/plain": [
              "array([[1. , 1. ],\n",
              "       [0.5, 0. ]])"
            ]
          },
          "metadata": {},
          "execution_count": 4
        }
      ],
      "source": [
        "M1 = array([[1,1],[0,0]])\n",
        "M2 = array([[1,1],[1,0]])\n",
        "M1/2 + M2/2"
      ]
    },
    {
      "cell_type": "markdown",
      "metadata": {
        "id": "wMOxnmwWhiRe"
      },
      "source": [
        "NumPy is designed to handle various types of array operations efficiently, and one feature it provides is broadcasting. Broadcasting allows NumPy to perform operations on arrays of different shapes by automatically expanding their dimensions when necessary."
      ]
    },
    {
      "cell_type": "code",
      "execution_count": 5,
      "metadata": {
        "colab": {
          "base_uri": "https://localhost:8080/",
          "height": 104
        },
        "id": "U6jfpme6hiRe",
        "outputId": "f4cb4087-e623-4489-8a5d-6ed2ffbaf808"
      },
      "outputs": [
        {
          "output_type": "display_data",
          "data": {
            "text/plain": [
              "array([1, 0])"
            ]
          },
          "metadata": {}
        },
        {
          "output_type": "display_data",
          "data": {
            "text/plain": [
              "array([[2, 1],\n",
              "       [0, 0]])"
            ]
          },
          "metadata": {}
        },
        {
          "output_type": "display_data",
          "data": {
            "text/plain": [
              "array([[1, 1],\n",
              "       [0, 0]])"
            ]
          },
          "metadata": {}
        }
      ],
      "source": [
        "from numpy import matmul\n",
        "\n",
        "display(matmul(M1,ket1))\n",
        "display(matmul(M1,M2))\n",
        "display(matmul(M1,M1))"
      ]
    },
    {
      "cell_type": "code",
      "source": [
        "!pip install qiskit"
      ],
      "metadata": {
        "colab": {
          "base_uri": "https://localhost:8080/"
        },
        "id": "pRmFB-9OhyeX",
        "outputId": "7366bd50-b76c-4fc2-f73a-17e1a43cdcbe"
      },
      "execution_count": 7,
      "outputs": [
        {
          "output_type": "stream",
          "name": "stdout",
          "text": [
            "Collecting qiskit\n",
            "  Downloading qiskit-1.3.1-cp39-abi3-manylinux_2_17_x86_64.manylinux2014_x86_64.whl.metadata (12 kB)\n",
            "Collecting rustworkx>=0.15.0 (from qiskit)\n",
            "  Downloading rustworkx-0.15.1-cp38-abi3-manylinux_2_17_x86_64.manylinux2014_x86_64.whl.metadata (9.9 kB)\n",
            "Requirement already satisfied: numpy<3,>=1.17 in /usr/local/lib/python3.10/dist-packages (from qiskit) (1.26.4)\n",
            "Requirement already satisfied: scipy>=1.5 in /usr/local/lib/python3.10/dist-packages (from qiskit) (1.13.1)\n",
            "Requirement already satisfied: sympy>=1.3 in /usr/local/lib/python3.10/dist-packages (from qiskit) (1.13.1)\n",
            "Collecting dill>=0.3 (from qiskit)\n",
            "  Downloading dill-0.3.9-py3-none-any.whl.metadata (10 kB)\n",
            "Requirement already satisfied: python-dateutil>=2.8.0 in /usr/local/lib/python3.10/dist-packages (from qiskit) (2.8.2)\n",
            "Collecting stevedore>=3.0.0 (from qiskit)\n",
            "  Downloading stevedore-5.4.0-py3-none-any.whl.metadata (2.3 kB)\n",
            "Requirement already satisfied: typing-extensions in /usr/local/lib/python3.10/dist-packages (from qiskit) (4.12.2)\n",
            "Collecting symengine<0.14,>=0.11 (from qiskit)\n",
            "  Downloading symengine-0.13.0-cp310-cp310-manylinux_2_17_x86_64.manylinux2014_x86_64.whl.metadata (1.2 kB)\n",
            "Requirement already satisfied: six>=1.5 in /usr/local/lib/python3.10/dist-packages (from python-dateutil>=2.8.0->qiskit) (1.17.0)\n",
            "Collecting pbr>=2.0.0 (from stevedore>=3.0.0->qiskit)\n",
            "  Downloading pbr-6.1.0-py2.py3-none-any.whl.metadata (3.4 kB)\n",
            "Requirement already satisfied: mpmath<1.4,>=1.1.0 in /usr/local/lib/python3.10/dist-packages (from sympy>=1.3->qiskit) (1.3.0)\n",
            "Downloading qiskit-1.3.1-cp39-abi3-manylinux_2_17_x86_64.manylinux2014_x86_64.whl (6.7 MB)\n",
            "\u001b[2K   \u001b[90m━━━━━━━━━━━━━━━━━━━━━━━━━━━━━━━━━━━━━━━━\u001b[0m \u001b[32m6.7/6.7 MB\u001b[0m \u001b[31m48.0 MB/s\u001b[0m eta \u001b[36m0:00:00\u001b[0m\n",
            "\u001b[?25hDownloading dill-0.3.9-py3-none-any.whl (119 kB)\n",
            "\u001b[2K   \u001b[90m━━━━━━━━━━━━━━━━━━━━━━━━━━━━━━━━━━━━━━━━\u001b[0m \u001b[32m119.4/119.4 kB\u001b[0m \u001b[31m11.2 MB/s\u001b[0m eta \u001b[36m0:00:00\u001b[0m\n",
            "\u001b[?25hDownloading rustworkx-0.15.1-cp38-abi3-manylinux_2_17_x86_64.manylinux2014_x86_64.whl (2.0 MB)\n",
            "\u001b[2K   \u001b[90m━━━━━━━━━━━━━━━━━━━━━━━━━━━━━━━━━━━━━━━━\u001b[0m \u001b[32m2.0/2.0 MB\u001b[0m \u001b[31m66.5 MB/s\u001b[0m eta \u001b[36m0:00:00\u001b[0m\n",
            "\u001b[?25hDownloading stevedore-5.4.0-py3-none-any.whl (49 kB)\n",
            "\u001b[2K   \u001b[90m━━━━━━━━━━━━━━━━━━━━━━━━━━━━━━━━━━━━━━━━\u001b[0m \u001b[32m49.5/49.5 kB\u001b[0m \u001b[31m4.4 MB/s\u001b[0m eta \u001b[36m0:00:00\u001b[0m\n",
            "\u001b[?25hDownloading symengine-0.13.0-cp310-cp310-manylinux_2_17_x86_64.manylinux2014_x86_64.whl (49.7 MB)\n",
            "\u001b[2K   \u001b[90m━━━━━━━━━━━━━━━━━━━━━━━━━━━━━━━━━━━━━━━━\u001b[0m \u001b[32m49.7/49.7 MB\u001b[0m \u001b[31m17.4 MB/s\u001b[0m eta \u001b[36m0:00:00\u001b[0m\n",
            "\u001b[?25hDownloading pbr-6.1.0-py2.py3-none-any.whl (108 kB)\n",
            "\u001b[2K   \u001b[90m━━━━━━━━━━━━━━━━━━━━━━━━━━━━━━━━━━━━━━━━\u001b[0m \u001b[32m108.5/108.5 kB\u001b[0m \u001b[31m9.6 MB/s\u001b[0m eta \u001b[36m0:00:00\u001b[0m\n",
            "\u001b[?25hInstalling collected packages: symengine, rustworkx, pbr, dill, stevedore, qiskit\n",
            "Successfully installed dill-0.3.9 pbr-6.1.0 qiskit-1.3.1 rustworkx-0.15.1 stevedore-5.4.0 symengine-0.13.0\n"
          ]
        }
      ]
    },
    {
      "cell_type": "markdown",
      "metadata": {
        "id": "F0PmFZrXhiRe"
      },
      "source": [
        "Defining and displaying the state vectors"
      ]
    },
    {
      "cell_type": "code",
      "execution_count": 8,
      "metadata": {
        "colab": {
          "base_uri": "https://localhost:8080/"
        },
        "id": "cKddCRRVhiRe",
        "outputId": "f74905ac-a7c3-46ce-df1a-8ee92799c19b"
      },
      "outputs": [
        {
          "output_type": "stream",
          "name": "stdout",
          "text": [
            "Statevectors u, v, w have been defined.\n"
          ]
        }
      ],
      "source": [
        "from qiskit.quantum_info import Statevector\n",
        "from numpy import sqrt\n",
        "\n",
        "u=Statevector([1/sqrt(2), 1/sqrt(2)])\n",
        "v=Statevector([(1+2.0j)/3,-2/3])\n",
        "w=Statevector([1/3, 2/3])\n",
        "\n",
        "print(\"Statevectors u, v, w have been defined.\")"
      ]
    },
    {
      "cell_type": "markdown",
      "metadata": {
        "id": "L8CKOZiThiRe"
      },
      "source": [
        "Drawing the statevectors in LaTex"
      ]
    },
    {
      "cell_type": "code",
      "execution_count": 9,
      "metadata": {
        "colab": {
          "base_uri": "https://localhost:8080/",
          "height": 79
        },
        "id": "OLiQgzHkhiRf",
        "outputId": "8bf78221-6717-41fc-cad4-d29569e9c27a"
      },
      "outputs": [
        {
          "output_type": "display_data",
          "data": {
            "text/plain": [
              "<IPython.core.display.Latex object>"
            ],
            "text/latex": "$$\\frac{\\sqrt{2}}{2} |0\\rangle+\\frac{\\sqrt{2}}{2} |1\\rangle$$"
          },
          "metadata": {}
        },
        {
          "output_type": "display_data",
          "data": {
            "text/plain": [
              "[0.33333333+0.j,0.66666667+0.j]"
            ]
          },
          "metadata": {}
        },
        {
          "output_type": "display_data",
          "data": {
            "text/plain": [
              "<IPython.core.display.Latex object>"
            ],
            "text/latex": "$$(\\frac{1}{3} + \\frac{2 i}{3}) |0\\rangle- \\frac{2}{3} |1\\rangle$$"
          },
          "metadata": {}
        }
      ],
      "source": [
        "display(u.draw(\"latex\"))\n",
        "display(w.draw(\"text\"))\n",
        "display(v.draw(\"latex\"))"
      ]
    },
    {
      "cell_type": "markdown",
      "metadata": {
        "id": "3-HeYm7vhiRf"
      },
      "source": [
        "Checking whether the state vectors are valid or invalid."
      ]
    },
    {
      "cell_type": "code",
      "execution_count": 10,
      "metadata": {
        "colab": {
          "base_uri": "https://localhost:8080/",
          "height": 69
        },
        "id": "btWxBTDThiRf",
        "outputId": "e3a303c6-addc-49fd-d59b-3fbf25a5814a"
      },
      "outputs": [
        {
          "output_type": "display_data",
          "data": {
            "text/plain": [
              "True"
            ]
          },
          "metadata": {}
        },
        {
          "output_type": "display_data",
          "data": {
            "text/plain": [
              "False"
            ]
          },
          "metadata": {}
        },
        {
          "output_type": "display_data",
          "data": {
            "text/plain": [
              "True"
            ]
          },
          "metadata": {}
        }
      ],
      "source": [
        "display(u.is_valid())\n",
        "display(w.is_valid())\n",
        "display(v.is_valid())"
      ]
    },
    {
      "cell_type": "markdown",
      "metadata": {
        "id": "1jhzrTr-hiRf"
      },
      "source": [
        "# Measurement\n",
        "\n",
        "\n",
        "### Quantum Measurement and Normalization\n",
        "\n",
        "When you perform a measurement on a quantum state in Qiskit using `Statevector.measure()`, the quantum state collapses to one of the basis states, and the new state vector is determined by this collapse. Let’s break this down conceptually.\n",
        "\n",
        "#### Your Quantum State Before Measurement\n",
        "\n",
        "You started with the following state vector:\n",
        "\n",
        "$$\n",
        "v = \\frac{1+2i}{3} |0⟩ + \\frac{-2}{3} |1⟩\n",
        "$$\n",
        "\n",
        "In terms of the vector components:\n",
        "\n",
        "$$\n",
        "v = \\begin{bmatrix}\n",
        "\\frac{1+2i}{3} \\\\\n",
        "\\frac{-2}{3}\n",
        "\\end{bmatrix}\n",
        "$$\n",
        "\n",
        "This represents a superposition of the $ |0⟩ $ and $ |1⟩ $ basis states.\n",
        "\n",
        "#### Step 1: Probability Calculation\n",
        "\n",
        "Before the measurement, the probability of measuring each basis state is determined by the magnitude of the coefficients (amplitudes) in the state vector.\n",
        "\n",
        "For $ |0⟩ $, the coefficient is $\\frac{1+2i}{3}$. The probability of measuring $ |0⟩ $ is the square of the magnitude of this coefficient:\n",
        "\n",
        "$$\n",
        "P(0) = \\left| \\frac{1+2i}{3} \\right|^2 = \\frac{1^2 + 2^2}{9} = \\frac{5}{9}\n",
        "$$\n",
        "\n",
        "For $ |1⟩ $, the coefficient is $\\frac{-2}{3}$. The probability of measuring $ |1⟩ $ is the square of the magnitude of this coefficient:\n",
        "\n",
        "$$\n",
        "P(1) = \\left| \\frac{-2}{3} \\right|^2 = \\frac{4}{9}\n",
        "$$\n",
        "\n",
        "So:\n",
        "\n",
        "- The probability of measuring $ |0⟩ $ is $\\frac{5}{9}$.\n",
        "- The probability of measuring $ |1⟩ $ is $\\frac{4}{9}$.\n",
        "\n",
        "#### Step 2: Measurement Result\n",
        "\n",
        "When you call `v.measure()`, a random outcome is selected based on these probabilities. In your case, $ |0⟩ $ was measured, as indicated by the output '0'.\n",
        "\n",
        "#### Step 3: State Vector Collapse\n",
        "\n",
        "After the measurement, the quantum state collapses to the basis state that was measured. Since $ |0⟩ $ was measured, the state vector collapses to $|0⟩$, but the amplitude of $|0⟩$ needs to be renormalized based on its original amplitude before the measurement.\n",
        "\n",
        "##### Normalization:\n",
        "\n",
        "The state after the collapse needs to be normalized. The original coefficient of $|0⟩$ was:\n",
        "\n",
        "$$\n",
        "\\frac{1+2i}{3}\n",
        "$$\n",
        "\n",
        "After the measurement, we normalize this coefficient. The normalization factor is the inverse of the square root of the original amplitude’s probability:\n",
        "\n",
        "$$\n",
        "\\text{Normalization factor} = \\frac{1}{\\sqrt{P(0)}} = \\frac{1}{\\sqrt{\\frac{5}{9}}} = \\sqrt{\\frac{9}{5}} = \\frac{3}{\\sqrt{5}}\n",
        "$$\n",
        "\n",
        "Now we multiply the original coefficient of $|0⟩$ by this normalization factor:\n",
        "\n",
        "$$\n",
        "\\text{New coefficient of } |0⟩ = \\frac{1+2i}{3} \\times \\frac{3}{\\sqrt{5}} = \\frac{1+2i}{\\sqrt{5}}\n",
        "$$\n",
        "\n",
        "Thus, the post-measurement state vector becomes:\n",
        "\n",
        "$$\n",
        "\\text{New state vector} = \\begin{bmatrix}\n",
        "\\frac{1+2i}{\\sqrt{5}} \\\\\n",
        "0\n",
        "\\end{bmatrix}\n",
        "$$\n",
        "\n",
        "#### Final New State Vector\n",
        "\n",
        "After the measurement, the quantum state collapses to:\n",
        "\n",
        "$$\n",
        "\\begin{bmatrix}\n",
        "\\frac{1+2i}{\\sqrt{5}} \\\\\n",
        "0\n",
        "\\end{bmatrix}\n",
        "$$\n",
        "\n",
        "This vector represents the state where the system is now entirely in $|0⟩$, with the appropriate normalization applied to the coefficient of $|0⟩$.\n",
        "\n",
        "#### Summary\n",
        "\n",
        "- The `measure()` function picks a basis state ($|0⟩$ in this case) based on the probabilities calculated from the initial state.\n",
        "- After the measurement, the state vector collapses to the measured basis state ($|0⟩$).\n",
        "- The amplitude for $|0⟩$ is renormalized based on its original amplitude before the measurement, resulting in the new state vector:\n",
        "\n",
        "$$\n",
        "\\begin{bmatrix}\n",
        "\\frac{1+2i}{\\sqrt{5}} \\\\\n",
        "0\n",
        "\\end{bmatrix}\n",
        "$$\n",
        "\n",
        "\n",
        "Understood. Here’s the corrected text:\n",
        "\n",
        "---\n",
        "\n",
        "Great question! The confusion seems to be about why we bother normalizing the state after measurement if we already know the system collapsed into a particular basis state (like $|0⟩$).\n",
        "\n",
        "Let’s break this down conceptually.\n",
        "\n",
        "### Understanding Quantum Measurement\n",
        "\n",
        "Before measurement, your quantum system is in a **superposition** of the basis states $|0⟩$ and $|1⟩$. In your case, the initial state is:\n",
        "\n",
        "$$\n",
        "v = \\frac{1+2i}{3} |0⟩ + \\frac{-2}{3} |1⟩\n",
        "$$\n",
        "\n",
        "Each term in the superposition has an associated **probability amplitude**, and the square of its magnitude gives the probability of measuring that particular state.\n",
        "\n",
        "- The probability of measuring $|0⟩$ is $P(0) = \\frac{5}{9}$\n",
        "- The probability of measuring $|1⟩$ is $P(1) = \\frac{4}{9}$\n",
        "\n",
        "When you **measure** the quantum system, it collapses to one of the basis states, either $|0⟩$ or $|1⟩$, with the corresponding probability.\n",
        "\n",
        "In your example, suppose you measure and find the state has collapsed to $|0⟩$. Conceptually, this means the system is now definitely in the $|0⟩$ state (i.e., the measurement outcome is $|0⟩$).\n",
        "\n",
        "### Why Normalize After Measurement?\n",
        "\n",
        "Now, the question is: If we know the system is in $|0⟩$ after measurement, why do we still normalize the state?\n",
        "\n",
        "Here’s the key idea:\n",
        "\n",
        "- **Normalization ensures that the state is a valid quantum state** after the measurement.\n",
        "- Even though the system has collapsed to $|0⟩$, **the amplitude of $|0⟩$ was originally part of a superposition**.\n",
        "\n",
        "Before measurement, the system had some probability of being in $|0⟩$ (not a certainty). After measurement, you want to describe the state with certainty that it is $|0⟩$. To ensure that the post-measurement state remains valid, it needs to be normalized, so that the probability of being in this state is 1.\n",
        "\n",
        "Let’s look at the difference between these two stages:\n",
        "\n",
        "1. **Before Measurement**:\n",
        "   - The state $v = \\frac{1+2i}{3} |0⟩ + \\frac{-2}{3} |1⟩$ is a superposition.\n",
        "   - Probabilities: $P(0) = \\frac{5}{9}$, $P(1) = \\frac{4}{9}$.\n",
        "\n",
        "2. **After Measurement**:\n",
        "   - Once you measure and collapse to $|0⟩$, you know for sure it’s $|0⟩$, but to reflect this change properly in the state vector, you need to **remove the old superposition and probabilities**.\n",
        "   - To do this, you **normalize the remaining amplitude** to 1.\n",
        "\n",
        "Without normalization, the old probabilities would still be \"carrying over\" into the new state, making it invalid as a pure state after collapse.\n",
        "\n",
        "### Conceptual Example\n",
        "\n",
        "Let’s say you flip a coin where:\n",
        "- **Heads** corresponds to $|0⟩$,\n",
        "- **Tails** corresponds to $|1⟩$,\n",
        "- But the coin is **weighted** so that heads comes up 5/9 of the time and tails comes up 4/9 of the time.\n",
        "\n",
        "Now, you flip the coin and get **heads** (state $|0⟩$).\n",
        "\n",
        "- Before the flip, you had a **weighted chance** of either heads or tails.\n",
        "- After the flip, you now know **for sure** it’s heads (state $|0⟩$).\n",
        "\n",
        "Even though you **knew the probability of heads** before flipping, after the flip, you don't care about the old probabilities. You just know it’s heads, so the outcome needs to reflect that with **certainty**—which is analogous to normalizing the quantum state after measurement to ensure it represents a definite outcome.\n",
        "\n",
        "### Quantum State Collapse and Normalization\n",
        "\n",
        "In quantum mechanics, the pre-measurement state is a **probabilistic description** of the system. After measurement, you have a **definite outcome** (in this case, $|0⟩$), but to describe the quantum system mathematically, you need to **remove any leftover uncertainty** from the old state. That’s why normalization is crucial.\n",
        "\n",
        "It’s not that we’re normalizing the **basis state** itself (since $|0⟩$ is already normalized), but we’re ensuring the **entire state vector** reflects the post-measurement reality, where the system is now completely in the $|0⟩$ state, with a probability of 1.\n",
        "\n",
        "---\n"
      ]
    },
    {
      "cell_type": "code",
      "execution_count": 11,
      "metadata": {
        "colab": {
          "base_uri": "https://localhost:8080/"
        },
        "id": "Hq-PAg9ZhiRf",
        "outputId": "7ef6518a-2875-4ed5-cda3-075e320b3126"
      },
      "outputs": [
        {
          "output_type": "execute_result",
          "data": {
            "text/plain": [
              "('1',\n",
              " Statevector([ 0.+0.j, -1.+0.j],\n",
              "             dims=(2,)))"
            ]
          },
          "metadata": {},
          "execution_count": 11
        }
      ],
      "source": [
        "v.measure()"
      ]
    },
    {
      "cell_type": "markdown",
      "metadata": {
        "id": "WZgkBz_ohiRg"
      },
      "source": [
        "Sample_counts and histogram\n",
        "\n",
        "So we will be running he simulator a number of times.The simulator will give back the measured values each number of times.In that way we can get a probability count."
      ]
    },
    {
      "cell_type": "code",
      "execution_count": 12,
      "metadata": {
        "colab": {
          "base_uri": "https://localhost:8080/",
          "height": 446
        },
        "id": "ubhslgurhiRg",
        "outputId": "2132cda6-dc9a-41b2-dc6b-5b669ed9647c"
      },
      "outputs": [
        {
          "output_type": "display_data",
          "data": {
            "text/plain": [
              "{'0': 545, '1': 455}"
            ]
          },
          "metadata": {}
        },
        {
          "output_type": "execute_result",
          "data": {
            "text/plain": [
              "<Figure size 640x480 with 1 Axes>"
            ],
            "image/png": "[encoded data removed]"
          },
          "metadata": {},
          "execution_count": 12
        }
      ],
      "source": [
        "from qiskit.visualization import plot_histogram\n",
        "\n",
        "statistics = v.sample_counts(1000)\n",
        "display(statistics)\n",
        "plot_histogram(statistics)"
      ]
    }
  ],
  "metadata": {
    "kernelspec": {
      "display_name": "qenv31109",
      "language": "python",
      "name": "python3"
    },
    "language_info": {
      "codemirror_mode": {
        "name": "ipython",
        "version": 3
      },
      "file_extension": ".py",
      "mimetype": "text/x-python",
      "name": "python",
      "nbconvert_exporter": "python",
      "pygments_lexer": "ipython3",
      "version": "3.11.9"
    },
    "colab": {
      "provenance": []
    }
  },
  "nbformat": 4,
  "nbformat_minor": 0
}