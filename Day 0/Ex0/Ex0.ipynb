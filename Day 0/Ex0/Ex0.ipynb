{
  "nbformat": 4,
  "nbformat_minor": 0,
  "metadata": {
    "colab": {
      "provenance": []
    },
    "kernelspec": {
      "name": "python3",
      "display_name": "Python 3"
    },
    "language_info": {
      "name": "python"
    }
  },
  "cells": [
    {
      "cell_type": "markdown",
      "source": [
        "# Creating a Google Colab account"
      ],
      "metadata": {
        "id": "yxxzCnLdKBU1"
      }
    },
    {
      "cell_type": "markdown",
      "source": [
        "- Create a google account if you already do not have one\n",
        "- Either navigate to this [link](https://colab.research.google.com/), or go to [Google Drive](https://drive.google.com/), navigate to a folder of your choice, right click > More > Google Colaboratory, connect Google Colaboratory if needed.  \n",
        "\n",
        "If you followed the above steps, you would have already created your first colab notebook.\n",
        "\n",
        "\n",
        "Now, to use colab to run code, connect to a run time, if needed, connect to a GPU run time, this enables faster training."
      ],
      "metadata": {
        "id": "sTJ42cQeKJml"
      }
    },
    {
      "cell_type": "markdown",
      "source": [
        "# Creating training dataset"
      ],
      "metadata": {
        "id": "fnauoS0aLZ2V"
      }
    },
    {
      "cell_type": "markdown",
      "source": [
        "- Download Imagery.\n",
        "  - For Landsat Imagery, use [USGS Earth Explorer](https://earthexplorer.usgs.gov/). Create an Account if you already don't have one, and login.\n",
        "  - For Imagery from Indian Satellites, use [Bhoonidhi](https://bhoonidhi.nrsc.gov.in/bhoonidhi/home.html). Create an Account here if you already don't have one, and login.\n",
        "  - Login to any of those platforms, In the case of Bhoonidhi, navigate to this [page](https://bhoonidhi.nrsc.gov.in/bhoonidhi/index.html).\n",
        "  - Choose aproppriate options and download images as required."
      ],
      "metadata": {
        "id": "0Bndby5gyx2A"
      }
    },
    {
      "cell_type": "markdown",
      "source": [
        "- Once you have downloaded the images, open it in a GIS Software, in this tutorial, we will be using QGIS. Make sure that you have QGIS installed in your system.\n",
        "\n",
        "![Pic1](https://drive.google.com/uc?export=view&id=1GyHAHT7ogJTUFg3LN4WpieXDAIOJfKnS)  \n",
        "Click on Layer > Add Layer > Add Raster Layer and choose the required image by navigating to it.\n",
        "![Pic2](https://drive.google.com/uc?export=view&id=1MgsxyeHBDc3_sPkf3LpAU-iZciPxMjXh)"
      ],
      "metadata": {
        "id": "J7O8UzEpJ7tp"
      }
    },
    {
      "cell_type": "markdown",
      "source": [
        "- To add our annotations for training/tuning, we must create a vector layer that can store polygons, for this purpose, we shall use a Shapefile layer, a popular choice for vector storage. The following images show the steps to do so.  \n",
        "![Pic3](https://drive.google.com/uc?export=view&id=1v6_T9xv52m5v74tG8GbcBtODGn-9wfoe)\n",
        "\n",
        "![Pic4](https://drive.google.com/uc?export=view&id=1J-y_7L-UPodrLXpRwx_NfS4Yjl1AuyR5)  \n",
        "Once you have set the layer up, click OK and create the layer."
      ],
      "metadata": {
        "id": "RV5zHYaC2Ows"
      }
    },
    {
      "cell_type": "markdown",
      "source": [
        "- Once the layer is created, it will show up on the side bar next to the raster file you opened earlier.  \n",
        "![Shapefile Sidebar](https://drive.google.com/uc?export=view&id=1Q48cLAuZBekZVUKp7DO3j_spnqdN0JF_)  \n",
        "\n",
        "Now, to start editing it, in the top bar, make sure that the following icons are selected.\n",
        "![Edit Shapefile](https://drive.google.com/uc?export=view&id=1YZvGjLzZMppu4SZI7Lojqe9e2Ji69nW2)  \n",
        "\n",
        "After making sure that the vector layer is selected, start drawing polygons keeping the base satellite image as reference.  \n",
        "\n",
        "![Drawing Polygons](https://drive.google.com/uc?export=view&id=1xc_3LPdEXXb1wD_-wLZyVGMkXmLZ2Asz)\n",
        "\n",
        "Keep on adding polygons, make sure that the pixels selected are homogenous within a polygon. Also, make sure that the number of pixels corresponding to each class are comparable if not same, i.e. if Vegetation has 1000 pixels, Urban Builtup, Water body etc should all have 1000 or close to a 1000 pixels. This eliminates class imbalance which can cause issues during training."
      ],
      "metadata": {
        "id": "fhgARJy96ASI"
      }
    },
    {
      "cell_type": "markdown",
      "source": [
        "- Once you have selected samples for each class, you are done!\n",
        "- Make sure that you save the polygons once in a while by clicking on the \"Pencil\" icon (Edit Mode) so that in case of some unforeseen circumstances, your data is saved."
      ],
      "metadata": {
        "id": "dycnEncuAb7i"
      }
    }
  ]
}