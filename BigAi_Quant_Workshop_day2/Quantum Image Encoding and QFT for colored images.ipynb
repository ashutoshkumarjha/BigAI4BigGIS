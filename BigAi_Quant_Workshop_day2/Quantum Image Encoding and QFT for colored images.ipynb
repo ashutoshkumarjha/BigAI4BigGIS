{
 "cells": [
  {
   "cell_type": "markdown",
   "id": "fe56e041",
   "metadata": {},
   "source": [
    "## Importing modules"
   ]
  },
  {
   "cell_type": "code",
   "execution_count": 20,
   "id": "35341574",
   "metadata": {},
   "outputs": [
    {
     "ename": "ModuleNotFoundError",
     "evalue": "No module named 'qiskit.tools'",
     "output_type": "error",
     "traceback": [
      "\u001b[1;31m---------------------------------------------------------------------------\u001b[0m",
      "\u001b[1;31mModuleNotFoundError\u001b[0m                       Traceback (most recent call last)",
      "Cell \u001b[1;32mIn[20], line 5\u001b[0m\n\u001b[0;32m      3\u001b[0m \u001b[38;5;28;01mfrom\u001b[39;00m \u001b[38;5;21;01mqiskit_aer\u001b[39;00m \u001b[38;5;28;01mimport\u001b[39;00m Aer\n\u001b[0;32m      4\u001b[0m \u001b[38;5;28;01mfrom\u001b[39;00m \u001b[38;5;21;01mqiskit\u001b[39;00m\u001b[38;5;21;01m.\u001b[39;00m\u001b[38;5;21;01mcircuit\u001b[39;00m\u001b[38;5;21;01m.\u001b[39;00m\u001b[38;5;21;01mlibrary\u001b[39;00m \u001b[38;5;28;01mimport\u001b[39;00m QFT\n\u001b[1;32m----> 5\u001b[0m \u001b[38;5;28;01mfrom\u001b[39;00m \u001b[38;5;21;01mqiskit\u001b[39;00m\u001b[38;5;21;01m.\u001b[39;00m\u001b[38;5;21;01mtools\u001b[39;00m\u001b[38;5;21;01m.\u001b[39;00m\u001b[38;5;21;01mjupyter\u001b[39;00m \u001b[38;5;28;01mimport\u001b[39;00m \u001b[38;5;241m*\u001b[39m\n\u001b[0;32m      6\u001b[0m \u001b[38;5;28;01mfrom\u001b[39;00m \u001b[38;5;21;01mqiskit\u001b[39;00m\u001b[38;5;21;01m.\u001b[39;00m\u001b[38;5;21;01mvisualization\u001b[39;00m \u001b[38;5;28;01mimport\u001b[39;00m plot_histogram\n\u001b[0;32m      7\u001b[0m \u001b[38;5;28;01mfrom\u001b[39;00m \u001b[38;5;21;01mPIL\u001b[39;00m \u001b[38;5;28;01mimport\u001b[39;00m Image\n",
      "\u001b[1;31mModuleNotFoundError\u001b[0m: No module named 'qiskit.tools'"
     ]
    }
   ],
   "source": [
    "import qiskit\n",
    "from qiskit import QuantumCircuit, QuantumRegister,  transpile, assemble\n",
    "from qiskit_aer import Aer\n",
    "from qiskit.circuit.library import QFT\n",
    "from qiskit.tools.jupyter import *\n",
    "from qiskit.visualization import plot_histogram\n",
    "from PIL import Image\n",
    "import numpy as np"
   ]
  },
  {
   "cell_type": "markdown",
   "id": "5a2d62b9",
   "metadata": {},
   "source": [
    "## Function to encode the image onto a quantum state"
   ]
  },
  {
   "cell_type": "code",
   "execution_count": 13,
   "id": "cdf23042",
   "metadata": {},
   "outputs": [],
   "source": [
    "def encode_image(image,n):\n",
    "    \n",
    "    im = Image.open(image,'r')\n",
    "    im = im.convert(\"L\")\n",
    "    pixel_value = list(im.getdata())\n",
    "    pixel_value_array = np.array(pixel_value)\n",
    "    \n",
    "    # Converting rgb values to a single value using rgb = 65536 * r + 256 * g + b\n",
    "\n",
    "    array = np.zeros(2**n)\n",
    "    for i in range(2**n): \n",
    "        for ele in pixel_value_array[i]: \n",
    "            array[i] = 65536 * pixel_value_array[i][0] + 256 * pixel_value_array[i][1] + pixel_value_array[i][2]\n",
    "    array\n",
    "    \n",
    "    #Normalize the pixel values\n",
    "    norm = np.linalg.norm(pixel_value_array)\n",
    "    normalized_array = pixel_value_array/norm\n",
    "    \n",
    "    #Encode onto a quantum state\n",
    "    qc = QuantumCircuit(n)\n",
    "    qc.initialize(normalized_array.data, qc.qubits)\n",
    "    \n",
    "    return qc"
   ]
  },
  {
   "cell_type": "markdown",
   "id": "ea377565",
   "metadata": {},
   "source": [
    "## Function to apply quantum fourier transform on the encode image"
   ]
  },
  {
   "cell_type": "code",
   "execution_count": 14,
   "id": "9cfcbc58",
   "metadata": {},
   "outputs": [],
   "source": [
    "def apply_qft(qc,n):\n",
    "    qc.append(QFT(n), qc.qubits)\n",
    "    return qc"
   ]
  },
  {
   "cell_type": "markdown",
   "id": "90f4460c",
   "metadata": {},
   "source": [
    "## Function to measure the image state"
   ]
  },
  {
   "cell_type": "code",
   "execution_count": 15,
   "id": "67a35456",
   "metadata": {},
   "outputs": [],
   "source": [
    "def measurement_and_retrieval(qc,n):\n",
    "    \n",
    "    #Measure the state\n",
    "    qc.measure_all()\n",
    "    \n",
    "    #Get the probability amplitudes\n",
    "    aer_sim = Aer.get_backend('aer_simulator')\n",
    "    shots = 4096\n",
    "    t_qc = transpile(qc, aer_sim)\n",
    "    qobj = assemble(t_qc, shots=shots)\n",
    "    result = aer_sim.run(qobj).result()\n",
    "    counts = result.get_counts(qc)\n",
    "    fourier_transformed_array = np.zeros(2**n,dtype=float)\n",
    "    bin_var = 0b0000\n",
    "    dict_list = counts.keys()\n",
    "    for i in range(2**n):\n",
    "        str_var = bin(bin_var)[2:]\n",
    "        str_var = str_var.zfill(n)\n",
    "        if str_var in dict_list:\n",
    "            fourier_transformed_array[i] = counts[f'{str_var}']/shots\n",
    "            fourier_transformed_array[i] = np.sqrt(fourier_transformed_array[i])\n",
    "        else:\n",
    "            fourier_transformed_array[i] = 0\n",
    "        bin_var += 1\n",
    "    \n",
    "    # Get the pixel values\n",
    "    fourier_transformed_array = fourier_transformed_array*255\n",
    "    transformed_pixel_data = np.zeros(2**n, dtype=int)\n",
    "    for i in range(2**n): transformed_pixel_data[i] = int(fourier_transformed_array[i])\n",
    "    picture_array = np.asarray([[0 for i in range(size)] for j in range(size)])\n",
    "    for i in range(2**n):\n",
    "        picture_array[i//size][i%size] = transformed_pixel_data[i]\n",
    "    \n",
    "    return picture_array"
   ]
  },
  {
   "cell_type": "markdown",
   "id": "cb88e71a",
   "metadata": {},
   "source": [
    "## Function to retrieve the image"
   ]
  },
  {
   "cell_type": "code",
   "execution_count": 16,
   "id": "3fc9fed0",
   "metadata": {},
   "outputs": [],
   "source": [
    "def retrieve_image(picture_array):\n",
    "    picture_array = picture_array.astype(np.uint8)\n",
    "    new_image = Image.fromarray(picture_array)\n",
    "    new_image.save('new_image.png')\n",
    "    \n",
    "    return None"
   ]
  },
  {
   "cell_type": "markdown",
   "id": "396df786",
   "metadata": {},
   "source": [
    "## Measuring and Image Retrieval"
   ]
  },
  {
   "cell_type": "code",
   "execution_count": 10,
   "id": "01340471",
   "metadata": {},
   "outputs": [
    {
     "ename": "NameError",
     "evalue": "name 'qc' is not defined",
     "output_type": "error",
     "traceback": [
      "\u001b[1;31m---------------------------------------------------------------------------\u001b[0m",
      "\u001b[1;31mNameError\u001b[0m                                 Traceback (most recent call last)",
      "Cell \u001b[1;32mIn[10], line 3\u001b[0m\n\u001b[0;32m      1\u001b[0m aer_sim \u001b[38;5;241m=\u001b[39m Aer\u001b[38;5;241m.\u001b[39mget_backend(\u001b[38;5;124m'\u001b[39m\u001b[38;5;124maer_simulator\u001b[39m\u001b[38;5;124m'\u001b[39m)\n\u001b[0;32m      2\u001b[0m shots \u001b[38;5;241m=\u001b[39m \u001b[38;5;241m4096\u001b[39m\n\u001b[1;32m----> 3\u001b[0m t_qc \u001b[38;5;241m=\u001b[39m transpile(qc, aer_sim)\n\u001b[0;32m      4\u001b[0m qobj \u001b[38;5;241m=\u001b[39m assemble(t_qc, shots\u001b[38;5;241m=\u001b[39mshots)\n\u001b[0;32m      5\u001b[0m result \u001b[38;5;241m=\u001b[39m aer_sim\u001b[38;5;241m.\u001b[39mrun(qobj)\u001b[38;5;241m.\u001b[39mresult()\n",
      "\u001b[1;31mNameError\u001b[0m: name 'qc' is not defined"
     ]
    }
   ],
   "source": [
    "aer_sim = Aer.get_backend('aer_simulator')\n",
    "shots = 4096\n",
    "t_qc = transpile(qc, aer_sim)\n",
    "qobj = assemble(t_qc, shots=shots)\n",
    "result = aer_sim.run(qobj).result()\n",
    "counts = result.get_counts(qc)\n",
    "print(counts)\n",
    "plot_histogram(counts)"
   ]
  },
  {
   "cell_type": "code",
   "execution_count": 11,
   "id": "7b302a84",
   "metadata": {},
   "outputs": [
    {
     "ename": "NameError",
     "evalue": "name 'counts' is not defined",
     "output_type": "error",
     "traceback": [
      "\u001b[1;31m---------------------------------------------------------------------------\u001b[0m",
      "\u001b[1;31mNameError\u001b[0m                                 Traceback (most recent call last)",
      "Cell \u001b[1;32mIn[11], line 5\u001b[0m\n\u001b[0;32m      3\u001b[0m \u001b[38;5;28;01mfor\u001b[39;00m i \u001b[38;5;129;01min\u001b[39;00m \u001b[38;5;28mrange\u001b[39m(\u001b[38;5;241m16\u001b[39m):\n\u001b[0;32m      4\u001b[0m     str_var \u001b[38;5;241m=\u001b[39m \u001b[38;5;28mbin\u001b[39m(bin_var)[\u001b[38;5;241m2\u001b[39m:]\n\u001b[1;32m----> 5\u001b[0m     fourier_transformed_array[i] \u001b[38;5;241m=\u001b[39m counts[\u001b[38;5;124mf\u001b[39m\u001b[38;5;124m'\u001b[39m\u001b[38;5;132;01m{\u001b[39;00mstr_var\u001b[38;5;241m.\u001b[39mzfill(\u001b[38;5;241m4\u001b[39m)\u001b[38;5;132;01m}\u001b[39;00m\u001b[38;5;124m'\u001b[39m]\u001b[38;5;241m/\u001b[39mshots\n\u001b[0;32m      6\u001b[0m     fourier_transformed_array[i] \u001b[38;5;241m=\u001b[39m np\u001b[38;5;241m.\u001b[39msqrt(fourier_transformed_array[i])\n\u001b[0;32m      7\u001b[0m     bin_var \u001b[38;5;241m+\u001b[39m\u001b[38;5;241m=\u001b[39m \u001b[38;5;241m1\u001b[39m\n",
      "\u001b[1;31mNameError\u001b[0m: name 'counts' is not defined"
     ]
    }
   ],
   "source": [
    "fourier_transformed_array = np.zeros(16,dtype=float)\n",
    "bin_var = 0b0000\n",
    "for i in range(16):\n",
    "    str_var = bin(bin_var)[2:]\n",
    "    fourier_transformed_array[i] = counts[f'{str_var.zfill(4)}']/shots\n",
    "    fourier_transformed_array[i] = np.sqrt(fourier_transformed_array[i])\n",
    "    bin_var += 1\n",
    "fourier_transformed_array"
   ]
  },
  {
   "cell_type": "markdown",
   "id": "3aea7a48",
   "metadata": {},
   "source": [
    "### Getting the pixel values"
   ]
  },
  {
   "cell_type": "code",
   "execution_count": 153,
   "id": "4a0b03b7",
   "metadata": {},
   "outputs": [
    {
     "data": {
      "text/plain": [
       "array([13461546,  4251261,  2459128,  2224365,  3090631,  1411688,\n",
       "        1142659,  1362140,  2431023,  1172343,  1201294,  1572863,\n",
       "        3536515,  2445116,  2568476,  4494833])"
      ]
     },
     "execution_count": 153,
     "metadata": {},
     "output_type": "execute_result"
    }
   ],
   "source": [
    "fourier_transformed_array = fourier_transformed_array*16777215\n",
    "transformed_pixel_data = np.zeros(16, dtype=int)\n",
    "for i in range(16): transformed_pixel_data[i] = int(fourier_transformed_array[i])\n",
    "transformed_pixel_data"
   ]
  },
  {
   "cell_type": "code",
   "execution_count": 154,
   "id": "ee8c5b0e",
   "metadata": {},
   "outputs": [
    {
     "data": {
      "text/plain": [
       "array([[[205, 104,  42],\n",
       "        [ 64, 222, 125],\n",
       "        [ 37, 133, 248],\n",
       "        [ 33, 240, 237]],\n",
       "\n",
       "       [[ 47,  40, 199],\n",
       "        [ 21, 138, 104],\n",
       "        [ 17, 111, 131],\n",
       "        [ 20, 200, 220]],\n",
       "\n",
       "       [[ 37,  24,  47],\n",
       "        [ 17, 227, 119],\n",
       "        [ 18,  84, 142],\n",
       "        [ 23, 255, 255]],\n",
       "\n",
       "       [[ 53, 246, 131],\n",
       "        [ 37,  79,  60],\n",
       "        [ 39,  49,  28],\n",
       "        [ 68, 149, 241]]])"
      ]
     },
     "execution_count": 154,
     "metadata": {},
     "output_type": "execute_result"
    }
   ],
   "source": [
    "picture_array = np.asarray([[[0 for i in range(3)] for j in range(4)] for k in range(4)])\n",
    "for i in range(16):\n",
    "    picture_array[i//4][i%4][2] = transformed_pixel_data[i]%256\n",
    "    picture_array[i//4][i%4][1] = int(((transformed_pixel_data[i]%65536)-(picture_array[i//4][i%4][2]))/256)\n",
    "    picture_array[i//4][i%4][0] = int(transformed_pixel_data[i]/65536)\n",
    "picture_array"
   ]
  },
  {
   "cell_type": "markdown",
   "id": "97461969",
   "metadata": {},
   "source": [
    "### Retrieval"
   ]
  },
  {
   "cell_type": "code",
   "execution_count": 156,
   "id": "db65faf6",
   "metadata": {},
   "outputs": [],
   "source": [
    "picture_array = picture_array.astype(np.uint8)\n",
    "new_image = Image.fromarray(picture_array)\n",
    "new_image.save('new3.png')"
   ]
  }
 ],
 "metadata": {
  "kernelspec": {
   "display_name": "Python 3 (ipykernel)",
   "language": "python",
   "name": "python3"
  },
  "language_info": {
   "codemirror_mode": {
    "name": "ipython",
    "version": 3
   },
   "file_extension": ".py",
   "mimetype": "text/x-python",
   "name": "python",
   "nbconvert_exporter": "python",
   "pygments_lexer": "ipython3",
   "version": "3.12.7"
  }
 },
 "nbformat": 4,
 "nbformat_minor": 5
}
