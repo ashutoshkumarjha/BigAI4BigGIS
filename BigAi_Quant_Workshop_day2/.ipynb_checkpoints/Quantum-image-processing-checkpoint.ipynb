{
 "cells": [
  {
   "cell_type": "markdown",
   "metadata": {},
   "source": [
    "## Quantum Image Processing \n",
    "\n",
    "Quantum Image Processing (QIP): Leveraging quantum computing to process and analyze images offers new possibilities for speed and efficiency. \n",
    "\n",
    "Quantum Image Processing is an emerging field with potential applications in quantum machine learning, pattern recognition, and image analysis. Understanding how to represent and manipulate images as quantum states is a crucial step toward leveraging quantum computers for complex image processing tasks.\n",
    "\n",
    "In the below implementation, we explore how to represent a simple grayscale image as a quantum state using Qiskit. We ensure the image vector is properly normalized and visualize the quantum circuit.\n",
    "\n",
    "The code represents the image data as a statevector. A statevector in a quantum system with n qubits is a complex number vector of size 2^n, where each element corresponds to the probability amplitude of being in a specific computational basis state.\n",
    "\n",
    "In this code, the image is a 2x2 grayscale image. To represent it on a quantum circuit with 2 qubits, the code flattens the image into a 4-dimensional vector. Each element in this vector corresponds to the normalized intensity value (0 to 1) of a pixel. The statevector is then constructed by combining these intensity values with appropriate basis states.\n",
    "\n",
    "The initialize instruction in the code applies a specific unitary operation to the qubits, setting their initial state to the statevector representing the image. The exact form of this operation depends on the chosen basis representation but ultimately transforms the computational basis states (|00>, |01>, |10>, |11>) into a superposition weighted by the image data.\n",
    "\n",
    "While the code in this example doesn't explicitly apply any quantum gates that manipulate the statevector, it's important to understand that subsequent quantum circuit operations would involve applying unitary matrices that transform the statevector according to the Schrödinger equation: i * d |ψ(t)> / dt = H(t) |ψ(t)>\n",
    "\n",
    "The statevector:\n",
    "\n",
    "$$i \\dfrac{d}{dt} |\\psi(t)> = H(t) |\\psi(t)>$$\n",
    "\n",
    "Here, \n",
    "* $i$ is the imaginary unit\n",
    "* $|\\psi(t)>$ is the statevector at time $t$\n",
    "* $H(t)$ is the Hamiltonian, a Hermitian matrix representing the system's total energy.\n",
    "\n",
    "\n"
   ]
  },
  {
   "cell_type": "code",
   "execution_count": 1,
   "metadata": {},
   "outputs": [],
   "source": [
    "# Import necessary libraries\n",
    "import numpy as np\n",
    "from qiskit import QuantumCircuit, transpile\n",
    "from qiskit_aer import AerSimulator\n",
    "from qiskit.visualization import array_to_latex, plot_histogram\n",
    "import matplotlib.pyplot as plt\n",
    "\n",
    "%matplotlib inline"
   ]
  },
  {
   "cell_type": "code",
   "execution_count": 2,
   "metadata": {},
   "outputs": [],
   "source": [
    "# Define a simple 2x2 grayscale image\n",
    "image = np.array([[0, 255], [255, 0]])"
   ]
  },
  {
   "cell_type": "code",
   "execution_count": 3,
   "metadata": {},
   "outputs": [],
   "source": [
    "# Normalize pixel values to [0, 1]\n",
    "image_normalized = image / 255.0"
   ]
  },
  {
   "cell_type": "code",
   "execution_count": 4,
   "metadata": {},
   "outputs": [],
   "source": [
    "# Flatten the image to create a vector\n",
    "image_vector = image_normalized.flatten()"
   ]
  },
  {
   "cell_type": "code",
   "execution_count": 5,
   "metadata": {},
   "outputs": [],
   "source": [
    "# Ensure the sum of the amplitudes-squared is 1 by normalizing the vector\n",
    "norm = np.linalg.norm(image_vector)\n",
    "image_vector = image_vector / norm"
   ]
  },
  {
   "cell_type": "code",
   "execution_count": 6,
   "metadata": {},
   "outputs": [],
   "source": [
    "# Create a quantum circuit with two qubits (since 2x2 = 4 pixels)\n",
    "qc = QuantumCircuit(2)"
   ]
  },
  {
   "cell_type": "code",
   "execution_count": 7,
   "metadata": {},
   "outputs": [
    {
     "data": {
      "text/plain": [
       "<qiskit.circuit.instructionset.InstructionSet at 0x1b61e26c670>"
      ]
     },
     "execution_count": 7,
     "metadata": {},
     "output_type": "execute_result"
    }
   ],
   "source": [
    "# Initialize the quantum state to represent the image vector\n",
    "qc.initialize(image_vector, [0, 1])"
   ]
  },
  {
   "cell_type": "code",
   "execution_count": 8,
   "metadata": {},
   "outputs": [
    {
     "data": {
      "text/plain": [
       "<qiskit.circuit.instructionset.InstructionSet at 0x1b61e26c970>"
      ]
     },
     "execution_count": 8,
     "metadata": {},
     "output_type": "execute_result"
    }
   ],
   "source": [
    "# Add statevector save instruction\n",
    "qc.save_statevector()"
   ]
  },
  {
   "cell_type": "code",
   "execution_count": 17,
   "metadata": {},
   "outputs": [
    {
     "data": {
      "image/png": "[encoded data removed]",
      "text/plain": [
       "<Figure size 831.22x284.278 with 1 Axes>"
      ]
     },
     "metadata": {},
     "output_type": "display_data"
    }
   ],
   "source": [
    "# Draw the circuit\n",
    "qc.draw('mpl')\n",
    "plt.show()"
   ]
  },
  {
   "cell_type": "code",
   "execution_count": 10,
   "metadata": {},
   "outputs": [],
   "source": [
    "# Transpile the circuit for the AerSimulator\n",
    "simulator = AerSimulator()\n",
    "transpiled_circuit = transpile(qc, simulator)"
   ]
  },
  {
   "cell_type": "code",
   "execution_count": 11,
   "metadata": {},
   "outputs": [],
   "source": [
    "# Run the simulation to get the statevector\n",
    "result = simulator.run(transpiled_circuit).result()"
   ]
  },
  {
   "cell_type": "code",
   "execution_count": 12,
   "metadata": {},
   "outputs": [],
   "source": [
    "# Get the statevector from experiment data (modified)\n",
    "statevector = result.data()['statevector']"
   ]
  },
  {
   "cell_type": "code",
   "execution_count": 13,
   "metadata": {},
   "outputs": [
    {
     "name": "stdout",
     "output_type": "stream",
     "text": [
      "<IPython.core.display.Latex object>\n"
     ]
    }
   ],
   "source": [
    "# Visualize the statevector using latex (Qiskit 1.0)\n",
    "print(array_to_latex(statevector))  # Print the latex representation"
   ]
  },
  {
   "cell_type": "code",
   "execution_count": 14,
   "metadata": {},
   "outputs": [],
   "source": [
    "# Measure all qubits\n",
    "qc.measure_all()"
   ]
  },
  {
   "cell_type": "code",
   "execution_count": 15,
   "metadata": {},
   "outputs": [],
   "source": [
    "# Transpile the circuit with measurement for the AerSimulator\n",
    "transpiled_circuit_with_measurement = transpile(qc, simulator)\n",
    "result_with_measurement = simulator.run(transpiled_circuit_with_measurement, shots=1024).result()"
   ]
  },
  {
   "cell_type": "code",
   "execution_count": 16,
   "metadata": {},
   "outputs": [
    {
     "data": {
      "image/png": "[encoded data removed]",
      "text/plain": [
       "<Figure size 640x480 with 1 Axes>"
      ]
     },
     "metadata": {},
     "output_type": "display_data"
    }
   ],
   "source": [
    "# Get the measurement results\n",
    "counts = result_with_measurement.get_counts()\n",
    "plot_histogram(counts)\n",
    "plt.show()"
   ]
  },
  {
   "cell_type": "code",
   "execution_count": null,
   "metadata": {},
   "outputs": [],
   "source": []
  }
 ],
 "metadata": {
  "kernelspec": {
   "display_name": "Python 3 (ipykernel)",
   "language": "python",
   "name": "python3"
  },
  "language_info": {
   "codemirror_mode": {
    "name": "ipython",
    "version": 3
   },
   "file_extension": ".py",
   "mimetype": "text/x-python",
   "name": "python",
   "nbconvert_exporter": "python",
   "pygments_lexer": "ipython3",
   "version": "3.12.7"
  }
 },
 "nbformat": 4,
 "nbformat_minor": 4
}
