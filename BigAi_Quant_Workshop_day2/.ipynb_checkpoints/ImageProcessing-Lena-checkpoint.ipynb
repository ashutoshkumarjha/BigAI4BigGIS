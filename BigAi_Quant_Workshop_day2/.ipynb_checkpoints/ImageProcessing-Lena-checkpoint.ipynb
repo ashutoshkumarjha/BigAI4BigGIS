{
 "cells": [
  {
   "cell_type": "raw",
   "metadata": {},
   "source": [
    "!pip install qiskit \n",
    "!pip install qiskit_aer \n",
    "!pip install qiskit-nature \n",
    "!pip install matplotlib \n",
    "!pip install numpy qiskit\n",
    "!pip install machine_learning \n",
    "!pip install qiskit-ibm-runtime \n",
    "!pip install pylatexenc \n",
    "!pip install pyscf \n",
    "!pip install seaborn \n",
    "!pip install networkx \n",
    "!pip install pennylane-qiskit \n",
    "!pip install qiskit-optimization \n",
    "!pip install qiskit-ibm-runtime \n",
    "!pip install qiskit-ignis\n"
   ]
  },
  {
   "cell_type": "markdown",
   "metadata": {},
   "source": [
    "!pip install qiskit-aer"
   ]
  },
  {
   "cell_type": "markdown",
   "metadata": {},
   "source": [
    "!pip install qiskit-ibm-runtime "
   ]
  },
  {
   "cell_type": "markdown",
   "metadata": {},
   "source": [
    "### Basic Quantum Circuit \n",
    "\n",
    "Quantum computing is a revolutionary technology that leverages the principles of quantum mechanics to process information in fundamentally new ways. Unlike classical computers, which use bits to represent data as 0s or 1s, quantum computers use quantum bits, or qubits, which can exist in multiple states simultaneously thanks to superposition. This enables quantum computers to solve certain types of problems much faster than classical computers.\n",
    "\n",
    "Quantum computing has the potential to revolutionize fields such as cryptography, materials science, and complex system simulations. It could help us design new drugs, optimize supply chains, and even tackle climate change by modeling complex systems more efficiently.\n",
    "\n",
    "Here's a simple example in Qiskit, a popular quantum computing framework, to demonstrate a basic quantum circuit."
   ]
  },
  {
   "cell_type": "code",
   "execution_count": 3,
   "metadata": {},
   "outputs": [
    {
     "name": "stdout",
     "output_type": "stream",
     "text": [
      "Defaulting to user installation because normal site-packages is not writeable\n",
      "Collecting qiskit\n",
      "  Downloading qiskit-1.3.0-cp39-abi3-win_amd64.whl.metadata (13 kB)\n",
      "Collecting rustworkx>=0.15.0 (from qiskit)\n",
      "  Using cached rustworkx-0.15.1-cp38-abi3-win_amd64.whl.metadata (10 kB)\n",
      "Requirement already satisfied: numpy<3,>=1.17 in c:\\programdata\\anaconda3\\lib\\site-packages (from qiskit) (1.26.4)\n",
      "Requirement already satisfied: scipy>=1.5 in c:\\programdata\\anaconda3\\lib\\site-packages (from qiskit) (1.13.1)\n",
      "Requirement already satisfied: sympy>=1.3 in c:\\programdata\\anaconda3\\lib\\site-packages (from qiskit) (1.13.2)\n",
      "Requirement already satisfied: dill>=0.3 in c:\\programdata\\anaconda3\\lib\\site-packages (from qiskit) (0.3.8)\n",
      "Requirement already satisfied: python-dateutil>=2.8.0 in c:\\programdata\\anaconda3\\lib\\site-packages (from qiskit) (2.9.0.post0)\n",
      "Collecting stevedore>=3.0.0 (from qiskit)\n",
      "  Downloading stevedore-5.4.0-py3-none-any.whl.metadata (2.3 kB)\n",
      "Requirement already satisfied: typing-extensions in c:\\programdata\\anaconda3\\lib\\site-packages (from qiskit) (4.11.0)\n",
      "Collecting symengine<0.14,>=0.11 (from qiskit)\n",
      "  Downloading symengine-0.13.0-cp312-cp312-win_amd64.whl.metadata (1.2 kB)\n",
      "Requirement already satisfied: six>=1.5 in c:\\programdata\\anaconda3\\lib\\site-packages (from python-dateutil>=2.8.0->qiskit) (1.16.0)\n",
      "Collecting pbr>=2.0.0 (from stevedore>=3.0.0->qiskit)\n",
      "  Downloading pbr-6.1.0-py2.py3-none-any.whl.metadata (3.4 kB)\n",
      "Requirement already satisfied: mpmath<1.4,>=1.1.0 in c:\\programdata\\anaconda3\\lib\\site-packages (from sympy>=1.3->qiskit) (1.3.0)\n",
      "Downloading qiskit-1.3.0-cp39-abi3-win_amd64.whl (6.5 MB)\n",
      "   ---------------------------------------- 0.0/6.5 MB ? eta -:--:--\n",
      "   ------ --------------------------------- 1.0/6.5 MB 6.3 MB/s eta 0:00:01\n",
      "   -------------- ------------------------- 2.4/6.5 MB 6.4 MB/s eta 0:00:01\n",
      "   ---------------------- ----------------- 3.7/6.5 MB 6.2 MB/s eta 0:00:01\n",
      "   -------------------------------- ------- 5.2/6.5 MB 6.4 MB/s eta 0:00:01\n",
      "   -------------------------------------- - 6.3/6.5 MB 6.1 MB/s eta 0:00:01\n",
      "   ---------------------------------------- 6.5/6.5 MB 6.0 MB/s eta 0:00:00\n",
      "Using cached rustworkx-0.15.1-cp38-abi3-win_amd64.whl (1.8 MB)\n",
      "Downloading stevedore-5.4.0-py3-none-any.whl (49 kB)\n",
      "Downloading symengine-0.13.0-cp312-cp312-win_amd64.whl (17.8 MB)\n",
      "   ---------------------------------------- 0.0/17.8 MB ? eta -:--:--\n",
      "   -- ------------------------------------- 1.3/17.8 MB 6.7 MB/s eta 0:00:03\n",
      "   ---- ----------------------------------- 2.1/17.8 MB 6.9 MB/s eta 0:00:03\n",
      "   ---- ----------------------------------- 2.1/17.8 MB 6.9 MB/s eta 0:00:03\n",
      "   ------- -------------------------------- 3.1/17.8 MB 3.7 MB/s eta 0:00:04\n",
      "   ---------- ----------------------------- 4.7/17.8 MB 4.4 MB/s eta 0:00:03\n",
      "   ------------- -------------------------- 6.0/17.8 MB 4.8 MB/s eta 0:00:03\n",
      "   ----------------- ---------------------- 7.6/17.8 MB 5.1 MB/s eta 0:00:02\n",
      "   -------------------- ------------------- 8.9/17.8 MB 5.3 MB/s eta 0:00:02\n",
      "   ---------------------- ----------------- 10.2/17.8 MB 5.4 MB/s eta 0:00:02\n",
      "   ------------------------- -------------- 11.5/17.8 MB 5.5 MB/s eta 0:00:02\n",
      "   ---------------------------- ----------- 12.8/17.8 MB 5.6 MB/s eta 0:00:01\n",
      "   -------------------------------- ------- 14.4/17.8 MB 5.7 MB/s eta 0:00:01\n",
      "   ----------------------------------- ---- 15.7/17.8 MB 5.8 MB/s eta 0:00:01\n",
      "   -------------------------------------- - 17.0/17.8 MB 5.7 MB/s eta 0:00:01\n",
      "   ---------------------------------------- 17.8/17.8 MB 5.7 MB/s eta 0:00:00\n",
      "Downloading pbr-6.1.0-py2.py3-none-any.whl (108 kB)\n",
      "Installing collected packages: symengine, rustworkx, pbr, stevedore, qiskit\n",
      "Successfully installed pbr-6.1.0 qiskit-1.3.0 rustworkx-0.15.1 stevedore-5.4.0 symengine-0.13.0\n"
     ]
    },
    {
     "name": "stderr",
     "output_type": "stream",
     "text": [
      "  WARNING: The script pbr.exe is installed in 'C:\\Users\\raghav\\AppData\\Roaming\\Python\\Python312\\Scripts' which is not on PATH.\n",
      "  Consider adding this directory to PATH or, if you prefer to suppress this warning, use --no-warn-script-location.\n"
     ]
    }
   ],
   "source": [
    "!pip install qiskit"
   ]
  },
  {
   "cell_type": "code",
   "execution_count": 2,
   "metadata": {},
   "outputs": [
    {
     "name": "stdout",
     "output_type": "stream",
     "text": [
      "Defaulting to user installation because normal site-packages is not writeable\n",
      "Collecting qiskit_aer\n",
      "  Downloading qiskit_aer-0.15.1-cp312-cp312-win_amd64.whl.metadata (8.2 kB)\n",
      "Requirement already satisfied: qiskit>=1.1.0 in c:\\users\\raghav\\appdata\\roaming\\python\\python312\\site-packages (from qiskit_aer) (1.3.0)\n",
      "Requirement already satisfied: numpy>=1.16.3 in c:\\programdata\\anaconda3\\lib\\site-packages (from qiskit_aer) (1.26.4)\n",
      "Requirement already satisfied: scipy>=1.0 in c:\\programdata\\anaconda3\\lib\\site-packages (from qiskit_aer) (1.13.1)\n",
      "Requirement already satisfied: psutil>=5 in c:\\programdata\\anaconda3\\lib\\site-packages (from qiskit_aer) (5.9.0)\n",
      "Requirement already satisfied: rustworkx>=0.15.0 in c:\\users\\raghav\\appdata\\roaming\\python\\python312\\site-packages (from qiskit>=1.1.0->qiskit_aer) (0.15.1)\n",
      "Requirement already satisfied: sympy>=1.3 in c:\\programdata\\anaconda3\\lib\\site-packages (from qiskit>=1.1.0->qiskit_aer) (1.13.2)\n",
      "Requirement already satisfied: dill>=0.3 in c:\\programdata\\anaconda3\\lib\\site-packages (from qiskit>=1.1.0->qiskit_aer) (0.3.8)\n",
      "Requirement already satisfied: python-dateutil>=2.8.0 in c:\\programdata\\anaconda3\\lib\\site-packages (from qiskit>=1.1.0->qiskit_aer) (2.9.0.post0)\n",
      "Requirement already satisfied: stevedore>=3.0.0 in c:\\users\\raghav\\appdata\\roaming\\python\\python312\\site-packages (from qiskit>=1.1.0->qiskit_aer) (5.4.0)\n",
      "Requirement already satisfied: typing-extensions in c:\\programdata\\anaconda3\\lib\\site-packages (from qiskit>=1.1.0->qiskit_aer) (4.11.0)\n",
      "Requirement already satisfied: symengine<0.14,>=0.11 in c:\\users\\raghav\\appdata\\roaming\\python\\python312\\site-packages (from qiskit>=1.1.0->qiskit_aer) (0.13.0)\n",
      "Requirement already satisfied: six>=1.5 in c:\\programdata\\anaconda3\\lib\\site-packages (from python-dateutil>=2.8.0->qiskit>=1.1.0->qiskit_aer) (1.16.0)\n",
      "Requirement already satisfied: pbr>=2.0.0 in c:\\users\\raghav\\appdata\\roaming\\python\\python312\\site-packages (from stevedore>=3.0.0->qiskit>=1.1.0->qiskit_aer) (6.1.0)\n",
      "Requirement already satisfied: mpmath<1.4,>=1.1.0 in c:\\programdata\\anaconda3\\lib\\site-packages (from sympy>=1.3->qiskit>=1.1.0->qiskit_aer) (1.3.0)\n",
      "Downloading qiskit_aer-0.15.1-cp312-cp312-win_amd64.whl (9.5 MB)\n",
      "   ---------------------------------------- 0.0/9.5 MB ? eta -:--:--\n",
      "   ---- ----------------------------------- 1.0/9.5 MB 5.6 MB/s eta 0:00:02\n",
      "   --------- ------------------------------ 2.4/9.5 MB 6.1 MB/s eta 0:00:02\n",
      "   --------------- ------------------------ 3.7/9.5 MB 5.7 MB/s eta 0:00:02\n",
      "   ----------------- ---------------------- 4.2/9.5 MB 5.7 MB/s eta 0:00:01\n",
      "   ----------------- ---------------------- 4.2/9.5 MB 5.7 MB/s eta 0:00:01\n",
      "   ---------------------- ----------------- 5.2/9.5 MB 4.2 MB/s eta 0:00:02\n",
      "   --------------------------- ------------ 6.6/9.5 MB 4.6 MB/s eta 0:00:01\n",
      "   ---------------------------------- ----- 8.1/9.5 MB 4.9 MB/s eta 0:00:01\n",
      "   ---------------------------------------  9.4/9.5 MB 5.1 MB/s eta 0:00:01\n",
      "   ---------------------------------------- 9.5/9.5 MB 4.7 MB/s eta 0:00:00\n",
      "Installing collected packages: qiskit_aer\n",
      "Successfully installed qiskit_aer-0.15.1\n"
     ]
    }
   ],
   "source": [
    "!pip install qiskit_aer "
   ]
  },
  {
   "cell_type": "code",
   "execution_count": 14,
   "metadata": {},
   "outputs": [
    {
     "name": "stdout",
     "output_type": "stream",
     "text": [
      "Defaulting to user installation because normal site-packages is not writeable\n",
      "Collecting pylatexenc\n",
      "  Using cached pylatexenc-2.10.tar.gz (162 kB)\n",
      "  Preparing metadata (setup.py): started\n",
      "  Preparing metadata (setup.py): finished with status 'done'\n",
      "Building wheels for collected packages: pylatexenc\n",
      "  Building wheel for pylatexenc (setup.py): started\n",
      "  Building wheel for pylatexenc (setup.py): finished with status 'done'\n",
      "  Created wheel for pylatexenc: filename=pylatexenc-2.10-py3-none-any.whl size=136846 sha256=5f444737a3bc535bd23e37c325ec1388169ea51e8260ccc7cae66eece0227364\n",
      "  Stored in directory: c:\\users\\raghav\\appdata\\local\\pip\\cache\\wheels\\06\\3e\\78\\fa1588c1ae991bbfd814af2bcac6cef7a178beee1939180d46\n",
      "Successfully built pylatexenc\n",
      "Installing collected packages: pylatexenc\n",
      "Successfully installed pylatexenc-2.10\n"
     ]
    },
    {
     "name": "stderr",
     "output_type": "stream",
     "text": [
      "  WARNING: The scripts latex2text.exe, latexencode.exe and latexwalker.exe are installed in 'C:\\Users\\raghav\\AppData\\Roaming\\Python\\Python312\\Scripts' which is not on PATH.\n",
      "  Consider adding this directory to PATH or, if you prefer to suppress this warning, use --no-warn-script-location.\n"
     ]
    }
   ],
   "source": [
    "!pip install pylatexenc "
   ]
  },
  {
   "cell_type": "code",
   "execution_count": 1,
   "metadata": {},
   "outputs": [],
   "source": [
    "# Import necessary libraries\n",
    "from qiskit import QuantumCircuit,transpile\n",
    "from qiskit_aer import AerSimulator\n",
    "from qiskit.visualization import plot_histogram\n",
    "import matplotlib.pyplot as plt\n",
    "\n",
    "%matplotlib inline"
   ]
  },
  {
   "cell_type": "code",
   "execution_count": 2,
   "metadata": {},
   "outputs": [],
   "source": [
    "# Create a Quantum Circuit with 1 qubit and 1 classical bit\n",
    "qc = QuantumCircuit(1, 1)"
   ]
  },
  {
   "cell_type": "code",
   "execution_count": 3,
   "metadata": {},
   "outputs": [
    {
     "data": {
      "text/plain": [
       "<qiskit.circuit.instructionset.InstructionSet at 0x12e79018cd0>"
      ]
     },
     "execution_count": 3,
     "metadata": {},
     "output_type": "execute_result"
    }
   ],
   "source": [
    "# Apply a Hadamard gate to put the qubit into superposition\n",
    "qc.h(0)"
   ]
  },
  {
   "cell_type": "code",
   "execution_count": 4,
   "metadata": {},
   "outputs": [
    {
     "data": {
      "text/plain": [
       "<qiskit.circuit.instructionset.InstructionSet at 0x12e78ff6e30>"
      ]
     },
     "execution_count": 4,
     "metadata": {},
     "output_type": "execute_result"
    }
   ],
   "source": [
    "# Measure the qubit\n",
    "qc.measure(0, 0)"
   ]
  },
  {
   "cell_type": "code",
   "execution_count": 5,
   "metadata": {},
   "outputs": [],
   "source": [
    "# Use the Qiskit Aer simulator to run the circuit\n",
    "simulator = AerSimulator()\n",
    "compiled_circuit = transpile(qc, simulator)\n",
    "result = simulator.run(compiled_circuit).result()"
   ]
  },
  {
   "cell_type": "code",
   "execution_count": 6,
   "metadata": {},
   "outputs": [
    {
     "name": "stdout",
     "output_type": "stream",
     "text": [
      "Counts: {'1': 521, '0': 503}\n"
     ]
    }
   ],
   "source": [
    "# Get the counts of outcomes\n",
    "counts = result.get_counts()\n",
    "print(\"Counts:\", counts)"
   ]
  },
  {
   "cell_type": "code",
   "execution_count": 7,
   "metadata": {},
   "outputs": [
    {
     "name": "stdout",
     "output_type": "stream",
     "text": [
      "     ┌───┐┌─┐\n",
      "  q: ┤ H ├┤M├\n",
      "     └───┘└╥┘\n",
      "c: 1/══════╩═\n",
      "           0 \n"
     ]
    }
   ],
   "source": [
    "#Print circuit \n",
    "print(qc)"
   ]
  },
  {
   "cell_type": "code",
   "execution_count": 12,
   "metadata": {},
   "outputs": [
    {
     "data": {
      "image/png": "[encoded data removed]",
      "text/plain": [
       "<Figure size 269.064x200.667 with 1 Axes>"
      ]
     },
     "metadata": {},
     "output_type": "display_data"
    }
   ],
   "source": [
    "# Visualize the circuit\n",
    "qc.draw('mpl')\n",
    "plt.show()"
   ]
  },
  {
   "cell_type": "code",
   "execution_count": 10,
   "metadata": {},
   "outputs": [
    {
     "data": {
      "image/png": "[encoded data removed]",
      "text/plain": [
       "<Figure size 640x480 with 1 Axes>"
      ]
     },
     "metadata": {},
     "output_type": "display_data"
    }
   ],
   "source": [
    "# Visualize the results\n",
    "plot_histogram(counts)\n",
    "plt.show()"
   ]
  },
  {
   "cell_type": "markdown",
   "metadata": {},
   "source": [
    "This simple quantum circuit applies a Hadamard gate to a qubit, creating a superposition of states, and then measures the result. Running this circuit multiple times will show a roughly equal distribution of 0s and 1s, illustrating the probabilistic nature of quantum measurements."
   ]
  },
  {
   "cell_type": "code",
   "execution_count": 29,
   "metadata": {},
   "outputs": [
    {
     "data": {
      "image/png": "[encoded data removed]",
      "text/plain": [
       "<Figure size 640x480 with 1 Axes>"
      ]
     },
     "metadata": {},
     "output_type": "display_data"
    },
    {
     "ename": "QiskitError",
     "evalue": "'No statevector for experiment \"None\"'",
     "output_type": "error",
     "traceback": [
      "\u001b[1;31m---------------------------------------------------------------------------\u001b[0m",
      "\u001b[1;31mKeyError\u001b[0m                                  Traceback (most recent call last)",
      "File \u001b[1;32m~\\AppData\\Roaming\\Python\\Python312\\site-packages\\qiskit\\result\\result.py:309\u001b[0m, in \u001b[0;36mResult.get_statevector\u001b[1;34m(self, experiment, decimals)\u001b[0m\n\u001b[0;32m    307\u001b[0m \u001b[38;5;28;01mtry\u001b[39;00m:\n\u001b[0;32m    308\u001b[0m     \u001b[38;5;28;01mreturn\u001b[39;00m postprocess\u001b[38;5;241m.\u001b[39mformat_statevector(\n\u001b[1;32m--> 309\u001b[0m         \u001b[38;5;28mself\u001b[39m\u001b[38;5;241m.\u001b[39mdata(experiment)[\u001b[38;5;124m\"\u001b[39m\u001b[38;5;124mstatevector\u001b[39m\u001b[38;5;124m\"\u001b[39m], decimals\u001b[38;5;241m=\u001b[39mdecimals\n\u001b[0;32m    310\u001b[0m     )\n\u001b[0;32m    311\u001b[0m \u001b[38;5;28;01mexcept\u001b[39;00m \u001b[38;5;167;01mKeyError\u001b[39;00m \u001b[38;5;28;01mas\u001b[39;00m ex:\n",
      "\u001b[1;31mKeyError\u001b[0m: 'statevector'",
      "\nThe above exception was the direct cause of the following exception:\n",
      "\u001b[1;31mQiskitError\u001b[0m                               Traceback (most recent call last)",
      "Cell \u001b[1;32mIn[29], line 77\u001b[0m\n\u001b[0;32m     75\u001b[0m compiled_circuit \u001b[38;5;241m=\u001b[39m transpile(quantum_circuit, simulator)\n\u001b[0;32m     76\u001b[0m result \u001b[38;5;241m=\u001b[39m simulator\u001b[38;5;241m.\u001b[39mrun(compiled_circuit)\u001b[38;5;241m.\u001b[39mresult()\n\u001b[1;32m---> 77\u001b[0m statevector \u001b[38;5;241m=\u001b[39m result\u001b[38;5;241m.\u001b[39mget_statevector()\n\u001b[0;32m     78\u001b[0m \u001b[38;5;66;03m# Step 4: Visualization and Verification\u001b[39;00m\n\u001b[0;32m     79\u001b[0m \u001b[38;5;28mprint\u001b[39m(\u001b[38;5;124m\"\u001b[39m\u001b[38;5;124mQuantum Statevector:\u001b[39m\u001b[38;5;124m\"\u001b[39m)\n",
      "File \u001b[1;32m~\\AppData\\Roaming\\Python\\Python312\\site-packages\\qiskit\\result\\result.py:312\u001b[0m, in \u001b[0;36mResult.get_statevector\u001b[1;34m(self, experiment, decimals)\u001b[0m\n\u001b[0;32m    308\u001b[0m     \u001b[38;5;28;01mreturn\u001b[39;00m postprocess\u001b[38;5;241m.\u001b[39mformat_statevector(\n\u001b[0;32m    309\u001b[0m         \u001b[38;5;28mself\u001b[39m\u001b[38;5;241m.\u001b[39mdata(experiment)[\u001b[38;5;124m\"\u001b[39m\u001b[38;5;124mstatevector\u001b[39m\u001b[38;5;124m\"\u001b[39m], decimals\u001b[38;5;241m=\u001b[39mdecimals\n\u001b[0;32m    310\u001b[0m     )\n\u001b[0;32m    311\u001b[0m \u001b[38;5;28;01mexcept\u001b[39;00m \u001b[38;5;167;01mKeyError\u001b[39;00m \u001b[38;5;28;01mas\u001b[39;00m ex:\n\u001b[1;32m--> 312\u001b[0m     \u001b[38;5;28;01mraise\u001b[39;00m QiskitError(\u001b[38;5;124mf\u001b[39m\u001b[38;5;124m'\u001b[39m\u001b[38;5;124mNo statevector for experiment \u001b[39m\u001b[38;5;124m\"\u001b[39m\u001b[38;5;132;01m{\u001b[39;00m\u001b[38;5;28mrepr\u001b[39m(experiment)\u001b[38;5;132;01m}\u001b[39;00m\u001b[38;5;124m\"\u001b[39m\u001b[38;5;124m'\u001b[39m) \u001b[38;5;28;01mfrom\u001b[39;00m \u001b[38;5;21;01mex\u001b[39;00m\n",
      "\u001b[1;31mQiskitError\u001b[0m: 'No statevector for experiment \"None\"'"
     ]
    }
   ],
   "source": [
    "import numpy as np\n",
    "from qiskit import  QuantumCircuit, transpile, assemble\n",
    "from qiskit_aer import AerSimulator\n",
    "#from qiskit.providers.aer import AerSimulator\n",
    "from qiskit.visualization import plot_histogram\n",
    "from qiskit.quantum_info import Statevector\n",
    "from skimage import io, color, transform\n",
    "import matplotlib.pyplot as plt\n",
    "\n",
    "# Step 1: Load and preprocess the Lena image\n",
    "def preprocess_image(image_path, size=(4, 4)):\n",
    "    # Load the image and convert to grayscale\n",
    "    image = io.imread(image_path)\n",
    "    grayscale = color.rgb2gray(image)\n",
    "    \n",
    "    # Resize the image to the specified size\n",
    "    resized = transform.resize(grayscale, size, anti_aliasing=True)\n",
    "    \n",
    "    # Flatten the image and normalize pixel values to [0, 1]\n",
    "    flattened = resized.flatten()\n",
    "    normalized = flattened / np.linalg.norm(flattened)\n",
    "    return normalized, resized\n",
    "\n",
    "# Path to Lena image (use a local path or URL to Lena image)\n",
    "image_path = 'lena.png'  # Replace with your Lena image file path\n",
    "pixel_data, resized_image = preprocess_image(image_path)\n",
    "\n",
    "# Display the resized image\n",
    "plt.imshow(resized_image, cmap='gray')\n",
    "plt.title(\"Resized Lena Image\")\n",
    "plt.axis('off')\n",
    "plt.show()\n",
    "\n",
    "# Step 2: Amplitude Embedding in Quantum Circuit\n",
    "def create_amplitude_embedding_circuit(pixel_data):\n",
    "    num_qubits = int(np.ceil(np.log2(len(pixel_data))))  # Determine required qubits\n",
    "    padded_data = np.pad(pixel_data, (0, 2**num_qubits - len(pixel_data)), 'constant')  # Pad to power of 2\n",
    "    \n",
    "    # Create a quantum circuit with the required qubits\n",
    "    circuit = QuantumCircuit(num_qubits)\n",
    "    \n",
    "    # Use the Statevector to initialize the quantum state with amplitudes\n",
    "    initial_state = Statevector(padded_data)\n",
    "    circuit.initialize(initial_state, circuit.qubits)\n",
    "    return circuit\n",
    "\n",
    "quantum_circuit = create_amplitude_embedding_circuit(pixel_data)\n",
    "\n",
    "# Step 3: Simulate the Quantum Circuit\n",
    "#simulator = AerSimulator()\n",
    "#compiled_circuit = transpile(qc, simulator)\n",
    "#result = simulator.run(compiled_circuit).result()\n",
    "\n",
    "# Define the AerSimulator backend\n",
    "#simulator = AerSimulator()\n",
    "\n",
    "# Transpile the circuit for the AerSimulator\n",
    "#t = transpile(quantum_circuit, simulator)\n",
    "\n",
    "# Execute the circuit\n",
    "#result = simulator.run(t).result()\n",
    "\n",
    "# Extract the statevector\n",
    "#statevector = result.get_statevector()\n",
    "\n",
    "\n",
    "#backend =  AerSimulator() #.get_backend('statevector_simulator')\n",
    "#t = transpile(quantum_circuit, backend)\n",
    "#qobj = assemble(t)\n",
    "#result = backend.run(qobj).result()\n",
    "#statevector = result.get_statevector()\n",
    "\n",
    "# Use the Qiskit Aer simulator to run the circuit\n",
    "simulator = AerSimulator()\n",
    "compiled_circuit = transpile(quantum_circuit, simulator)\n",
    "result = simulator.run(compiled_circuit).result()\n",
    "statevector = result.get_statevector()\n",
    "# Step 4: Visualization and Verification\n",
    "print(\"Quantum Statevector:\")\n",
    "print(result)\n",
    "\n",
    "# Show histogram of statevector probabilities\n",
    "probabilities = np.abs(result)**2\n",
    "plt.bar(range(len(probabilities)), probabilities)\n",
    "plt.title(\"Statevector Probabilities\")\n",
    "plt.xlabel(\"State Index\")\n",
    "plt.ylabel(\"Probability\")\n",
    "plt.show()"
   ]
  },
  {
   "cell_type": "code",
   "execution_count": null,
   "metadata": {},
   "outputs": [],
   "source": []
  }
 ],
 "metadata": {
  "kernelspec": {
   "display_name": "Python 3 (ipykernel)",
   "language": "python",
   "name": "python3"
  },
  "language_info": {
   "codemirror_mode": {
    "name": "ipython",
    "version": 3
   },
   "file_extension": ".py",
   "mimetype": "text/x-python",
   "name": "python",
   "nbconvert_exporter": "python",
   "pygments_lexer": "ipython3",
   "version": "3.12.7"
  }
 },
 "nbformat": 4,
 "nbformat_minor": 4
}
