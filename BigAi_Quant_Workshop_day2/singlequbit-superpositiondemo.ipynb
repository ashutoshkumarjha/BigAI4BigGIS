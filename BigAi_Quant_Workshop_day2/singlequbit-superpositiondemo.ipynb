{
 "cells": [
  {
   "cell_type": "code",
   "execution_count": null,
   "id": "f742ef7c-f90a-4849-9e8e-eec41e4b1ddc",
   "metadata": {},
   "outputs": [],
   "source": [
    "!pip install qiskit"
   ]
  },
  {
   "cell_type": "code",
   "execution_count": null,
   "id": "1b5488fa-c0df-42e8-a907-ba7eebc73787",
   "metadata": {},
   "outputs": [],
   "source": [
    "!pip install qiskit-aer"
   ]
  },
  {
   "cell_type": "code",
   "execution_count": null,
   "id": "748c44af-e9fc-444e-a875-c8bd957f5769",
   "metadata": {},
   "outputs": [],
   "source": [
    "!pip install pylatexenc "
   ]
  },
  {
   "cell_type": "raw",
   "id": "7a11a649-d748-4ea9-acc3-de6991918666",
   "metadata": {},
   "source": [
    "Basic Quantum Circuit\n",
    "Quantum computing is a revolutionary technology that leverages the principles of quantum mechanics to process information in fundamentally new ways. Unlike classical computers, which use bits to represent data as 0s or 1s, quantum computers use quantum bits, or qubits, which can exist in multiple states simultaneously thanks to superposition. This enables quantum computers to solve certain types of problems much faster than classical computers.\n",
    "\n",
    "Quantum computing has the potential to revolutionize fields such as cryptography, materials science, and complex system simulations. It could help us design new drugs, optimize supply chains, and even tackle climate change by modeling complex systems more efficiently.\n",
    "\n",
    "Here's a simple example in Qiskit, a popular quantum computing framework, to demonstrate a basic quantum circuit for superposition."
   ]
  },
  {
   "cell_type": "code",
   "execution_count": 1,
   "id": "4c1a8a26-fcfe-48f1-9bea-3957b114e1a1",
   "metadata": {},
   "outputs": [],
   "source": [
    "# Import necessary libraries\n",
    "from qiskit import QuantumCircuit,transpile\n",
    "from qiskit_aer import AerSimulator\n",
    "from qiskit.visualization import plot_histogram\n",
    "import matplotlib.pyplot as plt\n",
    "\n",
    "%matplotlib inline"
   ]
  },
  {
   "cell_type": "code",
   "execution_count": 2,
   "id": "2027c9bf-b39a-471d-b62d-3220f30d89ed",
   "metadata": {},
   "outputs": [],
   "source": [
    "# Create a Quantum Circuit with 1 qubit and 1 classical bit\n",
    "qc = QuantumCircuit(1, 1)"
   ]
  },
  {
   "cell_type": "code",
   "execution_count": 3,
   "id": "6dfeaa07-a3d1-419b-94fb-b7b5ddf5b369",
   "metadata": {},
   "outputs": [
    {
     "data": {
      "text/plain": [
       "<qiskit.circuit.instructionset.InstructionSet at 0x1773b7ac8e0>"
      ]
     },
     "execution_count": 3,
     "metadata": {},
     "output_type": "execute_result"
    }
   ],
   "source": [
    "# Apply a Hadamard gate to put the qubit into superposition\n",
    "qc.h(0)"
   ]
  },
  {
   "cell_type": "code",
   "execution_count": 4,
   "id": "1c85f2b8-d062-433e-8ccc-208e90eee984",
   "metadata": {},
   "outputs": [
    {
     "data": {
      "text/plain": [
       "<qiskit.circuit.instructionset.InstructionSet at 0x1773b7ac460>"
      ]
     },
     "execution_count": 4,
     "metadata": {},
     "output_type": "execute_result"
    }
   ],
   "source": [
    "# Measure the qubit\n",
    "qc.measure(0, 0)"
   ]
  },
  {
   "cell_type": "code",
   "execution_count": 5,
   "id": "fd5f7bec-1b46-4eac-a7d8-7b40e2260ea1",
   "metadata": {},
   "outputs": [],
   "source": [
    "# Use the Qiskit Aer simulator to run the circuit\n",
    "simulator = AerSimulator()\n",
    "compiled_circuit = transpile(qc, simulator)\n",
    "result = simulator.run(compiled_circuit).result()"
   ]
  },
  {
   "cell_type": "code",
   "execution_count": 6,
   "id": "5696b57f-5140-4c8e-bdd5-7ad033cce8d9",
   "metadata": {},
   "outputs": [
    {
     "name": "stdout",
     "output_type": "stream",
     "text": [
      "Counts: {'0': 522, '1': 502}\n"
     ]
    }
   ],
   "source": [
    "# Get the counts of outcomes\n",
    "counts = result.get_counts()\n",
    "print(\"Counts:\", counts)"
   ]
  },
  {
   "cell_type": "code",
   "execution_count": 7,
   "id": "bfb9f66d-c815-4061-8696-f34b6497ab6f",
   "metadata": {},
   "outputs": [
    {
     "name": "stdout",
     "output_type": "stream",
     "text": [
      "     ┌───┐┌─┐\n",
      "  q: ┤ H ├┤M├\n",
      "     └───┘└╥┘\n",
      "c: 1/══════╩═\n",
      "           0 \n"
     ]
    }
   ],
   "source": [
    "#Print circuit \n",
    "print(qc)"
   ]
  },
  {
   "cell_type": "code",
   "execution_count": 8,
   "id": "e0a9f556-dfda-447f-9db4-afc4840e8267",
   "metadata": {},
   "outputs": [
    {
     "data": {
      "image/png": "[encoded data removed]",
      "text/plain": [
       "<Figure size 269.064x200.667 with 1 Axes>"
      ]
     },
     "metadata": {},
     "output_type": "display_data"
    }
   ],
   "source": [
    "# Visualize the circuit\n",
    "qc.draw('mpl')\n",
    "plt.show()"
   ]
  },
  {
   "cell_type": "code",
   "execution_count": 9,
   "id": "7fd3b34d-4918-44ba-847c-0e507b1cf841",
   "metadata": {},
   "outputs": [
    {
     "data": {
      "image/png": "[encoded data removed]",
      "text/plain": [
       "<Figure size 640x480 with 1 Axes>"
      ]
     },
     "metadata": {},
     "output_type": "display_data"
    }
   ],
   "source": [
    "# Visualize the results\n",
    "plot_histogram(counts)\n",
    "plt.show()"
   ]
  },
  {
   "cell_type": "markdown",
   "id": "5f48110a-7f65-4805-a3e7-fceb86063d15",
   "metadata": {},
   "source": [
    "This simple quantum circuit applies a Hadamard gate to a qubit, creating a superposition of states, and then measures the result. Running th"
   ]
  },
  {
   "cell_type": "code",
   "execution_count": 62,
   "id": "1b28fb18-7074-426d-bb60-e24c37682489",
   "metadata": {},
   "outputs": [],
   "source": [
    "from qiskit import QuantumRegister, ClassicalRegister,QuantumCircuit"
   ]
  },
  {
   "cell_type": "code",
   "execution_count": 70,
   "id": "7872e5d2-3ea0-4c66-af77-a5911215140d",
   "metadata": {},
   "outputs": [],
   "source": [
    "qreg = QuantumRegister(3)  # 3 qubit register"
   ]
  },
  {
   "cell_type": "code",
   "execution_count": 71,
   "id": "ef806e9d-8aa2-4299-87d2-c835adc0c2cb",
   "metadata": {},
   "outputs": [],
   "source": [
    "creg = ClassicalRegister(3)   # 3 bit classical register"
   ]
  },
  {
   "cell_type": "code",
   "execution_count": 72,
   "id": "d313b148-16b6-4794-9200-604ab046da0a",
   "metadata": {},
   "outputs": [],
   "source": [
    "qc = QuantumCircuit(qreg,creg)  #create a circuit"
   ]
  },
  {
   "cell_type": "code",
   "execution_count": 73,
   "id": "5a1dc590-0759-4016-b4bd-eb754930f62c",
   "metadata": {},
   "outputs": [
    {
     "data": {
      "text/plain": [
       "<qiskit.circuit.instructionset.InstructionSet at 0x177796258d0>"
      ]
     },
     "execution_count": 73,
     "metadata": {},
     "output_type": "execute_result"
    }
   ],
   "source": [
    "qc.measure(qreg,creg) #measure all qubits"
   ]
  },
  {
   "cell_type": "code",
   "execution_count": 67,
   "id": "ac4d30b5-f086-40ca-adcc-05623e87a0f6",
   "metadata": {},
   "outputs": [],
   "source": [
    "#from qiskit import Aer,execute\n",
    "from qiskit_aer import AerSimulator\n",
    "from qiskit.visualization import plot_histogram"
   ]
  },
  {
   "cell_type": "code",
   "execution_count": 68,
   "id": "b1f8168d-19f5-45c3-b1fc-932cacb07b72",
   "metadata": {},
   "outputs": [
    {
     "name": "stdout",
     "output_type": "stream",
     "text": [
      "{'000': 1024}\n"
     ]
    },
    {
     "data": {
      "image/png": "[encoded data removed]",
      "text/plain": [
       "<Figure size 640x480 with 1 Axes>"
      ]
     },
     "execution_count": 68,
     "metadata": {},
     "output_type": "execute_result"
    }
   ],
   "source": [
    "# Use the Qiskit Aer simulator to run the circuit\n",
    "simulator = AerSimulator()\n",
    "compiled_circuit = transpile(qc, simulator)\n",
    "result = simulator.run(compiled_circuit).result()\n",
    "\n",
    "print(result.get_counts())\n",
    "plot_histogram(result.get_counts())"
   ]
  },
  {
   "cell_type": "code",
   "execution_count": 75,
   "id": "1ad27058-1e52-485d-a108-b63f3326e38e",
   "metadata": {},
   "outputs": [
    {
     "name": "stdout",
     "output_type": "stream",
     "text": [
      "{'000': 1024}\n"
     ]
    },
    {
     "data": {
      "image/png": "[encoded data removed]",
      "text/plain": [
       "<Figure size 640x480 with 1 Axes>"
      ]
     },
     "execution_count": 75,
     "metadata": {},
     "output_type": "execute_result"
    }
   ],
   "source": [
    "from qiskit import QuantumRegister, ClassicalRegister,QuantumCircuit\n",
    "from qiskit_aer import Aer\n",
    "q = QuantumRegister(3)\n",
    "c = ClassicalRegister(3)\n",
    "qc = QuantumCircuit(q,c)\n",
    "qc.measure(q,c)\n",
    "simulator = Aer.get_backend('qasm_simulator',shots=512)  #shots default = 1024\n",
    "job = transpile(qc,simulator)#,shots=512)  #shots default = 1024\n",
    "result = simulator.run(job).result() \n",
    "print(result.get_counts())\n",
    "plot_histogram(result.get_counts())"
   ]
  },
  {
   "cell_type": "code",
   "execution_count": 78,
   "id": "6f564e4e-1477-4210-a621-43f15ff53eb5",
   "metadata": {
    "scrolled": true
   },
   "outputs": [
    {
     "name": "stdout",
     "output_type": "stream",
     "text": [
      "{'000': 1}\n"
     ]
    },
    {
     "data": {
      "image/png": "[encoded data removed]",
      "text/plain": [
       "<Figure size 640x480 with 1 Axes>"
      ]
     },
     "execution_count": 78,
     "metadata": {},
     "output_type": "execute_result"
    }
   ],
   "source": [
    "from qiskit import QuantumRegister, ClassicalRegister,QuantumCircuit\n",
    "from qiskit_aer import Aer\n",
    "q = QuantumRegister(3)\n",
    "c = ClassicalRegister(3)\n",
    "qc = QuantumCircuit(q,c)\n",
    "qc.measure(q,c)\n",
    "simulator = Aer.get_backend('statevector_simulator',shots=512)  #shots default = 1024\n",
    "job = transpile(qc,simulator)#,shots=512)  #shots default = 1024\n",
    "result = simulator.run(job).result() \n",
    "print(result.get_counts())\n",
    "plot_histogram(result.get_counts())\n"
   ]
  },
  {
   "cell_type": "code",
   "execution_count": 82,
   "id": "09c18492-7f1f-4912-93d5-306e17fbd054",
   "metadata": {},
   "outputs": [
    {
     "ename": "AttributeError",
     "evalue": "'AerProvider' object has no attribute 'get_backends'",
     "output_type": "error",
     "traceback": [
      "\u001b[1;31m---------------------------------------------------------------------------\u001b[0m",
      "\u001b[1;31mAttributeError\u001b[0m                            Traceback (most recent call last)",
      "Cell \u001b[1;32mIn[82], line 7\u001b[0m\n\u001b[0;32m      5\u001b[0m qc \u001b[38;5;241m=\u001b[39m QuantumCircuit(q,c)\n\u001b[0;32m      6\u001b[0m qc\u001b[38;5;241m.\u001b[39mmeasure(q,c)\n\u001b[1;32m----> 7\u001b[0m \u001b[38;5;28mprint\u001b[39m(Aer\u001b[38;5;241m.\u001b[39mget_backends())\n\u001b[0;32m      8\u001b[0m simulator \u001b[38;5;241m=\u001b[39m Aer\u001b[38;5;241m.\u001b[39mget_backend(\u001b[38;5;124m'\u001b[39m\u001b[38;5;124mibm_qasm_simulator\u001b[39m\u001b[38;5;124m'\u001b[39m,shots\u001b[38;5;241m=\u001b[39m\u001b[38;5;241m512\u001b[39m)  \u001b[38;5;66;03m#shots default = 1024\u001b[39;00m\n\u001b[0;32m      9\u001b[0m job \u001b[38;5;241m=\u001b[39m transpile(qc,simulator)\u001b[38;5;66;03m#,shots=512)  #shots default = 1024\u001b[39;00m\n",
      "\u001b[1;31mAttributeError\u001b[0m: 'AerProvider' object has no attribute 'get_backends'"
     ]
    }
   ],
   "source": [
    "from qiskit import QuantumRegister, ClassicalRegister,QuantumCircuit\n",
    "from qiskit_aer import Aer\n",
    "q = QuantumRegister(3)\n",
    "c = ClassicalRegister(3)\n",
    "qc = QuantumCircuit(q,c)\n",
    "qc.measure(q,c)\n",
    "print(Aer.get_backends())\n",
    "simulator = Aer.get_backend('ibm_qasm_simulator',shots=512)  #shots default = 1024\n",
    "job = transpile(qc,simulator)#,shots=512)  #shots default = 1024\n",
    "result = simulator.run(job).result() \n",
    "print(result.get_counts())\n",
    "plot_histogram(result.get_counts())"
   ]
  },
  {
   "cell_type": "code",
   "execution_count": null,
   "id": "8bad797a-2aa9-4e63-94fd-01cdda980bd4",
   "metadata": {},
   "outputs": [],
   "source": []
  }
 ],
 "metadata": {
  "kernelspec": {
   "display_name": "Python 3 (ipykernel)",
   "language": "python",
   "name": "python3"
  },
  "language_info": {
   "codemirror_mode": {
    "name": "ipython",
    "version": 3
   },
   "file_extension": ".py",
   "mimetype": "text/x-python",
   "name": "python",
   "nbconvert_exporter": "python",
   "pygments_lexer": "ipython3",
   "version": "3.12.7"
  }
 },
 "nbformat": 4,
 "nbformat_minor": 5
}
